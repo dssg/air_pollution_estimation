{
 "cells": [
  {
   "cell_type": "markdown",
   "metadata": {},
   "source": [
    "# Imports"
   ]
  },
  {
   "cell_type": "code",
   "execution_count": 1,
   "metadata": {
    "collapsed": true
   },
   "outputs": [],
   "source": [
    "import os\n",
    "import sys\n",
    "import configparser\n",
    "import ast"
   ]
  },
  {
   "cell_type": "code",
   "execution_count": 2,
   "metadata": {
    "collapsed": true
   },
   "outputs": [],
   "source": [
    "setup_dir = os.path.join(os.getcwd(), '..')\n",
    "src_dir = os.path.join(setup_dir, 'src')\n",
    "sys.path.append(src_dir)"
   ]
  },
  {
   "cell_type": "code",
   "execution_count": 3,
   "metadata": {
    "collapsed": true
   },
   "outputs": [],
   "source": [
    "from d01_data.collect_video_data import collect_video_data\n",
    "from d01_data.collect_tims_data import get_tims_data_and_upload_to_s3"
   ]
  },
  {
   "cell_type": "markdown",
   "metadata": {},
   "source": [
    "# Config"
   ]
  },
  {
   "cell_type": "code",
   "execution_count": 4,
   "metadata": {},
   "outputs": [],
   "source": [
    "# credentials\n",
    "config = configparser.ConfigParser()\n",
    "config.read(os.path.join(setup_dir, 'conf', 'local', 'credentials.yml'))\n",
    "config.read(os.path.join(setup_dir, 'conf', 'base', 'parameters.yml'))\n",
    "\n",
    "# local data folder\n",
    "video_dir = os.path.join(setup_dir, 'data', '01_raw', 'video_data')\n",
    "tims_dir = os.path.join(setup_dir, 'data', '01_raw', 'tims')"
   ]
  },
  {
   "cell_type": "markdown",
   "metadata": {},
   "source": [
    "# Collect data"
   ]
  },
  {
   "cell_type": "code",
   "execution_count": 5,
   "metadata": {},
   "outputs": [
    {
     "ename": "TypeError",
     "evalue": "collect_video_data() got an unexpected keyword argument 'website'",
     "output_type": "error",
     "traceback": [
      "\u001b[0;31m---------------------------------------------------------------------------\u001b[0m",
      "\u001b[0;31mTypeError\u001b[0m                                 Traceback (most recent call last)",
      "\u001b[0;32m<ipython-input-5-11b0b6649940>\u001b[0m in \u001b[0;36m<module>\u001b[0;34m\u001b[0m\n\u001b[1;32m      3\u001b[0m                    \u001b[0mcamera_list\u001b[0m\u001b[0;34m=\u001b[0m\u001b[0mast\u001b[0m\u001b[0;34m.\u001b[0m\u001b[0mliteral_eval\u001b[0m\u001b[0;34m(\u001b[0m\u001b[0mconfig\u001b[0m\u001b[0;34m.\u001b[0m\u001b[0mget\u001b[0m\u001b[0;34m(\u001b[0m\u001b[0;34m'DATA_COLLECTION'\u001b[0m\u001b[0;34m,\u001b[0m\u001b[0;34m'camera_list'\u001b[0m\u001b[0;34m)\u001b[0m\u001b[0;34m)\u001b[0m\u001b[0;34m,\u001b[0m\u001b[0;34m\u001b[0m\u001b[0;34m\u001b[0m\u001b[0m\n\u001b[1;32m      4\u001b[0m                    \u001b[0mwebsite\u001b[0m \u001b[0;34m=\u001b[0m \u001b[0mast\u001b[0m\u001b[0;34m.\u001b[0m\u001b[0mliteral_eval\u001b[0m\u001b[0;34m(\u001b[0m\u001b[0mconfig\u001b[0m\u001b[0;34m.\u001b[0m\u001b[0mget\u001b[0m\u001b[0;34m(\u001b[0m\u001b[0;34m'DATA_COLLECTION'\u001b[0m\u001b[0;34m,\u001b[0m \u001b[0;34m'jam_cam_website'\u001b[0m\u001b[0;34m)\u001b[0m\u001b[0;34m)\u001b[0m\u001b[0;34m,\u001b[0m\u001b[0;34m\u001b[0m\u001b[0;34m\u001b[0m\u001b[0m\n\u001b[0;32m----> 5\u001b[0;31m                    num_iterations = 2)\n\u001b[0m",
      "\u001b[0;31mTypeError\u001b[0m: collect_video_data() got an unexpected keyword argument 'website'"
     ]
    }
   ],
   "source": [
    "# videos\n",
    "collect_video_data(local_video_dir=video_dir,\n",
    "                   camera_list=ast.literal_eval(config.get('DATA_COLLECTION','camera_list')), \n",
    "                   website = ast.literal_eval(config.get('DATA_COLLECTION', 'jam_cam_website')),\n",
    "                   num_iterations = 2)"
   ]
  },
  {
   "cell_type": "code",
   "execution_count": null,
   "metadata": {},
   "outputs": [],
   "source": [
    "# tims data\n",
    "get_tims_data_and_upload_to_s3(local_tims_dir = tims_dir,\n",
    "                              file_website = ast.literal_eval(config.get('DATA_COLLECTION', 'tims_file_website')),\n",
    "                              download_website = ast.literal_eval(config.get('DATA_COLLECTION', 'tims_download_website')))    \n",
    "    "
   ]
  },
  {
   "cell_type": "code",
   "execution_count": null,
   "metadata": {
    "collapsed": true
   },
   "outputs": [],
   "source": []
  }
 ],
 "metadata": {
  "kernelspec": {
   "display_name": "air-quality",
   "language": "python",
   "name": "air-quality"
  },
  "language_info": {
   "codemirror_mode": {
    "name": "ipython",
    "version": 3
   },
   "file_extension": ".py",
   "mimetype": "text/x-python",
   "name": "python",
   "nbconvert_exporter": "python",
   "pygments_lexer": "ipython3",
   "version": "3.7.3"
  }
 },
 "nbformat": 4,
 "nbformat_minor": 2
}
