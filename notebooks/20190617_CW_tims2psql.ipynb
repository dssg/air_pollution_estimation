{
 "cells": [
  {
   "cell_type": "markdown",
   "metadata": {},
   "source": [
    "## Create Table with TIMS data \n",
    "\n",
    "##### June 17, 2019"
   ]
  },
  {
   "cell_type": "markdown",
   "metadata": {},
   "source": [
    "In this notebook, we are prototyping code to \n",
    "1. Create a PSQL table with the TIMS data. \n",
    "2. Update the PSQL table with all new csv files "
   ]
  },
  {
   "cell_type": "code",
   "execution_count": 36,
   "metadata": {},
   "outputs": [],
   "source": [
    "import pandas as pd\n",
    "import numpy as np\n",
    "import sys, os\n",
    "import boto3\n",
    "import pyproj\n",
    "import datetime\n",
    "\n",
    "basepath = os.getcwd() #path of current script"
   ]
  },
  {
   "cell_type": "markdown",
   "metadata": {},
   "source": [
    "List TIMS data from S3"
   ]
  },
  {
   "cell_type": "code",
   "execution_count": 37,
   "metadata": {},
   "outputs": [],
   "source": [
    "s3_session = boto3.Session(profile_name='dssg')\n",
    "bucket_name = 'air-pollution-uk'\n",
    "\n",
    "s3_resource = s3_session.resource('s3')\n",
    "\n",
    "my_bucket = s3_resource.Bucket(bucket_name)\n"
   ]
  },
  {
   "cell_type": "code",
   "execution_count": 38,
   "metadata": {},
   "outputs": [],
   "source": [
    "objects = my_bucket.objects.filter(Prefix=\"raw/tims_data/\")\n"
   ]
  },
  {
   "cell_type": "markdown",
   "metadata": {},
   "source": [
    "#### Check number of videos pulled per month\n",
    "\n",
    "Speculation: All the videos are pulled for the 1st day of each month. "
   ]
  },
  {
   "cell_type": "code",
   "execution_count": 39,
   "metadata": {},
   "outputs": [
    {
     "name": "stdout",
     "output_type": "stream",
     "text": [
      "01012019 96\n",
      "01022019 96\n",
      "01032019 96\n",
      "01042019 90\n"
     ]
    }
   ],
   "source": [
    "date_current = datetime.date(2019, 1, 1)\n",
    "date_end = datetime.date(2019, 1, 4)\n",
    "day = datetime.timedelta(days=1)\n",
    "\n",
    "while date_current <= date_end:\n",
    "    counter = 0\n",
    "    for obj in objects:\n",
    "        filepath = obj.key\n",
    "        filename = filepath.split(\"/\")[-1]\n",
    "        prefix = \"detdata\" + date_current.strftime('%m%d%Y')\n",
    "        if filename.startswith(prefix):\n",
    "            counter+=1\n",
    "    print(date_current.strftime(ls\n",
    "                                '%m%d%Y'), counter)\n",
    "    \n",
    "    date_current += day"
   ]
  },
  {
   "cell_type": "code",
   "execution_count": 40,
   "metadata": {},
   "outputs": [
    {
     "data": {
      "text/html": [
       "<div>\n",
       "<style scoped>\n",
       "    .dataframe tbody tr th:only-of-type {\n",
       "        vertical-align: middle;\n",
       "    }\n",
       "\n",
       "    .dataframe tbody tr th {\n",
       "        vertical-align: top;\n",
       "    }\n",
       "\n",
       "    .dataframe thead th {\n",
       "        text-align: right;\n",
       "    }\n",
       "</style>\n",
       "<table border=\"1\" class=\"dataframe\">\n",
       "  <thead>\n",
       "    <tr style=\"text-align: right;\">\n",
       "      <th></th>\n",
       "      <th>TIMESTAMP</th>\n",
       "      <th>NODE</th>\n",
       "      <th>EASTING</th>\n",
       "      <th>NORTHING</th>\n",
       "      <th>FLOW_ACTUAL_15M</th>\n",
       "      <th>SAT_BANDINGS</th>\n",
       "      <th>DETECTOR_NO</th>\n",
       "      <th>TOTAL_DETECTOR_NO</th>\n",
       "      <th>DETECTOR_RATE</th>\n",
       "    </tr>\n",
       "  </thead>\n",
       "  <tbody>\n",
       "    <tr>\n",
       "      <th>0</th>\n",
       "      <td>2019-04-01T20:21:00Z</td>\n",
       "      <td>10/114</td>\n",
       "      <td>528894.67</td>\n",
       "      <td>177070.33</td>\n",
       "      <td>211</td>\n",
       "      <td>0-79%</td>\n",
       "      <td>4</td>\n",
       "      <td>4</td>\n",
       "      <td>1.0</td>\n",
       "    </tr>\n",
       "    <tr>\n",
       "      <th>1</th>\n",
       "      <td>2019-04-01T20:21:00Z</td>\n",
       "      <td>10/115</td>\n",
       "      <td>528385.87</td>\n",
       "      <td>173071.87</td>\n",
       "      <td>382</td>\n",
       "      <td>0-79%</td>\n",
       "      <td>1</td>\n",
       "      <td>1</td>\n",
       "      <td>1.0</td>\n",
       "    </tr>\n",
       "    <tr>\n",
       "      <th>2</th>\n",
       "      <td>2019-04-01T20:21:00Z</td>\n",
       "      <td>10/116</td>\n",
       "      <td>528399.50</td>\n",
       "      <td>173073.96</td>\n",
       "      <td>407</td>\n",
       "      <td>0-79%</td>\n",
       "      <td>1</td>\n",
       "      <td>1</td>\n",
       "      <td>1.0</td>\n",
       "    </tr>\n",
       "    <tr>\n",
       "      <th>3</th>\n",
       "      <td>2019-04-01T20:21:00Z</td>\n",
       "      <td>10/117</td>\n",
       "      <td>528294.39</td>\n",
       "      <td>172880.22</td>\n",
       "      <td>226</td>\n",
       "      <td>0-79%</td>\n",
       "      <td>2</td>\n",
       "      <td>2</td>\n",
       "      <td>1.0</td>\n",
       "    </tr>\n",
       "    <tr>\n",
       "      <th>4</th>\n",
       "      <td>2019-04-01T20:21:00Z</td>\n",
       "      <td>10/118</td>\n",
       "      <td>528306.71</td>\n",
       "      <td>172882.36</td>\n",
       "      <td>444</td>\n",
       "      <td>0-79%</td>\n",
       "      <td>1</td>\n",
       "      <td>1</td>\n",
       "      <td>1.0</td>\n",
       "    </tr>\n",
       "  </tbody>\n",
       "</table>\n",
       "</div>"
      ],
      "text/plain": [
       "              TIMESTAMP    NODE    EASTING   NORTHING  FLOW_ACTUAL_15M  \\\n",
       "0  2019-04-01T20:21:00Z  10/114  528894.67  177070.33              211   \n",
       "1  2019-04-01T20:21:00Z  10/115  528385.87  173071.87              382   \n",
       "2  2019-04-01T20:21:00Z  10/116  528399.50  173073.96              407   \n",
       "3  2019-04-01T20:21:00Z  10/117  528294.39  172880.22              226   \n",
       "4  2019-04-01T20:21:00Z  10/118  528306.71  172882.36              444   \n",
       "\n",
       "  SAT_BANDINGS  DETECTOR_NO  TOTAL_DETECTOR_NO  DETECTOR_RATE  \n",
       "0        0-79%            4                  4            1.0  \n",
       "1        0-79%            1                  1            1.0  \n",
       "2        0-79%            1                  1            1.0  \n",
       "3        0-79%            2                  2            1.0  \n",
       "4        0-79%            1                  1            1.0  "
      ]
     },
     "execution_count": 40,
     "metadata": {},
     "output_type": "execute_result"
    }
   ],
   "source": [
    "#check a csv \n",
    "s3_client = s3_session.client('s3')\n",
    "csv_obj = s3_client.get_object(Bucket=bucket_name, Key='raw/tims_data/detdata01042019-213027.csv')\n",
    "initial_df = pd.read_csv(csv_obj['Body']) # 'Body' is a key word\n",
    "initial_df.head()"
   ]
  }
 ],
 "metadata": {
  "kernelspec": {
   "display_name": "dssg",
   "language": "python",
   "name": "dssg"
  },
  "language_info": {
   "codemirror_mode": {
    "name": "ipython",
    "version": 3
   },
   "file_extension": ".py",
   "mimetype": "text/x-python",
   "name": "python",
   "nbconvert_exporter": "python",
   "pygments_lexer": "ipython3",
   "version": "3.7.3"
  }
 },
 "nbformat": 4,
 "nbformat_minor": 2
}
