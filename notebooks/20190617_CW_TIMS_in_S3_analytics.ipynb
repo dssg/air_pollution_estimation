{
 "cells": [
  {
   "cell_type": "markdown",
   "metadata": {},
   "source": [
    "## Pull TIMS from S3\n",
    "\n",
    "##### June 17, 2019"
   ]
  },
  {
   "cell_type": "markdown",
   "metadata": {},
   "source": [
    "In this notebook, we are prototyping code to get the TIMS data from the S3 bucket "
   ]
  },
  {
   "cell_type": "code",
   "execution_count": 3,
   "metadata": {},
   "outputs": [],
   "source": [
    "import pandas as pd\n",
    "import numpy as np\n",
    "import sys, os\n",
    "import boto3\n",
    "import pyproj\n",
    "import datetime\n",
    "import re\n",
    "from collections import defaultdict\n",
    "import matplotlib.pyplot as plt\n",
    "\n",
    "%matplotlib inline\n",
    "basepath = os.getcwd() #path of current script"
   ]
  },
  {
   "cell_type": "markdown",
   "metadata": {},
   "source": [
    "List TIMS data from S3"
   ]
  },
  {
   "cell_type": "code",
   "execution_count": 4,
   "metadata": {},
   "outputs": [],
   "source": [
    "s3_session = boto3.Session(profile_name='dssg')\n",
    "bucket_name = 'air-pollution-uk'\n",
    "\n",
    "s3_resource = s3_session.resource('s3')\n",
    "\n",
    "my_bucket = s3_resource.Bucket(bucket_name)\n",
    "objects = my_bucket.objects.filter(Prefix=\"raw/tims_data/\")\n"
   ]
  },
  {
   "cell_type": "markdown",
   "metadata": {},
   "source": [
    "#### Check number of CSVs pulled per month\n",
    "\n",
    "Speculation: All the csvs are pulled for the 1st day of each month. "
   ]
  },
  {
   "cell_type": "code",
   "execution_count": 13,
   "metadata": {},
   "outputs": [],
   "source": [
    "# selected_files = []\n",
    "filepaths = [obj.key for obj in objects]\n",
    "datecounter_dict = defaultdict(int)\n",
    "\n",
    "for fp in filepaths:\n",
    "    #get dates for each fp\n",
    "    filename = fp.split(\"/\")[-1]\n",
    "    if filename.startswith(\"detdata\"):\n",
    "        date_str = re.search(\"(detdata)([0-9]*)\", filename).group()\n",
    "        datecounter_dict[date_str] +=1\n",
    "    \n",
    "dates = []\n",
    "counts = []\n",
    "for key in datecounter_dict: \n",
    "    #recall dmy\n",
    "    dd, mm,YYYY = key[0:2], key[2:4], key[4:]\n",
    "    formatted_date = YYYY + \"-\" + mm + \"-\" + dd\n",
    "    dates.append(formatted_date)\n",
    "    counts.append(datecounter_dict[key])\n"
   ]
  },
  {
   "cell_type": "code",
   "execution_count": 12,
   "metadata": {},
   "outputs": [
    {
     "data": {
      "image/png": "[encoded data removed]",
      "text/plain": [
       "<Figure size 432x288 with 1 Axes>"
      ]
     },
     "metadata": {
      "needs_background": "light"
     },
     "output_type": "display_data"
    }
   ],
   "source": [
    "plt.figure()\n",
    "plt.bar(np.arange(len(dates)), counts)\n",
    "plt.bar(dates, counts)\n",
    "\n",
    "plt.xticks(np.arange(len(dates)), dates, rotation='vertical')\n",
    "plt.xlabel('Date (YYYY-mm-dd)')\n",
    "plt.ylabel('Number of CSVs')\n",
    "plt.tight_layout()\n",
    "# plt.savefig(os.path.join(os.path.dirname(os.path.realpath(__file__)),\n",
    "#                                   '..', '..', 'plots/01_exploratory/s3_description.pdf'))\n",
    "plt.show()\n",
    "plt.close()\n",
    "\n"
   ]
  },
  {
   "cell_type": "markdown",
   "metadata": {},
   "source": [
    "#### Look at a csv from the S3 Bucket "
   ]
  },
  {
   "cell_type": "code",
   "execution_count": 40,
   "metadata": {},
   "outputs": [
    {
     "data": {
      "text/html": [
       "<div>\n",
       "<style scoped>\n",
       "    .dataframe tbody tr th:only-of-type {\n",
       "        vertical-align: middle;\n",
       "    }\n",
       "\n",
       "    .dataframe tbody tr th {\n",
       "        vertical-align: top;\n",
       "    }\n",
       "\n",
       "    .dataframe thead th {\n",
       "        text-align: right;\n",
       "    }\n",
       "</style>\n",
       "<table border=\"1\" class=\"dataframe\">\n",
       "  <thead>\n",
       "    <tr style=\"text-align: right;\">\n",
       "      <th></th>\n",
       "      <th>TIMESTAMP</th>\n",
       "      <th>NODE</th>\n",
       "      <th>EASTING</th>\n",
       "      <th>NORTHING</th>\n",
       "      <th>FLOW_ACTUAL_15M</th>\n",
       "      <th>SAT_BANDINGS</th>\n",
       "      <th>DETECTOR_NO</th>\n",
       "      <th>TOTAL_DETECTOR_NO</th>\n",
       "      <th>DETECTOR_RATE</th>\n",
       "    </tr>\n",
       "  </thead>\n",
       "  <tbody>\n",
       "    <tr>\n",
       "      <th>0</th>\n",
       "      <td>2019-04-01T20:21:00Z</td>\n",
       "      <td>10/114</td>\n",
       "      <td>528894.67</td>\n",
       "      <td>177070.33</td>\n",
       "      <td>211</td>\n",
       "      <td>0-79%</td>\n",
       "      <td>4</td>\n",
       "      <td>4</td>\n",
       "      <td>1.0</td>\n",
       "    </tr>\n",
       "    <tr>\n",
       "      <th>1</th>\n",
       "      <td>2019-04-01T20:21:00Z</td>\n",
       "      <td>10/115</td>\n",
       "      <td>528385.87</td>\n",
       "      <td>173071.87</td>\n",
       "      <td>382</td>\n",
       "      <td>0-79%</td>\n",
       "      <td>1</td>\n",
       "      <td>1</td>\n",
       "      <td>1.0</td>\n",
       "    </tr>\n",
       "    <tr>\n",
       "      <th>2</th>\n",
       "      <td>2019-04-01T20:21:00Z</td>\n",
       "      <td>10/116</td>\n",
       "      <td>528399.50</td>\n",
       "      <td>173073.96</td>\n",
       "      <td>407</td>\n",
       "      <td>0-79%</td>\n",
       "      <td>1</td>\n",
       "      <td>1</td>\n",
       "      <td>1.0</td>\n",
       "    </tr>\n",
       "    <tr>\n",
       "      <th>3</th>\n",
       "      <td>2019-04-01T20:21:00Z</td>\n",
       "      <td>10/117</td>\n",
       "      <td>528294.39</td>\n",
       "      <td>172880.22</td>\n",
       "      <td>226</td>\n",
       "      <td>0-79%</td>\n",
       "      <td>2</td>\n",
       "      <td>2</td>\n",
       "      <td>1.0</td>\n",
       "    </tr>\n",
       "    <tr>\n",
       "      <th>4</th>\n",
       "      <td>2019-04-01T20:21:00Z</td>\n",
       "      <td>10/118</td>\n",
       "      <td>528306.71</td>\n",
       "      <td>172882.36</td>\n",
       "      <td>444</td>\n",
       "      <td>0-79%</td>\n",
       "      <td>1</td>\n",
       "      <td>1</td>\n",
       "      <td>1.0</td>\n",
       "    </tr>\n",
       "  </tbody>\n",
       "</table>\n",
       "</div>"
      ],
      "text/plain": [
       "              TIMESTAMP    NODE    EASTING   NORTHING  FLOW_ACTUAL_15M  \\\n",
       "0  2019-04-01T20:21:00Z  10/114  528894.67  177070.33              211   \n",
       "1  2019-04-01T20:21:00Z  10/115  528385.87  173071.87              382   \n",
       "2  2019-04-01T20:21:00Z  10/116  528399.50  173073.96              407   \n",
       "3  2019-04-01T20:21:00Z  10/117  528294.39  172880.22              226   \n",
       "4  2019-04-01T20:21:00Z  10/118  528306.71  172882.36              444   \n",
       "\n",
       "  SAT_BANDINGS  DETECTOR_NO  TOTAL_DETECTOR_NO  DETECTOR_RATE  \n",
       "0        0-79%            4                  4            1.0  \n",
       "1        0-79%            1                  1            1.0  \n",
       "2        0-79%            1                  1            1.0  \n",
       "3        0-79%            2                  2            1.0  \n",
       "4        0-79%            1                  1            1.0  "
      ]
     },
     "execution_count": 40,
     "metadata": {},
     "output_type": "execute_result"
    }
   ],
   "source": [
    "#check a csv \n",
    "s3_client = s3_session.client('s3')\n",
    "csv_obj = s3_client.get_object(Bucket=bucket_name, Key='raw/tims_data/detdata01042019-213027.csv')\n",
    "initial_df = pd.read_csv(csv_obj['Body']) # 'Body' is a key word\n",
    "initial_df.head()"
   ]
  },
  {
   "cell_type": "markdown",
   "metadata": {},
   "source": [
    "### Get CSVs between certain date range "
   ]
  },
  {
   "cell_type": "code",
   "execution_count": 33,
   "metadata": {},
   "outputs": [],
   "source": [
    "def retrieve_tims_from_s3(from_date='2019-06-01', to_date=str(datetime.datetime.now())[:10]):\n",
    "    #typecast from and to dates \n",
    "    from_YYYY, from_mm, from_dd = from_date.split(\"-\")\n",
    "    from_date = datetime.date(year = int(from_YYYY), month = int(from_mm), day = int(from_dd))\n",
    "    to_YYYY, to_mm, to_dd = to_date.split(\"-\")\n",
    "    to_date = datetime.date(year = int(to_YYYY), month = int(to_mm), day = int(to_dd))\n",
    "\n",
    "    #names and paths \n",
    "    bucket_name = 'air-pollution-uk'\n",
    "    tims_path = 'raw/tims_data/' \n",
    "\n",
    "    #setup s3 retrieval with boto3\n",
    "    s3_session = boto3.Session(profile_name='dssg')\n",
    "    s3_client = s3_session.client('s3')\n",
    "    s3_resource = s3_session.resource('s3')\n",
    "\n",
    "    my_bucket =  s3_resource.Bucket(bucket_name)\n",
    "\n",
    "    #get names of all tims files in s3 based on provided dates\n",
    "    objects = my_bucket.objects.filter(Prefix=tims_path)\n",
    "\n",
    "    # Get list of files in s3 based on dates provided\n",
    "\n",
    "    selected_files = []\n",
    "    filepaths = [obj.key for obj in objects]\n",
    "    for fp in filepaths:\n",
    "        #get dates for each fp\n",
    "        filename = fp.split(\"/\")[-1]\n",
    "        date_str = re.search(\"(detdata)([0-9]*)\", filename).group(2)\n",
    "        dd, mm, YYYY = \"\", \"\", \"\"\n",
    "        dd, mm,YYYY = int(dd.join(date_str[0:2])), int(mm.join(date_str[2:4])), int(YYYY.join(date_str[4:]))\n",
    "        filedate = datetime.date(year=YYYY, month=mm, day=dd )\n",
    "\n",
    "        if (filedate >= from_date and filedate <= to_date):\n",
    "            selected_files.append(fp)\n",
    "\n",
    "\n",
    "    #loop through selected files, retrieve csv obj from S3 bucket using the selected filepaths\n",
    "    df_list = []\n",
    "    for fp in selected_files: \n",
    "        csv_obj = s3_client.get_object(Bucket=bucket_name, Key=fp)\n",
    "        #convert to pandas df\n",
    "        df_list.append(pd.read_csv(csv_obj['Body'])) \n",
    "\n",
    "\n",
    "    return pd.concat(df_list)\n"
   ]
  },
  {
   "cell_type": "code",
   "execution_count": 35,
   "metadata": {},
   "outputs": [
    {
     "data": {
      "text/html": [
       "<div>\n",
       "<style scoped>\n",
       "    .dataframe tbody tr th:only-of-type {\n",
       "        vertical-align: middle;\n",
       "    }\n",
       "\n",
       "    .dataframe tbody tr th {\n",
       "        vertical-align: top;\n",
       "    }\n",
       "\n",
       "    .dataframe thead th {\n",
       "        text-align: right;\n",
       "    }\n",
       "</style>\n",
       "<table border=\"1\" class=\"dataframe\">\n",
       "  <thead>\n",
       "    <tr style=\"text-align: right;\">\n",
       "      <th></th>\n",
       "      <th>TIMESTAMP</th>\n",
       "      <th>NODE</th>\n",
       "      <th>EASTING</th>\n",
       "      <th>NORTHING</th>\n",
       "      <th>FLOW_ACTUAL_15M</th>\n",
       "      <th>SAT_BANDINGS</th>\n",
       "      <th>DETECTOR_NO</th>\n",
       "      <th>TOTAL_DETECTOR_NO</th>\n",
       "      <th>DETECTOR_RATE</th>\n",
       "    </tr>\n",
       "  </thead>\n",
       "  <tbody>\n",
       "    <tr>\n",
       "      <th>0</th>\n",
       "      <td>2018-12-31T23:48:00Z</td>\n",
       "      <td>09/017</td>\n",
       "      <td>529375.89</td>\n",
       "      <td>175212.75</td>\n",
       "      <td>304</td>\n",
       "      <td>0-79%</td>\n",
       "      <td>8</td>\n",
       "      <td>8</td>\n",
       "      <td>1.0</td>\n",
       "    </tr>\n",
       "    <tr>\n",
       "      <th>1</th>\n",
       "      <td>2018-12-31T23:47:00Z</td>\n",
       "      <td>09/017</td>\n",
       "      <td>529375.89</td>\n",
       "      <td>175212.75</td>\n",
       "      <td>303</td>\n",
       "      <td>0-79%</td>\n",
       "      <td>8</td>\n",
       "      <td>8</td>\n",
       "      <td>1.0</td>\n",
       "    </tr>\n",
       "    <tr>\n",
       "      <th>2</th>\n",
       "      <td>2018-12-31T23:46:00Z</td>\n",
       "      <td>09/017</td>\n",
       "      <td>529375.89</td>\n",
       "      <td>175212.75</td>\n",
       "      <td>314</td>\n",
       "      <td>0-79%</td>\n",
       "      <td>8</td>\n",
       "      <td>8</td>\n",
       "      <td>1.0</td>\n",
       "    </tr>\n",
       "    <tr>\n",
       "      <th>3</th>\n",
       "      <td>2018-12-31T23:45:00Z</td>\n",
       "      <td>09/017</td>\n",
       "      <td>529375.89</td>\n",
       "      <td>175212.75</td>\n",
       "      <td>322</td>\n",
       "      <td>0-79%</td>\n",
       "      <td>8</td>\n",
       "      <td>8</td>\n",
       "      <td>1.0</td>\n",
       "    </tr>\n",
       "    <tr>\n",
       "      <th>4</th>\n",
       "      <td>2018-12-31T23:44:00Z</td>\n",
       "      <td>09/017</td>\n",
       "      <td>529375.89</td>\n",
       "      <td>175212.75</td>\n",
       "      <td>334</td>\n",
       "      <td>0-79%</td>\n",
       "      <td>8</td>\n",
       "      <td>8</td>\n",
       "      <td>1.0</td>\n",
       "    </tr>\n",
       "  </tbody>\n",
       "</table>\n",
       "</div>"
      ],
      "text/plain": [
       "              TIMESTAMP    NODE    EASTING   NORTHING  FLOW_ACTUAL_15M  \\\n",
       "0  2018-12-31T23:48:00Z  09/017  529375.89  175212.75              304   \n",
       "1  2018-12-31T23:47:00Z  09/017  529375.89  175212.75              303   \n",
       "2  2018-12-31T23:46:00Z  09/017  529375.89  175212.75              314   \n",
       "3  2018-12-31T23:45:00Z  09/017  529375.89  175212.75              322   \n",
       "4  2018-12-31T23:44:00Z  09/017  529375.89  175212.75              334   \n",
       "\n",
       "  SAT_BANDINGS  DETECTOR_NO  TOTAL_DETECTOR_NO  DETECTOR_RATE  \n",
       "0        0-79%            8                  8            1.0  \n",
       "1        0-79%            8                  8            1.0  \n",
       "2        0-79%            8                  8            1.0  \n",
       "3        0-79%            8                  8            1.0  \n",
       "4        0-79%            8                  8            1.0  "
      ]
     },
     "execution_count": 35,
     "metadata": {},
     "output_type": "execute_result"
    }
   ],
   "source": [
    "df_all = retrieve_tims_from_s3(from_date='2019-01-01')\n",
    "df_all.head()"
   ]
  },
  {
   "cell_type": "code",
   "execution_count": 38,
   "metadata": {},
   "outputs": [
    {
     "data": {
      "text/plain": [
       "(17814774, 9)"
      ]
     },
     "execution_count": 38,
     "metadata": {},
     "output_type": "execute_result"
    }
   ],
   "source": [
    "df_all.shape"
   ]
  }
 ],
 "metadata": {
  "kernelspec": {
   "display_name": "dssg",
   "language": "python",
   "name": "dssg"
  },
  "language_info": {
   "codemirror_mode": {
    "name": "ipython",
    "version": 3
   },
   "file_extension": ".py",
   "mimetype": "text/x-python",
   "name": "python",
   "nbconvert_exporter": "python",
   "pygments_lexer": "ipython3",
   "version": "3.7.3"
  }
 },
 "nbformat": 4,
 "nbformat_minor": 2
}
