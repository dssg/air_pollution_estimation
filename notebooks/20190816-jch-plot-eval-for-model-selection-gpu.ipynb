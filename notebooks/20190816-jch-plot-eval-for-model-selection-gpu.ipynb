{
 "cells": [
  {
   "cell_type": "code",
   "execution_count": 1,
   "metadata": {},
   "outputs": [],
   "source": [
    "import os \n",
    "import numpy as np \n",
    "import matplotlib.pyplot as plt\n",
    "import seaborn as sns\n",
    "import pandas as pd\n",
    "import datetime\n",
    "\n",
    "%matplotlib inline"
   ]
  },
  {
   "cell_type": "code",
   "execution_count": 2,
   "metadata": {},
   "outputs": [
    {
     "name": "stdout",
     "output_type": "stream",
     "text": [
      "C:\\Users\\joh3146\\Documents\\dssg\\air_pollution_estimation\\src\n"
     ]
    }
   ],
   "source": [
    "os.chdir('../src/')\n",
    "print(os.getcwd())"
   ]
  },
  {
   "cell_type": "code",
   "execution_count": 5,
   "metadata": {},
   "outputs": [],
   "source": [
    "from traffic_analysis.d00_utils.load_confs import load_parameters, load_credentials, load_paths\n",
    "from traffic_analysis.d00_utils.data_loader_sql import DataLoaderSQL\n",
    "from traffic_analysis.d05_evaluation.chunk_evaluator import ChunkEvaluator\n",
    "# from traffic_viz.d06_visualisation.chunk_evaluation_plotting import (\n",
    "#     plot_video_stats_diff_distribution,\n",
    "#     plot_video_level_summary_stats,\n",
    "#     plot_mAP_over_time)\n",
    "\n",
    "params = load_parameters()\n",
    "creds = load_credentials()\n",
    "paths = load_paths()\n",
    "pd.set_option('display.max_columns', 500)"
   ]
  },
  {
   "cell_type": "markdown",
   "metadata": {},
   "source": [
    "To read in evaluation results table from sql, need to be on the ec2... otherwise can download locally as a csv and then uploaded."
   ]
  },
  {
   "cell_type": "code",
   "execution_count": 6,
   "metadata": {},
   "outputs": [],
   "source": [
    "video_performance_df = pd.read_csv(\"../data/eval/eval_video_performance_gpu.csv\")\n",
    "video_accuracy_df = pd.read_csv(\"../data/eval/eval_video_diffs_gpu.csv\")\n",
    "frame_accuracy_df = pd.read_csv(\"../data/eval/eval_frame_stats_gpu.csv\")"
   ]
  },
  {
   "cell_type": "code",
   "execution_count": 7,
   "metadata": {},
   "outputs": [
    {
     "data": {
      "text/plain": [
       "array([0.75, 0.8 , 0.85, 0.9 ])"
      ]
     },
     "execution_count": 7,
     "metadata": {},
     "output_type": "execute_result"
    }
   ],
   "source": [
    "video_accuracy_df.stop_start_iou_threshold.unique()"
   ]
  },
  {
   "cell_type": "code",
   "execution_count": 39,
   "metadata": {},
   "outputs": [
    {
     "data": {
      "text/plain": [
       "array(['yolov3_tf', 'traffic_tf'], dtype=object)"
      ]
     },
     "execution_count": 39,
     "metadata": {},
     "output_type": "execute_result"
    }
   ],
   "source": [
    "video_accuracy_df.detection_model.unique()"
   ]
  },
  {
   "cell_type": "markdown",
   "metadata": {},
   "source": [
    "Merge the different grid search params into one column, divided by underscores and then convert to a lettering or other naming convention"
   ]
  },
  {
   "cell_type": "code",
   "execution_count": 9,
   "metadata": {},
   "outputs": [
    {
     "data": {
      "text/plain": [
       "0    kcf,yolov3_opencv,4,0.2,0.75\n",
       "1    kcf,yolov3_opencv,4,0.2,0.75\n",
       "2    kcf,yolov3_opencv,4,0.2,0.75\n",
       "3    kcf,yolov3_opencv,4,0.2,0.75\n",
       "4    kcf,yolov3_opencv,4,0.2,0.75\n",
       "Name: model_search, dtype: object"
      ]
     },
     "execution_count": 9,
     "metadata": {},
     "output_type": "execute_result"
    }
   ],
   "source": [
    "columns_to_join = ['tracker_type', 'detection_model', 'detection_frequency', \n",
    "                   'detection_iou_threshold', 'stop_start_iou_threshold']\n",
    "\n",
    "video_performance_df['model_search'] = video_performance_df[columns_to_join].apply(\n",
    "    lambda x: ','.join(x.dropna().astype(str)),\n",
    "    axis=1\n",
    ")\n",
    "\n",
    "video_accuracy_df['model_search'] = video_accuracy_df[columns_to_join].apply(\n",
    "    lambda x: ','.join(x.dropna().astype(str)),\n",
    "    axis=1\n",
    ")\n",
    "\n",
    "frame_accuracy_df['model_search'] = frame_accuracy_df[columns_to_join].apply(\n",
    "    lambda x: ','.join(x.dropna().astype(str)),\n",
    "    axis=1\n",
    ")\n",
    "\n",
    "video_performance_df['model_search'].head()"
   ]
  },
  {
   "cell_type": "code",
   "execution_count": 10,
   "metadata": {},
   "outputs": [
    {
     "data": {
      "text/plain": [
       "430"
      ]
     },
     "execution_count": 10,
     "metadata": {},
     "output_type": "execute_result"
    }
   ],
   "source": [
    "video_performance_df.model_search.nunique()"
   ]
  },
  {
   "cell_type": "markdown",
   "metadata": {},
   "source": [
    "Remove the data that contains the opencv implementations"
   ]
  },
  {
   "cell_type": "code",
   "execution_count": 12,
   "metadata": {},
   "outputs": [
    {
     "data": {
      "text/plain": [
       "array(['yolov3_tf', 'traffic_tf'], dtype=object)"
      ]
     },
     "execution_count": 12,
     "metadata": {},
     "output_type": "execute_result"
    }
   ],
   "source": [
    "eval_dfs = [video_performance_df, video_accuracy_df, frame_accuracy_df]\n",
    "\n",
    "for eval_df in eval_dfs:\n",
    "    opencv_idx = eval_df[eval_df.detection_model == 'yolov3_opencv'].index\n",
    "    eval_df.drop(opencv_idx, inplace=True)\n",
    "    \n",
    "eval_dfs[0].detection_model.unique()"
   ]
  },
  {
   "cell_type": "markdown",
   "metadata": {},
   "source": [
    "See if the number of cameras evaluated among model implementations is consistent "
   ]
  },
  {
   "cell_type": "code",
   "execution_count": 13,
   "metadata": {},
   "outputs": [
    {
     "data": {
      "text/plain": [
       "array([50, 47, 43, 42, 46, 61, 63, 51, 53, 48, 56, 58], dtype=int64)"
      ]
     },
     "execution_count": 13,
     "metadata": {},
     "output_type": "execute_result"
    }
   ],
   "source": [
    "video_performance_df.columns\n",
    "video_performance_df.n_videos.unique()"
   ]
  },
  {
   "cell_type": "code",
   "execution_count": 14,
   "metadata": {},
   "outputs": [
    {
     "data": {
      "text/plain": [
       "<matplotlib.axes._subplots.AxesSubplot at 0x229ac862828>"
      ]
     },
     "execution_count": 14,
     "metadata": {},
     "output_type": "execute_result"
    },
    {
     "data": {
      "image/png": "[encoded data removed]",
      "text/plain": [
       "<Figure size 432x288 with 1 Axes>"
      ]
     },
     "metadata": {},
     "output_type": "display_data"
    }
   ],
   "source": [
    "video_performance_df.n_videos.hist()"
   ]
  },
  {
   "cell_type": "code",
   "execution_count": 15,
   "metadata": {},
   "outputs": [
    {
     "data": {
      "text/plain": [
       "65"
      ]
     },
     "execution_count": 15,
     "metadata": {},
     "output_type": "execute_result"
    }
   ],
   "source": [
    "video_accuracy_df['camera_id'] = video_accuracy_df['camera_id'].astype(str)\n",
    "video_accuracy_df['video_id'] = video_accuracy_df.camera_id + '_' + video_accuracy_df.video_upload_datetime\n",
    "video_accuracy_df.video_id.nunique()"
   ]
  },
  {
   "cell_type": "markdown",
   "metadata": {},
   "source": [
    "Since it's inconsistent in total number of videos analyzed, need to see if the 42 videos in the min is at least consistent among all videos."
   ]
  },
  {
   "cell_type": "code",
   "execution_count": 16,
   "metadata": {},
   "outputs": [
    {
     "data": {
      "text/plain": [
       "array([0.5])"
      ]
     },
     "execution_count": 16,
     "metadata": {},
     "output_type": "execute_result"
    }
   ],
   "source": [
    "video_performance_df.columns\n",
    "video_performance_df.model_search[video_performance_df.n_videos == 42].unique()\n",
    "video_performance_df.detection_iou_threshold[video_performance_df.n_videos == 42].unique()"
   ]
  },
  {
   "cell_type": "code",
   "execution_count": 17,
   "metadata": {},
   "outputs": [
    {
     "data": {
      "text/plain": [
       "42"
      ]
     },
     "execution_count": 17,
     "metadata": {},
     "output_type": "execute_result"
    }
   ],
   "source": [
    "models_with_min_num_vids = video_performance_df.model_search[video_performance_df.n_videos == 42].unique()\n",
    "vids_in_min_num_vids = [video_accuracy_df.video_id[\n",
    "    video_accuracy_df.model_search == model].values for model in models_with_min_num_vids]\n",
    "\n",
    "video_accuracy_filtered_df = video_accuracy_df[video_accuracy_df.video_id.isin(vids_in_min_num_vids[0])]\n",
    "n_vid = video_accuracy_filtered_df.video_id.nunique()\n",
    "n_vid"
   ]
  },
  {
   "cell_type": "markdown",
   "metadata": {},
   "source": [
    "the 42 videos are at least consistent. yay."
   ]
  },
  {
   "cell_type": "code",
   "execution_count": 18,
   "metadata": {},
   "outputs": [
    {
     "data": {
      "text/plain": [
       "38"
      ]
     },
     "execution_count": 18,
     "metadata": {},
     "output_type": "execute_result"
    }
   ],
   "source": [
    "frame_accuracy_df['camera_id'] = frame_accuracy_df['camera_id'].astype(str)\n",
    "frame_accuracy_df['video_id'] = frame_accuracy_df.camera_id + '_' + frame_accuracy_df.video_upload_datetime\n",
    "\n",
    "vids_in_min_num_vids = [frame_accuracy_df.video_id[\n",
    "    frame_accuracy_df.model_search == model].values for model in models_with_min_num_vids]\n",
    "\n",
    "frame_accuracy_filtered_df = frame_accuracy_df[frame_accuracy_df.video_id.isin(vids_in_min_num_vids[0])]\n",
    "frame_accuracy_filtered_df.video_id.nunique()"
   ]
  },
  {
   "cell_type": "markdown",
   "metadata": {},
   "source": [
    "not sure why frame_accuracy_filtered has 38 videos = different?"
   ]
  },
  {
   "cell_type": "code",
   "execution_count": 19,
   "metadata": {},
   "outputs": [
    {
     "data": {
      "text/html": [
       "<div>\n",
       "<style scoped>\n",
       "    .dataframe tbody tr th:only-of-type {\n",
       "        vertical-align: middle;\n",
       "    }\n",
       "\n",
       "    .dataframe tbody tr th {\n",
       "        vertical-align: top;\n",
       "    }\n",
       "\n",
       "    .dataframe thead th {\n",
       "        text-align: right;\n",
       "    }\n",
       "</style>\n",
       "<table border=\"1\" class=\"dataframe\">\n",
       "  <thead>\n",
       "    <tr style=\"text-align: right;\">\n",
       "      <th></th>\n",
       "      <th>vehicle_type</th>\n",
       "      <th>model_search</th>\n",
       "      <th>video_id</th>\n",
       "      <th>counts_diff</th>\n",
       "    </tr>\n",
       "  </thead>\n",
       "  <tbody>\n",
       "    <tr>\n",
       "      <th>0</th>\n",
       "      <td>bus</td>\n",
       "      <td>boosting,traffic_tf,4,0.2,0.75</td>\n",
       "      <td>1.01252_2019-06-20 05:58:17</td>\n",
       "      <td>0</td>\n",
       "    </tr>\n",
       "    <tr>\n",
       "      <th>1</th>\n",
       "      <td>bus</td>\n",
       "      <td>boosting,traffic_tf,4,0.2,0.75</td>\n",
       "      <td>1.01252_2019-06-27 03:01:57</td>\n",
       "      <td>0</td>\n",
       "    </tr>\n",
       "    <tr>\n",
       "      <th>2</th>\n",
       "      <td>bus</td>\n",
       "      <td>boosting,traffic_tf,4,0.2,0.75</td>\n",
       "      <td>1.01252_2019-07-01 03:01:37</td>\n",
       "      <td>0</td>\n",
       "    </tr>\n",
       "    <tr>\n",
       "      <th>3</th>\n",
       "      <td>bus</td>\n",
       "      <td>boosting,traffic_tf,4,0.2,0.75</td>\n",
       "      <td>1.01252_2019-07-02 02:58:08</td>\n",
       "      <td>1</td>\n",
       "    </tr>\n",
       "    <tr>\n",
       "      <th>4</th>\n",
       "      <td>bus</td>\n",
       "      <td>boosting,traffic_tf,4,0.2,0.75</td>\n",
       "      <td>1.0349_2019-06-29 13:00:56</td>\n",
       "      <td>-1</td>\n",
       "    </tr>\n",
       "  </tbody>\n",
       "</table>\n",
       "</div>"
      ],
      "text/plain": [
       "  vehicle_type                    model_search                     video_id  \\\n",
       "0          bus  boosting,traffic_tf,4,0.2,0.75  1.01252_2019-06-20 05:58:17   \n",
       "1          bus  boosting,traffic_tf,4,0.2,0.75  1.01252_2019-06-27 03:01:57   \n",
       "2          bus  boosting,traffic_tf,4,0.2,0.75  1.01252_2019-07-01 03:01:37   \n",
       "3          bus  boosting,traffic_tf,4,0.2,0.75  1.01252_2019-07-02 02:58:08   \n",
       "4          bus  boosting,traffic_tf,4,0.2,0.75   1.0349_2019-06-29 13:00:56   \n",
       "\n",
       "   counts_diff  \n",
       "0            0  \n",
       "1            0  \n",
       "2            0  \n",
       "3            1  \n",
       "4           -1  "
      ]
     },
     "execution_count": 19,
     "metadata": {},
     "output_type": "execute_result"
    }
   ],
   "source": [
    "counts_diff_df = video_accuracy_filtered_df.groupby(['vehicle_type', 'model_search', 'video_id']).counts_diff.agg(sum).reset_index()\n",
    "counts_diff_df.head()"
   ]
  },
  {
   "cell_type": "code",
   "execution_count": 20,
   "metadata": {},
   "outputs": [
    {
     "data": {
      "text/html": [
       "<div>\n",
       "<style scoped>\n",
       "    .dataframe tbody tr th:only-of-type {\n",
       "        vertical-align: middle;\n",
       "    }\n",
       "\n",
       "    .dataframe tbody tr th {\n",
       "        vertical-align: top;\n",
       "    }\n",
       "\n",
       "    .dataframe thead th {\n",
       "        text-align: right;\n",
       "    }\n",
       "</style>\n",
       "<table border=\"1\" class=\"dataframe\">\n",
       "  <thead>\n",
       "    <tr style=\"text-align: right;\">\n",
       "      <th></th>\n",
       "      <th>vehicle_type</th>\n",
       "      <th>model_search</th>\n",
       "      <th>video_id</th>\n",
       "      <th>counts_diff</th>\n",
       "      <th>abs_counts_diff</th>\n",
       "    </tr>\n",
       "  </thead>\n",
       "  <tbody>\n",
       "    <tr>\n",
       "      <th>0</th>\n",
       "      <td>bus</td>\n",
       "      <td>boosting,traffic_tf,4,0.2,0.75</td>\n",
       "      <td>1.01252_2019-06-20 05:58:17</td>\n",
       "      <td>0</td>\n",
       "      <td>0</td>\n",
       "    </tr>\n",
       "    <tr>\n",
       "      <th>1</th>\n",
       "      <td>bus</td>\n",
       "      <td>boosting,traffic_tf,4,0.2,0.75</td>\n",
       "      <td>1.01252_2019-06-27 03:01:57</td>\n",
       "      <td>0</td>\n",
       "      <td>0</td>\n",
       "    </tr>\n",
       "    <tr>\n",
       "      <th>2</th>\n",
       "      <td>bus</td>\n",
       "      <td>boosting,traffic_tf,4,0.2,0.75</td>\n",
       "      <td>1.01252_2019-07-01 03:01:37</td>\n",
       "      <td>0</td>\n",
       "      <td>0</td>\n",
       "    </tr>\n",
       "    <tr>\n",
       "      <th>3</th>\n",
       "      <td>bus</td>\n",
       "      <td>boosting,traffic_tf,4,0.2,0.75</td>\n",
       "      <td>1.01252_2019-07-02 02:58:08</td>\n",
       "      <td>1</td>\n",
       "      <td>1</td>\n",
       "    </tr>\n",
       "    <tr>\n",
       "      <th>4</th>\n",
       "      <td>bus</td>\n",
       "      <td>boosting,traffic_tf,4,0.2,0.75</td>\n",
       "      <td>1.0349_2019-06-29 13:00:56</td>\n",
       "      <td>-1</td>\n",
       "      <td>1</td>\n",
       "    </tr>\n",
       "  </tbody>\n",
       "</table>\n",
       "</div>"
      ],
      "text/plain": [
       "  vehicle_type                    model_search                     video_id  \\\n",
       "0          bus  boosting,traffic_tf,4,0.2,0.75  1.01252_2019-06-20 05:58:17   \n",
       "1          bus  boosting,traffic_tf,4,0.2,0.75  1.01252_2019-06-27 03:01:57   \n",
       "2          bus  boosting,traffic_tf,4,0.2,0.75  1.01252_2019-07-01 03:01:37   \n",
       "3          bus  boosting,traffic_tf,4,0.2,0.75  1.01252_2019-07-02 02:58:08   \n",
       "4          bus  boosting,traffic_tf,4,0.2,0.75   1.0349_2019-06-29 13:00:56   \n",
       "\n",
       "   counts_diff  abs_counts_diff  \n",
       "0            0                0  \n",
       "1            0                0  \n",
       "2            0                0  \n",
       "3            1                1  \n",
       "4           -1                1  "
      ]
     },
     "execution_count": 20,
     "metadata": {},
     "output_type": "execute_result"
    }
   ],
   "source": [
    "counts_diff_df['abs_counts_diff'] = counts_diff_df.counts_diff.apply(lambda x: abs(x))\n",
    "counts_diff_df.head()"
   ]
  },
  {
   "cell_type": "code",
   "execution_count": 21,
   "metadata": {},
   "outputs": [
    {
     "data": {
      "text/plain": [
       "Index(['model_search', 'video_id', 'counts_diff', 'abs_counts_diff'], dtype='object')"
      ]
     },
     "execution_count": 21,
     "metadata": {},
     "output_type": "execute_result"
    }
   ],
   "source": [
    "vid_level_model_comparison_df = counts_diff_df.groupby(\n",
    "    ['model_search', 'video_id'])['counts_diff', 'abs_counts_diff'].agg(sum).reset_index()\n",
    "vid_level_model_comparison_df.columns"
   ]
  },
  {
   "cell_type": "code",
   "execution_count": 22,
   "metadata": {},
   "outputs": [],
   "source": [
    "vid_level_model_comparison_df.rename(columns={'abs_counts_diff' : 'abs_counts_diff_by_veh_type'}, inplace=True)\n",
    "vid_level_model_comparison_df['abs_counts_diff_on_vid_level'] = vid_level_model_comparison_df.counts_diff.apply(\n",
    "    lambda x: abs(x))\n",
    "\n",
    "model_comparison_df = vid_level_model_comparison_df.groupby(\n",
    "    ['model_search'])['abs_counts_diff_on_vid_level', 'abs_counts_diff_by_veh_type'].agg(sum).reset_index()"
   ]
  },
  {
   "cell_type": "code",
   "execution_count": 23,
   "metadata": {},
   "outputs": [
    {
     "data": {
      "text/html": [
       "<div>\n",
       "<style scoped>\n",
       "    .dataframe tbody tr th:only-of-type {\n",
       "        vertical-align: middle;\n",
       "    }\n",
       "\n",
       "    .dataframe tbody tr th {\n",
       "        vertical-align: top;\n",
       "    }\n",
       "\n",
       "    .dataframe thead th {\n",
       "        text-align: right;\n",
       "    }\n",
       "</style>\n",
       "<table border=\"1\" class=\"dataframe\">\n",
       "  <thead>\n",
       "    <tr style=\"text-align: right;\">\n",
       "      <th></th>\n",
       "      <th>model_search</th>\n",
       "      <th>bias</th>\n",
       "      <th>mae</th>\n",
       "    </tr>\n",
       "  </thead>\n",
       "  <tbody>\n",
       "    <tr>\n",
       "      <th>0</th>\n",
       "      <td>boosting,traffic_tf,4,0.2,0.75</td>\n",
       "      <td>3.690476</td>\n",
       "      <td>4.404762</td>\n",
       "    </tr>\n",
       "    <tr>\n",
       "      <th>1</th>\n",
       "      <td>boosting,traffic_tf,4,0.2,0.8</td>\n",
       "      <td>3.690476</td>\n",
       "      <td>4.404762</td>\n",
       "    </tr>\n",
       "    <tr>\n",
       "      <th>2</th>\n",
       "      <td>boosting,traffic_tf,4,0.2,0.85</td>\n",
       "      <td>3.690476</td>\n",
       "      <td>4.404762</td>\n",
       "    </tr>\n",
       "    <tr>\n",
       "      <th>3</th>\n",
       "      <td>boosting,traffic_tf,4,0.2,0.9</td>\n",
       "      <td>3.690476</td>\n",
       "      <td>4.404762</td>\n",
       "    </tr>\n",
       "    <tr>\n",
       "      <th>4</th>\n",
       "      <td>boosting,traffic_tf,4,0.3,0.75</td>\n",
       "      <td>3.047619</td>\n",
       "      <td>3.619048</td>\n",
       "    </tr>\n",
       "  </tbody>\n",
       "</table>\n",
       "</div>"
      ],
      "text/plain": [
       "                     model_search      bias       mae\n",
       "0  boosting,traffic_tf,4,0.2,0.75  3.690476  4.404762\n",
       "1   boosting,traffic_tf,4,0.2,0.8  3.690476  4.404762\n",
       "2  boosting,traffic_tf,4,0.2,0.85  3.690476  4.404762\n",
       "3   boosting,traffic_tf,4,0.2,0.9  3.690476  4.404762\n",
       "4  boosting,traffic_tf,4,0.3,0.75  3.047619  3.619048"
      ]
     },
     "execution_count": 23,
     "metadata": {},
     "output_type": "execute_result"
    }
   ],
   "source": [
    "model_comparison_df.abs_counts_diff_on_vid_level = model_comparison_df.abs_counts_diff_on_vid_level / n_vid\n",
    "model_comparison_df.abs_counts_diff_by_veh_type = model_comparison_df.abs_counts_diff_by_veh_type / n_vid\n",
    "model_comparison_df.rename(columns={\n",
    "    'abs_counts_diff_on_vid_level' : 'bias', 'abs_counts_diff_by_veh_type' : 'mae'}, inplace=True)\n",
    "model_comparison_df.head()"
   ]
  },
  {
   "cell_type": "code",
   "execution_count": 24,
   "metadata": {},
   "outputs": [
    {
     "data": {
      "text/plain": [
       "<matplotlib.axes._subplots.AxesSubplot at 0x229ae92fe80>"
      ]
     },
     "execution_count": 24,
     "metadata": {},
     "output_type": "execute_result"
    },
    {
     "data": {
      "image/png": "[encoded data removed]",
      "text/plain": [
       "<Figure size 432x288 with 1 Axes>"
      ]
     },
     "metadata": {},
     "output_type": "display_data"
    }
   ],
   "source": [
    "counts_diff_df[counts_diff_df.vehicle_type == 'car'].counts_diff.hist()"
   ]
  },
  {
   "cell_type": "code",
   "execution_count": 25,
   "metadata": {},
   "outputs": [
    {
     "data": {
      "text/plain": [
       "<matplotlib.axes._subplots.AxesSubplot at 0x229acf76b70>"
      ]
     },
     "execution_count": 25,
     "metadata": {},
     "output_type": "execute_result"
    },
    {
     "data": {
      "image/png": "[encoded data removed]",
      "text/plain": [
       "<Figure size 432x288 with 1 Axes>"
      ]
     },
     "metadata": {},
     "output_type": "display_data"
    }
   ],
   "source": [
    "counts_diff_df[counts_diff_df.vehicle_type == 'bus'].counts_diff.hist()"
   ]
  },
  {
   "cell_type": "code",
   "execution_count": 26,
   "metadata": {},
   "outputs": [
    {
     "data": {
      "text/plain": [
       "<matplotlib.axes._subplots.AxesSubplot at 0x229acfe4780>"
      ]
     },
     "execution_count": 26,
     "metadata": {},
     "output_type": "execute_result"
    },
    {
     "data": {
      "image/png": "[encoded data removed]",
      "text/plain": [
       "<Figure size 432x288 with 1 Axes>"
      ]
     },
     "metadata": {},
     "output_type": "display_data"
    }
   ],
   "source": [
    "counts_diff_df[counts_diff_df.vehicle_type == 'truck'].counts_diff.hist()"
   ]
  },
  {
   "cell_type": "code",
   "execution_count": 27,
   "metadata": {},
   "outputs": [
    {
     "data": {
      "text/plain": [
       "<matplotlib.axes._subplots.AxesSubplot at 0x229ad585668>"
      ]
     },
     "execution_count": 27,
     "metadata": {},
     "output_type": "execute_result"
    },
    {
     "data": {
      "image/png": "[encoded data removed]",
      "text/plain": [
       "<Figure size 432x288 with 1 Axes>"
      ]
     },
     "metadata": {},
     "output_type": "display_data"
    }
   ],
   "source": [
    "counts_diff_df[counts_diff_df.vehicle_type == 'motorcycle'].counts_diff.hist()"
   ]
  },
  {
   "cell_type": "markdown",
   "metadata": {},
   "source": [
    "seems like we're always overpredicting cars but slightly underpredicting trucks and buses."
   ]
  },
  {
   "cell_type": "code",
   "execution_count": 28,
   "metadata": {},
   "outputs": [
    {
     "data": {
      "text/plain": [
       "<matplotlib.axes._subplots.AxesSubplot at 0x229adf05278>"
      ]
     },
     "execution_count": 28,
     "metadata": {},
     "output_type": "execute_result"
    },
    {
     "data": {
      "image/png": "[encoded data removed]",
      "text/plain": [
       "<Figure size 432x288 with 1 Axes>"
      ]
     },
     "metadata": {},
     "output_type": "display_data"
    }
   ],
   "source": [
    "model_comparison_df.bias.hist()"
   ]
  },
  {
   "cell_type": "code",
   "execution_count": 29,
   "metadata": {},
   "outputs": [
    {
     "data": {
      "text/html": [
       "<div>\n",
       "<style scoped>\n",
       "    .dataframe tbody tr th:only-of-type {\n",
       "        vertical-align: middle;\n",
       "    }\n",
       "\n",
       "    .dataframe tbody tr th {\n",
       "        vertical-align: top;\n",
       "    }\n",
       "\n",
       "    .dataframe thead th {\n",
       "        text-align: right;\n",
       "    }\n",
       "</style>\n",
       "<table border=\"1\" class=\"dataframe\">\n",
       "  <thead>\n",
       "    <tr style=\"text-align: right;\">\n",
       "      <th></th>\n",
       "      <th>model_search</th>\n",
       "      <th>bias</th>\n",
       "      <th>mae</th>\n",
       "      <th>avg_analyser_runtime</th>\n",
       "    </tr>\n",
       "  </thead>\n",
       "  <tbody>\n",
       "    <tr>\n",
       "      <th>0</th>\n",
       "      <td>boosting,traffic_tf,4,0.2,0.75</td>\n",
       "      <td>3.690476</td>\n",
       "      <td>4.404762</td>\n",
       "      <td>8.146978</td>\n",
       "    </tr>\n",
       "    <tr>\n",
       "      <th>1</th>\n",
       "      <td>boosting,traffic_tf,4,0.2,0.8</td>\n",
       "      <td>3.690476</td>\n",
       "      <td>4.404762</td>\n",
       "      <td>8.149952</td>\n",
       "    </tr>\n",
       "    <tr>\n",
       "      <th>2</th>\n",
       "      <td>boosting,traffic_tf,4,0.2,0.85</td>\n",
       "      <td>3.690476</td>\n",
       "      <td>4.404762</td>\n",
       "      <td>8.033343</td>\n",
       "    </tr>\n",
       "    <tr>\n",
       "      <th>3</th>\n",
       "      <td>boosting,traffic_tf,4,0.2,0.9</td>\n",
       "      <td>3.690476</td>\n",
       "      <td>4.404762</td>\n",
       "      <td>7.784351</td>\n",
       "    </tr>\n",
       "    <tr>\n",
       "      <th>4</th>\n",
       "      <td>boosting,traffic_tf,4,0.3,0.75</td>\n",
       "      <td>3.047619</td>\n",
       "      <td>3.619048</td>\n",
       "      <td>7.498267</td>\n",
       "    </tr>\n",
       "  </tbody>\n",
       "</table>\n",
       "</div>"
      ],
      "text/plain": [
       "                     model_search      bias       mae  avg_analyser_runtime\n",
       "0  boosting,traffic_tf,4,0.2,0.75  3.690476  4.404762              8.146978\n",
       "1   boosting,traffic_tf,4,0.2,0.8  3.690476  4.404762              8.149952\n",
       "2  boosting,traffic_tf,4,0.2,0.85  3.690476  4.404762              8.033343\n",
       "3   boosting,traffic_tf,4,0.2,0.9  3.690476  4.404762              7.784351\n",
       "4  boosting,traffic_tf,4,0.3,0.75  3.047619  3.619048              7.498267"
      ]
     },
     "execution_count": 29,
     "metadata": {},
     "output_type": "execute_result"
    }
   ],
   "source": [
    "speed_df = video_performance_df.groupby(['model_search']).avg_analyser_runtime.mean().reset_index()\n",
    "model_comparison_df = model_comparison_df.merge(speed_df, on = 'model_search')\n",
    "model_comparison_df.head()"
   ]
  },
  {
   "cell_type": "markdown",
   "metadata": {},
   "source": [
    "what is the fastest and the most accurate model? are they the same?"
   ]
  },
  {
   "cell_type": "code",
   "execution_count": 37,
   "metadata": {},
   "outputs": [],
   "source": [
    "accurate_model_idx = model_comparison_df.mae.idxmin()\n",
    "accurate_model = model_comparison_df.model_search[accurate_model_idx]\n",
    "\n",
    "fastest_model_idx = model_comparison_df[model_comparison_df.avg_analyser_runtime < 1].mae.idxmin()\n",
    "fastest_model = model_comparison_df.model_search[fastest_model_idx]\n",
    "\n",
    "best_model_idx = model_comparison_df[model_comparison_df.avg_analyser_runtime < 1].mae.idxmin()\n",
    "best_model = model_comparison_df.model_search[best_model_idx]"
   ]
  },
  {
   "cell_type": "code",
   "execution_count": 38,
   "metadata": {},
   "outputs": [
    {
     "data": {
      "text/plain": [
       "<matplotlib.lines.Line2D at 0x229aeee2940>"
      ]
     },
     "execution_count": 38,
     "metadata": {},
     "output_type": "execute_result"
    },
    {
     "data": {
      "image/png": "[encoded data removed]",
      "text/plain": [
       "<Figure size 1080x360 with 3 Axes>"
      ]
     },
     "metadata": {},
     "output_type": "display_data"
    }
   ],
   "source": [
    "fig, ax = plt.subplots(1,3, figsize=(15, 5))\n",
    "plt.tight_layout()\n",
    "\n",
    "\n",
    "SMALL_SIZE=16\n",
    "MEDIUM_SIZE=22\n",
    "plt.rc('font', size=SMALL_SIZE)          # controls default text sizes\n",
    "plt.rc('axes', titlesize=MEDIUM_SIZE)     # fontsize of the axes title\n",
    "plt.rc('axes', labelsize=MEDIUM_SIZE)    # fontsize of the x and y labels\n",
    "plt.rc('xtick', labelsize=SMALL_SIZE)    # fontsize of the tick labels\n",
    "plt.rc('ytick', labelsize=SMALL_SIZE)    # fontsize of the tick labels\n",
    "plt.rc('legend', fontsize=SMALL_SIZE)    # legend fontsize\n",
    "\n",
    "ax[0].scatter(model_comparison_df.bias,\n",
    "              model_comparison_df.mae,\n",
    "              s=25, alpha=0.3, label='model_ensemble'\n",
    "             )\n",
    "\n",
    "ax[0].scatter(model_comparison_df.bias[best_model_idx],\n",
    "            model_comparison_df.mae[best_model_idx],\n",
    "            label='lowest error model above speed threshold', s=300, alpha=0.5, color='green', marker='*'\n",
    "           )\n",
    "\n",
    "ax[0].scatter(model_comparison_df.bias[accurate_model_idx],\n",
    "            model_comparison_df.mae[accurate_model_idx],\n",
    "            label='lowest error model', color='red', s=300, alpha=0.5, marker='*'\n",
    "           )\n",
    "\n",
    "\n",
    "ax[0].set_xlabel('bias (vehicles)')\n",
    "ax[0].set_ylabel('mean |error| (vehicles)')\n",
    "ax[0].set_title('comparison of video-level \\n accuracy metrics');\n",
    "\n",
    "\n",
    "ax[1].scatter(model_comparison_df.avg_analyser_runtime,\n",
    "            model_comparison_df.mae,\n",
    "            label='model ensemble', s=25, alpha=0.3\n",
    "           )\n",
    "\n",
    "ax[1].scatter(model_comparison_df.avg_analyser_runtime[best_model_idx],\n",
    "            model_comparison_df.mae[best_model_idx],\n",
    "            label='lowest error model above speed threshold', color='green', s=300, alpha=0.5, marker='*'\n",
    "           )\n",
    "\n",
    "ax[1].scatter(model_comparison_df.avg_analyser_runtime[accurate_model_idx],\n",
    "            model_comparison_df.mae[accurate_model_idx],\n",
    "            label='lowest error model', color='red', s=300, alpha=0.5, marker='*'\n",
    "           )\n",
    "\n",
    "ax[1].set_xlabel('processing time (sec)')\n",
    "ax[1].set_ylabel('mean |error| (vehicles)')\n",
    "ax[1].set_title('comparison of video-level \\n absolute error and processing speed')\n",
    "ax[1].axvline(4.8, color='red', label='speed threshold', lw=1, ls='--')\n",
    "\n",
    "\n",
    "ax[2].scatter(model_comparison_df.avg_analyser_runtime,\n",
    "            model_comparison_df.bias,\n",
    "            label='model ensemble', s=25, alpha=0.3\n",
    "           )\n",
    "\n",
    "ax[2].scatter(model_comparison_df.avg_analyser_runtime[best_model_idx],\n",
    "            model_comparison_df.bias[best_model_idx],\n",
    "            label='lowest error model above speed threshold', color='green', s=300, alpha=0.5, marker='*'\n",
    "           )\n",
    "\n",
    "ax[2].scatter(model_comparison_df.avg_analyser_runtime[accurate_model_idx],\n",
    "            model_comparison_df.bias[accurate_model_idx],\n",
    "            label='lowest error model', color='red', s=300, alpha=0.5, marker='*'\n",
    "           )\n",
    "\n",
    "ax[2].set_xlabel('processing time (sec)')\n",
    "ax[2].set_ylabel('bias (vehicles)')\n",
    "ax[2].set_title('comparison of video-level \\n bias and processing speed')\n",
    "ax[2].axvline(4.8, color='red', label='speed threshold', lw=1, ls='--')\n",
    "\n",
    "# ax[2].legend();"
   ]
  },
  {
   "cell_type": "code",
   "execution_count": 33,
   "metadata": {},
   "outputs": [
    {
     "data": {
      "text/plain": [
       "331"
      ]
     },
     "execution_count": 33,
     "metadata": {},
     "output_type": "execute_result"
    }
   ],
   "source": [
    "model_comparison_df.model_search.nunique()"
   ]
  },
  {
   "cell_type": "code",
   "execution_count": 34,
   "metadata": {},
   "outputs": [
    {
     "data": {
      "text/plain": [
       "model_search            kcf,traffic_tf,4,0.5,0.75\n",
       "bias                                      3.64286\n",
       "mae                                       4.30952\n",
       "avg_analyser_runtime                      1.61009\n",
       "Name: 119, dtype: object"
      ]
     },
     "execution_count": 34,
     "metadata": {},
     "output_type": "execute_result"
    }
   ],
   "source": [
    "model_comparison_df.iloc[best_model_idx]"
   ]
  },
  {
   "cell_type": "code",
   "execution_count": 35,
   "metadata": {},
   "outputs": [
    {
     "data": {
      "text/plain": [
       "model_search            boosting,traffic_tf,4,0.3,0.75\n",
       "bias                                           3.04762\n",
       "mae                                            3.61905\n",
       "avg_analyser_runtime                           7.49827\n",
       "Name: 4, dtype: object"
      ]
     },
     "execution_count": 35,
     "metadata": {},
     "output_type": "execute_result"
    }
   ],
   "source": [
    "model_comparison_df.iloc[accurate_model_idx]"
   ]
  },
  {
   "cell_type": "code",
   "execution_count": 36,
   "metadata": {},
   "outputs": [
    {
     "data": {
      "text/plain": [
       "model_search            mosse,traffic_tf,4,0.5,0.75\n",
       "bias                                        3.78571\n",
       "mae                                         4.45238\n",
       "avg_analyser_runtime                       0.362597\n",
       "Name: 215, dtype: object"
      ]
     },
     "execution_count": 36,
     "metadata": {},
     "output_type": "execute_result"
    }
   ],
   "source": [
    "model_comparison_df.iloc[fastest_model_idx]"
   ]
  },
  {
   "cell_type": "code",
   "execution_count": null,
   "metadata": {},
   "outputs": [],
   "source": []
  }
 ],
 "metadata": {
  "kernelspec": {
   "display_name": "dssg",
   "language": "python",
   "name": "dssg"
  },
  "language_info": {
   "codemirror_mode": {
    "name": "ipython",
    "version": 3
   },
   "file_extension": ".py",
   "mimetype": "text/x-python",
   "name": "python",
   "nbconvert_exporter": "python",
   "pygments_lexer": "ipython3",
   "version": "3.7.3"
  }
 },
 "nbformat": 4,
 "nbformat_minor": 2
}
