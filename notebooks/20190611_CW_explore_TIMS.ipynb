{
 "cells": [
  {
   "cell_type": "markdown",
   "metadata": {},
   "source": [
    "### Read in TIMS Data from S3 Bucket\n",
    "\n",
    "**June 11, 2019**"
   ]
  },
  {
   "cell_type": "markdown",
   "metadata": {},
   "source": [
    "### S3 buckets\n",
    "\n",
    "+ Each project has a S3 bucket with the data of your partner. \n",
    "+ **Only** the team, PM, TM and your partner have access to that.\n",
    "\n",
    "![](images/s3_buckets.png)\n",
    "\n",
    "**Requirements to access your bucket**\n",
    "\n",
    "+ Have a pair of credentials from AWS -> I will send you your credentials.\n",
    "+ Install [AWSCLI](https://aws.amazon.com/cli/) `pip install awscli` (do it on your dssg virutal environment)\n",
    "+ The name of your S3 bucket:\n",
    "    + air-pollution-uk\n",
    "    \n",
    "#### Setup your AWS credentials \n",
    "\n",
    "Check if you have a file `credentials` on `~/.aws/`, if you dont create that file `nano credentials` (no extension), if you already have one at the end of it add a name to your dssg profile. \n",
    "\n",
    "```\n",
    "[dssg]\n",
    "aws_access_key_id = your_access_key_id\n",
    "aws_secret_access_key = your_secret_access_key\n",
    "```\n",
    "    \n",
    "You can access your S3 bucket through **S3FS** or **Boto**. "
   ]
  },
  {
   "cell_type": "code",
   "execution_count": 2,
   "metadata": {
    "ExecuteTime": {
     "end_time": "2019-06-10T11:40:33.444496Z",
     "start_time": "2019-06-10T11:40:33.126930Z"
    }
   },
   "outputs": [],
   "source": [
    "import pandas as pd\n",
    "import seaborn as sns\n",
    "import sys, os\n",
    "import boto3"
   ]
  },
  {
   "cell_type": "markdown",
   "metadata": {},
   "source": [
    "### Get TIMS data from S3 Bucket\n"
   ]
  },
  {
   "cell_type": "code",
   "execution_count": 31,
   "metadata": {
    "ExecuteTime": {
     "end_time": "2019-06-10T13:01:58.065778Z",
     "start_time": "2019-06-10T13:01:57.846992Z"
    }
   },
   "outputs": [
    {
     "name": "stdout",
     "output_type": "stream",
     "text": [
      "<class 'botocore.client.S3'>\n"
     ]
    }
   ],
   "source": [
    "session = boto3.Session(profile_name='dssg')\n",
    "# you can also put your credentials directly... through a json file\n",
    "#session = boto3.Session(aws_access_key_id=credentials['aws_access_key_id'], \n",
    "#                       aws_secret_access_key=credentials['aws_secret_access_key'])\n",
    "\n",
    "s3 = session.client('s3')\n",
    "print(type(s3))\n",
    "\n",
    "bucket_name = 'air-pollution-uk'"
   ]
  },
  {
   "cell_type": "code",
   "execution_count": 36,
   "metadata": {
    "ExecuteTime": {
     "end_time": "2019-06-10T13:06:31.641683Z",
     "start_time": "2019-06-10T13:06:31.463575Z"
    }
   },
   "outputs": [],
   "source": [
    "obj = s3.get_object(Bucket=bucket_name, Key='raw/tims_data/detdata01032019-204523.csv')\n",
    "initial_df = pd.read_csv(obj['Body']) # 'Body' is a key word\n"
   ]
  },
  {
   "cell_type": "code",
   "execution_count": 37,
   "metadata": {},
   "outputs": [
    {
     "data": {
      "text/html": [
       "<div>\n",
       "<style scoped>\n",
       "    .dataframe tbody tr th:only-of-type {\n",
       "        vertical-align: middle;\n",
       "    }\n",
       "\n",
       "    .dataframe tbody tr th {\n",
       "        vertical-align: top;\n",
       "    }\n",
       "\n",
       "    .dataframe thead th {\n",
       "        text-align: right;\n",
       "    }\n",
       "</style>\n",
       "<table border=\"1\" class=\"dataframe\">\n",
       "  <thead>\n",
       "    <tr style=\"text-align: right;\">\n",
       "      <th></th>\n",
       "      <th>TIMESTAMP</th>\n",
       "      <th>NODE</th>\n",
       "      <th>EASTING</th>\n",
       "      <th>NORTHING</th>\n",
       "      <th>FLOW_ACTUAL_15M</th>\n",
       "      <th>SAT_BANDINGS</th>\n",
       "      <th>DETECTOR_NO</th>\n",
       "      <th>TOTAL_DETECTOR_NO</th>\n",
       "      <th>DETECTOR_RATE</th>\n",
       "    </tr>\n",
       "  </thead>\n",
       "  <tbody>\n",
       "    <tr>\n",
       "      <th>0</th>\n",
       "      <td>2019-03-01T20:31:00Z</td>\n",
       "      <td>29/013</td>\n",
       "      <td>513643.42</td>\n",
       "      <td>185553.97</td>\n",
       "      <td>459</td>\n",
       "      <td>0-79%</td>\n",
       "      <td>5</td>\n",
       "      <td>5</td>\n",
       "      <td>1.0</td>\n",
       "    </tr>\n",
       "    <tr>\n",
       "      <th>1</th>\n",
       "      <td>2019-03-01T20:31:00Z</td>\n",
       "      <td>29/020</td>\n",
       "      <td>513010.00</td>\n",
       "      <td>187530.00</td>\n",
       "      <td>572</td>\n",
       "      <td>0-79%</td>\n",
       "      <td>3</td>\n",
       "      <td>3</td>\n",
       "      <td>1.0</td>\n",
       "    </tr>\n",
       "    <tr>\n",
       "      <th>2</th>\n",
       "      <td>2019-03-01T20:31:00Z</td>\n",
       "      <td>29/028</td>\n",
       "      <td>514272.61</td>\n",
       "      <td>186392.99</td>\n",
       "      <td>456</td>\n",
       "      <td>0-79%</td>\n",
       "      <td>2</td>\n",
       "      <td>2</td>\n",
       "      <td>1.0</td>\n",
       "    </tr>\n",
       "    <tr>\n",
       "      <th>3</th>\n",
       "      <td>2019-03-01T20:31:00Z</td>\n",
       "      <td>29/035</td>\n",
       "      <td>517233.36</td>\n",
       "      <td>192368.23</td>\n",
       "      <td>291</td>\n",
       "      <td>0-79%</td>\n",
       "      <td>6</td>\n",
       "      <td>6</td>\n",
       "      <td>1.0</td>\n",
       "    </tr>\n",
       "    <tr>\n",
       "      <th>4</th>\n",
       "      <td>2019-03-01T20:31:00Z</td>\n",
       "      <td>29/046</td>\n",
       "      <td>517103.35</td>\n",
       "      <td>192319.26</td>\n",
       "      <td>572</td>\n",
       "      <td>0-79%</td>\n",
       "      <td>2</td>\n",
       "      <td>2</td>\n",
       "      <td>1.0</td>\n",
       "    </tr>\n",
       "  </tbody>\n",
       "</table>\n",
       "</div>"
      ],
      "text/plain": [
       "              TIMESTAMP    NODE    EASTING   NORTHING  FLOW_ACTUAL_15M  \\\n",
       "0  2019-03-01T20:31:00Z  29/013  513643.42  185553.97              459   \n",
       "1  2019-03-01T20:31:00Z  29/020  513010.00  187530.00              572   \n",
       "2  2019-03-01T20:31:00Z  29/028  514272.61  186392.99              456   \n",
       "3  2019-03-01T20:31:00Z  29/035  517233.36  192368.23              291   \n",
       "4  2019-03-01T20:31:00Z  29/046  517103.35  192319.26              572   \n",
       "\n",
       "  SAT_BANDINGS  DETECTOR_NO  TOTAL_DETECTOR_NO  DETECTOR_RATE  \n",
       "0        0-79%            5                  5            1.0  \n",
       "1        0-79%            3                  3            1.0  \n",
       "2        0-79%            2                  2            1.0  \n",
       "3        0-79%            6                  6            1.0  \n",
       "4        0-79%            2                  2            1.0  "
      ]
     },
     "execution_count": 37,
     "metadata": {},
     "output_type": "execute_result"
    }
   ],
   "source": [
    "initial_df.head()"
   ]
  },
  {
   "cell_type": "markdown",
   "metadata": {},
   "source": [
    "### Initial Data Exploration "
   ]
  },
  {
   "cell_type": "markdown",
   "metadata": {},
   "source": [
    "Junk code, to be deleted later "
   ]
  },
  {
   "cell_type": "code",
   "execution_count": 11,
   "metadata": {},
   "outputs": [],
   "source": [
    "#junk code\n",
    "\n",
    "lines = obj['Body'].read().decode('utf-8').split()\n",
    "\n",
    "# now iterate over those lines\n",
    "for row in csv.DictReader(lines):\n",
    "    print(\"lines\")\n",
    "    # here you get a sequence of dicts\n",
    "    # do whatever you want with each line here\n",
    "    print(row)"
   ]
  },
  {
   "cell_type": "markdown",
   "metadata": {},
   "source": [
    "### References \n",
    "\n",
    "+ [S3FS Documentation](https://s3fs.readthedocs.io/en/latest/)\n",
    "+ [Setup credentials AWS documentation](https://docs.aws.amazon.com/sdk-for-java/v1/developer-guide/setup-credentials.html)"
   ]
  }
 ],
 "metadata": {
  "kernelspec": {
   "display_name": "dssg",
   "language": "python",
   "name": "dssg"
  },
  "language_info": {
   "codemirror_mode": {
    "name": "ipython",
    "version": 3
   },
   "file_extension": ".py",
   "mimetype": "text/x-python",
   "name": "python",
   "nbconvert_exporter": "python",
   "pygments_lexer": "ipython3",
   "version": "3.7.3"
  }
 },
 "nbformat": 4,
 "nbformat_minor": 2
}
