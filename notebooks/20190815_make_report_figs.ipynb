{
 "cells": [
  {
   "cell_type": "code",
   "execution_count": 1,
   "metadata": {},
   "outputs": [],
   "source": [
    "import pandas as pd\n",
    "import os \n",
    "os.chdir('../src/')\n"
   ]
  },
  {
   "cell_type": "code",
   "execution_count": 2,
   "metadata": {},
   "outputs": [
    {
     "data": {
      "text/html": [
       "<div>\n",
       "<style scoped>\n",
       "    .dataframe tbody tr th:only-of-type {\n",
       "        vertical-align: middle;\n",
       "    }\n",
       "\n",
       "    .dataframe tbody tr th {\n",
       "        vertical-align: top;\n",
       "    }\n",
       "\n",
       "    .dataframe thead th {\n",
       "        text-align: right;\n",
       "    }\n",
       "</style>\n",
       "<table border=\"1\" class=\"dataframe\">\n",
       "  <thead>\n",
       "    <tr style=\"text-align: right;\">\n",
       "      <th></th>\n",
       "      <th>camera_id</th>\n",
       "      <th>video_upload_datetime</th>\n",
       "      <th>vehicle_type</th>\n",
       "      <th>counts</th>\n",
       "      <th>stops</th>\n",
       "      <th>starts</th>\n",
       "    </tr>\n",
       "  </thead>\n",
       "  <tbody>\n",
       "    <tr>\n",
       "      <th>0</th>\n",
       "      <td>00001.01252</td>\n",
       "      <td>2019-06-29 13:01:03.094068</td>\n",
       "      <td>car</td>\n",
       "      <td>7</td>\n",
       "      <td>4.0</td>\n",
       "      <td>0.0</td>\n",
       "    </tr>\n",
       "    <tr>\n",
       "      <th>1</th>\n",
       "      <td>00001.05900</td>\n",
       "      <td>2019-06-29 13:01:19.744908</td>\n",
       "      <td>bus</td>\n",
       "      <td>1</td>\n",
       "      <td>0.0</td>\n",
       "      <td>0.0</td>\n",
       "    </tr>\n",
       "    <tr>\n",
       "      <th>2</th>\n",
       "      <td>00001.05900</td>\n",
       "      <td>2019-06-29 13:01:19.744908</td>\n",
       "      <td>car</td>\n",
       "      <td>4</td>\n",
       "      <td>5.0</td>\n",
       "      <td>4.0</td>\n",
       "    </tr>\n",
       "  </tbody>\n",
       "</table>\n",
       "</div>"
      ],
      "text/plain": [
       "     camera_id      video_upload_datetime vehicle_type  counts  stops  starts\n",
       "0  00001.01252 2019-06-29 13:01:03.094068          car       7    4.0     0.0\n",
       "1  00001.05900 2019-06-29 13:01:19.744908          bus       1    0.0     0.0\n",
       "2  00001.05900 2019-06-29 13:01:19.744908          car       4    5.0     4.0"
      ]
     },
     "execution_count": 2,
     "metadata": {},
     "output_type": "execute_result"
    }
   ],
   "source": [
    "video_level_df = pd.read_csv(\"../data/carolinetemp/video_level_df.csv\",\n",
    "                    dtype={\"camera_id\": str},\n",
    "                    parse_dates=[\"video_upload_datetime\"])\n",
    "del video_level_df['Unnamed: 0']\n",
    "video_level_df"
   ]
  }
 ],
 "metadata": {
  "kernelspec": {
   "display_name": "dssg",
   "language": "python",
   "name": "dssg"
  },
  "language_info": {
   "codemirror_mode": {
    "name": "ipython",
    "version": 3
   },
   "file_extension": ".py",
   "mimetype": "text/x-python",
   "name": "python",
   "nbconvert_exporter": "python",
   "pygments_lexer": "ipython3",
   "version": "3.7.3"
  }
 },
 "nbformat": 4,
 "nbformat_minor": 2
}
