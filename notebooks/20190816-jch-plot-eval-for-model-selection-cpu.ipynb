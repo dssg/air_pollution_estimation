{
 "cells": [
  {
   "cell_type": "code",
   "execution_count": 1,
   "metadata": {},
   "outputs": [],
   "source": [
    "import os \n",
    "import numpy as np \n",
    "import matplotlib.pyplot as plt\n",
    "import seaborn as sns\n",
    "import pandas as pd\n",
    "import datetime\n",
    "\n",
    "%matplotlib inline"
   ]
  },
  {
   "cell_type": "code",
   "execution_count": 2,
   "metadata": {},
   "outputs": [
    {
     "name": "stdout",
     "output_type": "stream",
     "text": [
      "C:\\Users\\joh3146\\Documents\\dssg\\air_pollution_estimation\\src\n"
     ]
    }
   ],
   "source": [
    "os.chdir('../src/')\n",
    "print(os.getcwd())"
   ]
  },
  {
   "cell_type": "code",
   "execution_count": 3,
   "metadata": {},
   "outputs": [
    {
     "ename": "ModuleNotFoundError",
     "evalue": "No module named 'traffic_viz.d06_visualisation.chunk_evaluation_plotting'",
     "output_type": "error",
     "traceback": [
      "\u001b[1;31m---------------------------------------------------------------------------\u001b[0m",
      "\u001b[1;31mModuleNotFoundError\u001b[0m                       Traceback (most recent call last)",
      "\u001b[1;32m<ipython-input-3-9013bc3d0871>\u001b[0m in \u001b[0;36m<module>\u001b[1;34m\u001b[0m\n\u001b[0;32m      2\u001b[0m \u001b[1;32mfrom\u001b[0m \u001b[0mtraffic_analysis\u001b[0m\u001b[1;33m.\u001b[0m\u001b[0md00_utils\u001b[0m\u001b[1;33m.\u001b[0m\u001b[0mdata_loader_sql\u001b[0m \u001b[1;32mimport\u001b[0m \u001b[0mDataLoaderSQL\u001b[0m\u001b[1;33m\u001b[0m\u001b[1;33m\u001b[0m\u001b[0m\n\u001b[0;32m      3\u001b[0m \u001b[1;32mfrom\u001b[0m \u001b[0mtraffic_analysis\u001b[0m\u001b[1;33m.\u001b[0m\u001b[0md05_evaluation\u001b[0m\u001b[1;33m.\u001b[0m\u001b[0mchunk_evaluator\u001b[0m \u001b[1;32mimport\u001b[0m \u001b[0mChunkEvaluator\u001b[0m\u001b[1;33m\u001b[0m\u001b[1;33m\u001b[0m\u001b[0m\n\u001b[1;32m----> 4\u001b[1;33m from traffic_viz.d06_visualisation.chunk_evaluation_plotting import (\n\u001b[0m\u001b[0;32m      5\u001b[0m     \u001b[0mplot_video_stats_diff_distribution\u001b[0m\u001b[1;33m,\u001b[0m\u001b[1;33m\u001b[0m\u001b[1;33m\u001b[0m\u001b[0m\n\u001b[0;32m      6\u001b[0m     \u001b[0mplot_video_level_summary_stats\u001b[0m\u001b[1;33m,\u001b[0m\u001b[1;33m\u001b[0m\u001b[1;33m\u001b[0m\u001b[0m\n",
      "\u001b[1;31mModuleNotFoundError\u001b[0m: No module named 'traffic_viz.d06_visualisation.chunk_evaluation_plotting'"
     ]
    }
   ],
   "source": [
    "from traffic_analysis.d00_utils.load_confs import load_parameters, load_credentials, load_paths\n",
    "from traffic_analysis.d00_utils.data_loader_sql import DataLoaderSQL\n",
    "from traffic_analysis.d05_evaluation.chunk_evaluator import ChunkEvaluator\n",
    "from traffic_viz.d06_visualisation.chunk_evaluation_plotting import (\n",
    "    plot_video_stats_diff_distribution,\n",
    "    plot_video_level_summary_stats,\n",
    "    plot_mAP_over_time)\n",
    "\n",
    "params = load_parameters()\n",
    "creds = load_credentials()\n",
    "paths = load_paths()\n",
    "pd.set_option('display.max_columns', 500)"
   ]
  },
  {
   "cell_type": "markdown",
   "metadata": {},
   "source": [
    "To read in evaluation results table from sql, need to be on the ec2... otherwise can download locally as a csv and then uploaded."
   ]
  },
  {
   "cell_type": "code",
   "execution_count": 5,
   "metadata": {},
   "outputs": [],
   "source": [
    "video_performance_df = pd.read_csv(\"../data/eval/eval_video_performance2.csv\")\n",
    "video_accuracy_df = pd.read_csv(\"../data/eval/eval_video_diffs2.csv\")\n",
    "frame_accuracy_df = pd.read_csv(\"../data/eval/eval_frame_stats2.csv\")"
   ]
  },
  {
   "cell_type": "code",
   "execution_count": 17,
   "metadata": {},
   "outputs": [
    {
     "data": {
      "text/plain": [
       "<matplotlib.axes._subplots.AxesSubplot at 0x161438e7e80>"
      ]
     },
     "execution_count": 17,
     "metadata": {},
     "output_type": "execute_result"
    },
    {
     "data": {
      "image/png": "[encoded data removed]",
      "text/plain": [
       "<Figure size 432x288 with 1 Axes>"
      ]
     },
     "metadata": {},
     "output_type": "display_data"
    }
   ],
   "source": [
    "video_accuracy_df.counts_diff.hist()"
   ]
  },
  {
   "cell_type": "markdown",
   "metadata": {},
   "source": [
    "to make sure we evaluated some of the opencv with yolov3, they are located in the gpu dataset."
   ]
  },
  {
   "cell_type": "code",
   "execution_count": 140,
   "metadata": {},
   "outputs": [],
   "source": [
    "video_performance_gpu_df = pd.read_csv(\"../data/eval/eval_video_performance_gpu.csv\")\n",
    "video_accuracy_gpu_df = pd.read_csv(\"../data/eval/eval_video_diffs_gpu.csv\")\n",
    "frame_accuracy_gpu_df = pd.read_csv(\"../data/eval/eval_frame_stats_gpu.csv\")"
   ]
  },
  {
   "cell_type": "code",
   "execution_count": 110,
   "metadata": {},
   "outputs": [
    {
     "data": {
      "text/plain": [
       "array([0.75, 0.8 , 0.85, 0.9 ])"
      ]
     },
     "execution_count": 110,
     "metadata": {},
     "output_type": "execute_result"
    }
   ],
   "source": [
    "video_accuracy_df.stop_start_iou_threshold.unique()"
   ]
  },
  {
   "cell_type": "code",
   "execution_count": 156,
   "metadata": {},
   "outputs": [
    {
     "data": {
      "text/plain": [
       "22272"
      ]
     },
     "execution_count": 156,
     "metadata": {},
     "output_type": "execute_result"
    }
   ],
   "source": [
    "len(frame_accuracy_df)"
   ]
  },
  {
   "cell_type": "markdown",
   "metadata": {},
   "source": [
    "Merge the different grid search params into one column, divided by underscores and then convert to a lettering or other naming convention"
   ]
  },
  {
   "cell_type": "code",
   "execution_count": 141,
   "metadata": {},
   "outputs": [
    {
     "data": {
      "text/plain": [
       "0    kcf,yolov3-tiny,4,0.2,0.75\n",
       "1    kcf,yolov3-tiny,4,0.2,0.75\n",
       "2    kcf,yolov3-tiny,4,0.2,0.75\n",
       "3    kcf,yolov3-tiny,4,0.2,0.75\n",
       "4    kcf,yolov3-tiny,4,0.2,0.75\n",
       "Name: model_search, dtype: object"
      ]
     },
     "execution_count": 141,
     "metadata": {},
     "output_type": "execute_result"
    }
   ],
   "source": [
    "columns_to_join = ['tracker_type', 'detection_model', 'detection_frequency', \n",
    "                   'detection_iou_threshold', 'stop_start_iou_threshold']\n",
    "\n",
    "video_performance_df['model_search'] = video_performance_df[columns_to_join].apply(\n",
    "    lambda x: ','.join(x.dropna().astype(str)),\n",
    "    axis=1\n",
    ")\n",
    "\n",
    "video_accuracy_df['model_search'] = video_accuracy_df[columns_to_join].apply(\n",
    "    lambda x: ','.join(x.dropna().astype(str)),\n",
    "    axis=1\n",
    ")\n",
    "\n",
    "frame_accuracy_df['model_search'] = frame_accuracy_df[columns_to_join].apply(\n",
    "    lambda x: ','.join(x.dropna().astype(str)),\n",
    "    axis=1\n",
    ")\n",
    "\n",
    "video_performance_gpu_df['model_search'] = video_performance_gpu_df[columns_to_join].apply(\n",
    "    lambda x: ','.join(x.dropna().astype(str)),\n",
    "    axis=1\n",
    ")\n",
    "\n",
    "video_accuracy_gpu_df['model_search'] = video_accuracy_gpu_df[columns_to_join].apply(\n",
    "    lambda x: ','.join(x.dropna().astype(str)),\n",
    "    axis=1\n",
    ")\n",
    "\n",
    "frame_accuracy_gpu_df['model_search'] = frame_accuracy_gpu_df[columns_to_join].apply(\n",
    "    lambda x: ','.join(x.dropna().astype(str)),\n",
    "    axis=1\n",
    ")\n",
    "\n",
    "video_performance_df['model_search'].head()"
   ]
  },
  {
   "cell_type": "code",
   "execution_count": 113,
   "metadata": {},
   "outputs": [
    {
     "data": {
      "text/plain": [
       "96"
      ]
     },
     "execution_count": 113,
     "metadata": {},
     "output_type": "execute_result"
    }
   ],
   "source": [
    "video_performance_df.model_search.nunique()"
   ]
  },
  {
   "cell_type": "markdown",
   "metadata": {},
   "source": [
    "Remove the data that contains the opencv implementations"
   ]
  },
  {
   "cell_type": "code",
   "execution_count": 158,
   "metadata": {},
   "outputs": [
    {
     "data": {
      "text/plain": [
       "1188"
      ]
     },
     "execution_count": 158,
     "metadata": {},
     "output_type": "execute_result"
    }
   ],
   "source": [
    "eval_dfs_old = [video_performance_gpu_df, video_accuracy_gpu_df, frame_accuracy_gpu_df]\n",
    "\n",
    "eval_dfs = []\n",
    "for eval_df_old in eval_dfs_old:\n",
    "    eval_df = eval_df_old[eval_df_old.detection_model == 'yolov3_opencv']\n",
    "    eval_dfs.append(eval_df)\n",
    "\n",
    "eval_dfs[0].detection_model.unique()\n",
    "len(eval_dfs[0])"
   ]
  },
  {
   "cell_type": "code",
   "execution_count": 165,
   "metadata": {},
   "outputs": [
    {
     "name": "stderr",
     "output_type": "stream",
     "text": [
      "C:\\Users\\joh3146\\AppData\\Local\\Continuum\\anaconda3\\envs\\dssg\\lib\\site-packages\\ipykernel_launcher.py:6: FutureWarning: Sorting because non-concatenation axis is not aligned. A future version\n",
      "of pandas will change to not sort by default.\n",
      "\n",
      "To accept the future behavior, pass 'sort=False'.\n",
      "\n",
      "To retain the current behavior and silence the warning, pass 'sort=True'.\n",
      "\n",
      "  \n",
      "C:\\Users\\joh3146\\AppData\\Local\\Continuum\\anaconda3\\envs\\dssg\\lib\\site-packages\\ipykernel_launcher.py:7: FutureWarning: Sorting because non-concatenation axis is not aligned. A future version\n",
      "of pandas will change to not sort by default.\n",
      "\n",
      "To accept the future behavior, pass 'sort=False'.\n",
      "\n",
      "To retain the current behavior and silence the warning, pass 'sort=True'.\n",
      "\n",
      "  import sys\n"
     ]
    },
    {
     "data": {
      "text/plain": [
       "array(['yolov3-tiny', 'yolov3_opencv'], dtype=object)"
      ]
     },
     "execution_count": 165,
     "metadata": {},
     "output_type": "execute_result"
    }
   ],
   "source": [
    "\n",
    "\n",
    "# video_performance_df.append(eval_dfs[0], ignore_index=True)\n",
    "# video_accuracy_df.append(eval_dfs[1], ignore_index=True)\n",
    "# frame_accuracy_df.append(eval_dfs[2], ignore_index=True)\n",
    "# video_accuracy_df.detection_model.unique()\n",
    "video_performance_df = pd.concat([video_performance_df, eval_dfs[0]])\n",
    "video_accuracy_df = pd.concat([video_accuracy_df, eval_dfs[1]])\n",
    "frame_accuracy_df = pd.concat([frame_accuracy_df, eval_dfs[2]])\n",
    "frame_accuracy_df.detection_model.unique()"
   ]
  },
  {
   "cell_type": "markdown",
   "metadata": {},
   "source": [
    "See if the number of cameras evaluated among model implementations is consistent "
   ]
  },
  {
   "cell_type": "code",
   "execution_count": 166,
   "metadata": {},
   "outputs": [
    {
     "data": {
      "text/plain": [
       "array([63, 73, 71, 25, 23, 21], dtype=int64)"
      ]
     },
     "execution_count": 166,
     "metadata": {},
     "output_type": "execute_result"
    }
   ],
   "source": [
    "video_performance_df.columns\n",
    "video_performance_df.n_videos.unique()"
   ]
  },
  {
   "cell_type": "code",
   "execution_count": 167,
   "metadata": {},
   "outputs": [
    {
     "data": {
      "text/plain": [
       "<matplotlib.axes._subplots.AxesSubplot at 0x1fbae41d358>"
      ]
     },
     "execution_count": 167,
     "metadata": {},
     "output_type": "execute_result"
    },
    {
     "data": {
      "image/png": "[encoded data removed]",
      "text/plain": [
       "<Figure size 432x288 with 1 Axes>"
      ]
     },
     "metadata": {
      "needs_background": "light"
     },
     "output_type": "display_data"
    }
   ],
   "source": [
    "video_performance_df.n_videos.hist()"
   ]
  },
  {
   "cell_type": "code",
   "execution_count": 168,
   "metadata": {},
   "outputs": [
    {
     "data": {
      "text/plain": [
       "70"
      ]
     },
     "execution_count": 168,
     "metadata": {},
     "output_type": "execute_result"
    }
   ],
   "source": [
    "video_accuracy_df['camera_id'] = video_accuracy_df['camera_id'].astype(str)\n",
    "video_accuracy_df['video_id'] = video_accuracy_df.camera_id + '_' + video_accuracy_df.video_upload_datetime\n",
    "video_accuracy_df.video_id.nunique()"
   ]
  },
  {
   "cell_type": "markdown",
   "metadata": {},
   "source": [
    "Since it's inconsistent in total number of videos analyzed, need to see if the 42 videos in the min is at least consistent among all videos."
   ]
  },
  {
   "cell_type": "code",
   "execution_count": 169,
   "metadata": {},
   "outputs": [
    {
     "data": {
      "text/plain": [
       "array([0.2, 0.3, 0.4, 0.5])"
      ]
     },
     "execution_count": 169,
     "metadata": {},
     "output_type": "execute_result"
    }
   ],
   "source": [
    "video_performance_df.columns\n",
    "video_performance_df.model_search[video_performance_df.n_videos == 63].unique()\n",
    "video_performance_df.detection_iou_threshold[video_performance_df.n_videos == 63].unique()"
   ]
  },
  {
   "cell_type": "code",
   "execution_count": 170,
   "metadata": {},
   "outputs": [
    {
     "data": {
      "text/plain": [
       "63"
      ]
     },
     "execution_count": 170,
     "metadata": {},
     "output_type": "execute_result"
    }
   ],
   "source": [
    "models_with_min_num_vids = video_performance_df.model_search[video_performance_df.n_videos == 63].unique()\n",
    "vids_in_min_num_vids = [video_accuracy_df.video_id[\n",
    "    video_accuracy_df.model_search == model].values for model in models_with_min_num_vids]\n",
    "\n",
    "video_accuracy_filtered_df = video_accuracy_df[video_accuracy_df.video_id.isin(vids_in_min_num_vids[0])]\n",
    "n_vid = video_accuracy_filtered_df.video_id.nunique()\n",
    "n_vid"
   ]
  },
  {
   "cell_type": "markdown",
   "metadata": {},
   "source": [
    "the 42 videos are at least consistent. yay."
   ]
  },
  {
   "cell_type": "code",
   "execution_count": 171,
   "metadata": {},
   "outputs": [
    {
     "data": {
      "text/plain": [
       "58"
      ]
     },
     "execution_count": 171,
     "metadata": {},
     "output_type": "execute_result"
    }
   ],
   "source": [
    "frame_accuracy_df['camera_id'] = frame_accuracy_df['camera_id'].astype(str)\n",
    "frame_accuracy_df['video_id'] = frame_accuracy_df.camera_id + '_' + frame_accuracy_df.video_upload_datetime\n",
    "\n",
    "vids_in_min_num_vids = [frame_accuracy_df.video_id[\n",
    "    frame_accuracy_df.model_search == model].values for model in models_with_min_num_vids]\n",
    "\n",
    "frame_accuracy_filtered_df = frame_accuracy_df[frame_accuracy_df.video_id.isin(vids_in_min_num_vids[0])]\n",
    "frame_accuracy_filtered_df.video_id.nunique()"
   ]
  },
  {
   "cell_type": "markdown",
   "metadata": {},
   "source": [
    "not sure why frame_accuracy_filtered has 38 videos = different?"
   ]
  },
  {
   "cell_type": "code",
   "execution_count": 172,
   "metadata": {},
   "outputs": [
    {
     "data": {
      "text/html": [
       "<div>\n",
       "<style scoped>\n",
       "    .dataframe tbody tr th:only-of-type {\n",
       "        vertical-align: middle;\n",
       "    }\n",
       "\n",
       "    .dataframe tbody tr th {\n",
       "        vertical-align: top;\n",
       "    }\n",
       "\n",
       "    .dataframe thead th {\n",
       "        text-align: right;\n",
       "    }\n",
       "</style>\n",
       "<table border=\"1\" class=\"dataframe\">\n",
       "  <thead>\n",
       "    <tr style=\"text-align: right;\">\n",
       "      <th></th>\n",
       "      <th>vehicle_type</th>\n",
       "      <th>model_search</th>\n",
       "      <th>video_id</th>\n",
       "      <th>counts_diff</th>\n",
       "    </tr>\n",
       "  </thead>\n",
       "  <tbody>\n",
       "    <tr>\n",
       "      <th>0</th>\n",
       "      <td>bus</td>\n",
       "      <td>csrt,yolov3-tiny,4,0.2,0.75</td>\n",
       "      <td>1.01252_2019-06-20 02:59:03</td>\n",
       "      <td>0</td>\n",
       "    </tr>\n",
       "    <tr>\n",
       "      <th>1</th>\n",
       "      <td>bus</td>\n",
       "      <td>csrt,yolov3-tiny,4,0.2,0.75</td>\n",
       "      <td>1.01252_2019-06-20 05:58:17</td>\n",
       "      <td>-2</td>\n",
       "    </tr>\n",
       "    <tr>\n",
       "      <th>2</th>\n",
       "      <td>bus</td>\n",
       "      <td>csrt,yolov3-tiny,4,0.2,0.75</td>\n",
       "      <td>1.01252_2019-06-27 03:01:57</td>\n",
       "      <td>0</td>\n",
       "    </tr>\n",
       "    <tr>\n",
       "      <th>3</th>\n",
       "      <td>bus</td>\n",
       "      <td>csrt,yolov3-tiny,4,0.2,0.75</td>\n",
       "      <td>1.01252_2019-06-28 13:03:00</td>\n",
       "      <td>0</td>\n",
       "    </tr>\n",
       "    <tr>\n",
       "      <th>4</th>\n",
       "      <td>bus</td>\n",
       "      <td>csrt,yolov3-tiny,4,0.2,0.75</td>\n",
       "      <td>1.01252_2019-06-29 13:01:03</td>\n",
       "      <td>0</td>\n",
       "    </tr>\n",
       "  </tbody>\n",
       "</table>\n",
       "</div>"
      ],
      "text/plain": [
       "  vehicle_type                 model_search                     video_id  \\\n",
       "0          bus  csrt,yolov3-tiny,4,0.2,0.75  1.01252_2019-06-20 02:59:03   \n",
       "1          bus  csrt,yolov3-tiny,4,0.2,0.75  1.01252_2019-06-20 05:58:17   \n",
       "2          bus  csrt,yolov3-tiny,4,0.2,0.75  1.01252_2019-06-27 03:01:57   \n",
       "3          bus  csrt,yolov3-tiny,4,0.2,0.75  1.01252_2019-06-28 13:03:00   \n",
       "4          bus  csrt,yolov3-tiny,4,0.2,0.75  1.01252_2019-06-29 13:01:03   \n",
       "\n",
       "   counts_diff  \n",
       "0            0  \n",
       "1           -2  \n",
       "2            0  \n",
       "3            0  \n",
       "4            0  "
      ]
     },
     "execution_count": 172,
     "metadata": {},
     "output_type": "execute_result"
    }
   ],
   "source": [
    "counts_diff_df = video_accuracy_filtered_df.groupby(['vehicle_type', 'model_search', 'video_id']).counts_diff.agg(sum).reset_index()\n",
    "counts_diff_df.head()"
   ]
  },
  {
   "cell_type": "code",
   "execution_count": 173,
   "metadata": {},
   "outputs": [
    {
     "data": {
      "text/html": [
       "<div>\n",
       "<style scoped>\n",
       "    .dataframe tbody tr th:only-of-type {\n",
       "        vertical-align: middle;\n",
       "    }\n",
       "\n",
       "    .dataframe tbody tr th {\n",
       "        vertical-align: top;\n",
       "    }\n",
       "\n",
       "    .dataframe thead th {\n",
       "        text-align: right;\n",
       "    }\n",
       "</style>\n",
       "<table border=\"1\" class=\"dataframe\">\n",
       "  <thead>\n",
       "    <tr style=\"text-align: right;\">\n",
       "      <th></th>\n",
       "      <th>vehicle_type</th>\n",
       "      <th>model_search</th>\n",
       "      <th>video_id</th>\n",
       "      <th>counts_diff</th>\n",
       "      <th>abs_counts_diff</th>\n",
       "    </tr>\n",
       "  </thead>\n",
       "  <tbody>\n",
       "    <tr>\n",
       "      <th>0</th>\n",
       "      <td>bus</td>\n",
       "      <td>csrt,yolov3-tiny,4,0.2,0.75</td>\n",
       "      <td>1.01252_2019-06-20 02:59:03</td>\n",
       "      <td>0</td>\n",
       "      <td>0</td>\n",
       "    </tr>\n",
       "    <tr>\n",
       "      <th>1</th>\n",
       "      <td>bus</td>\n",
       "      <td>csrt,yolov3-tiny,4,0.2,0.75</td>\n",
       "      <td>1.01252_2019-06-20 05:58:17</td>\n",
       "      <td>-2</td>\n",
       "      <td>2</td>\n",
       "    </tr>\n",
       "    <tr>\n",
       "      <th>2</th>\n",
       "      <td>bus</td>\n",
       "      <td>csrt,yolov3-tiny,4,0.2,0.75</td>\n",
       "      <td>1.01252_2019-06-27 03:01:57</td>\n",
       "      <td>0</td>\n",
       "      <td>0</td>\n",
       "    </tr>\n",
       "    <tr>\n",
       "      <th>3</th>\n",
       "      <td>bus</td>\n",
       "      <td>csrt,yolov3-tiny,4,0.2,0.75</td>\n",
       "      <td>1.01252_2019-06-28 13:03:00</td>\n",
       "      <td>0</td>\n",
       "      <td>0</td>\n",
       "    </tr>\n",
       "    <tr>\n",
       "      <th>4</th>\n",
       "      <td>bus</td>\n",
       "      <td>csrt,yolov3-tiny,4,0.2,0.75</td>\n",
       "      <td>1.01252_2019-06-29 13:01:03</td>\n",
       "      <td>0</td>\n",
       "      <td>0</td>\n",
       "    </tr>\n",
       "  </tbody>\n",
       "</table>\n",
       "</div>"
      ],
      "text/plain": [
       "  vehicle_type                 model_search                     video_id  \\\n",
       "0          bus  csrt,yolov3-tiny,4,0.2,0.75  1.01252_2019-06-20 02:59:03   \n",
       "1          bus  csrt,yolov3-tiny,4,0.2,0.75  1.01252_2019-06-20 05:58:17   \n",
       "2          bus  csrt,yolov3-tiny,4,0.2,0.75  1.01252_2019-06-27 03:01:57   \n",
       "3          bus  csrt,yolov3-tiny,4,0.2,0.75  1.01252_2019-06-28 13:03:00   \n",
       "4          bus  csrt,yolov3-tiny,4,0.2,0.75  1.01252_2019-06-29 13:01:03   \n",
       "\n",
       "   counts_diff  abs_counts_diff  \n",
       "0            0                0  \n",
       "1           -2                2  \n",
       "2            0                0  \n",
       "3            0                0  \n",
       "4            0                0  "
      ]
     },
     "execution_count": 173,
     "metadata": {},
     "output_type": "execute_result"
    }
   ],
   "source": [
    "counts_diff_df['abs_counts_diff'] = counts_diff_df.counts_diff.apply(lambda x: abs(x))\n",
    "counts_diff_df.head()"
   ]
  },
  {
   "cell_type": "code",
   "execution_count": 174,
   "metadata": {},
   "outputs": [
    {
     "data": {
      "text/plain": [
       "Index(['model_search', 'video_id', 'counts_diff', 'abs_counts_diff'], dtype='object')"
      ]
     },
     "execution_count": 174,
     "metadata": {},
     "output_type": "execute_result"
    }
   ],
   "source": [
    "vid_level_model_comparison_df = counts_diff_df.groupby(\n",
    "    ['model_search', 'video_id'])['counts_diff', 'abs_counts_diff'].agg(sum).reset_index()\n",
    "vid_level_model_comparison_df.columns"
   ]
  },
  {
   "cell_type": "code",
   "execution_count": 175,
   "metadata": {},
   "outputs": [],
   "source": [
    "vid_level_model_comparison_df.rename(columns={'abs_counts_diff' : 'abs_counts_diff_by_veh_type'}, inplace=True)\n",
    "vid_level_model_comparison_df['abs_counts_diff_on_vid_level'] = vid_level_model_comparison_df.counts_diff.apply(\n",
    "    lambda x: abs(x))\n",
    "\n",
    "model_comparison_df = vid_level_model_comparison_df.groupby(\n",
    "    ['model_search'])['abs_counts_diff_on_vid_level', 'abs_counts_diff_by_veh_type'].agg(sum).reset_index()"
   ]
  },
  {
   "cell_type": "code",
   "execution_count": 176,
   "metadata": {},
   "outputs": [
    {
     "data": {
      "text/html": [
       "<div>\n",
       "<style scoped>\n",
       "    .dataframe tbody tr th:only-of-type {\n",
       "        vertical-align: middle;\n",
       "    }\n",
       "\n",
       "    .dataframe tbody tr th {\n",
       "        vertical-align: top;\n",
       "    }\n",
       "\n",
       "    .dataframe thead th {\n",
       "        text-align: right;\n",
       "    }\n",
       "</style>\n",
       "<table border=\"1\" class=\"dataframe\">\n",
       "  <thead>\n",
       "    <tr style=\"text-align: right;\">\n",
       "      <th></th>\n",
       "      <th>model_search</th>\n",
       "      <th>bias</th>\n",
       "      <th>mae</th>\n",
       "    </tr>\n",
       "  </thead>\n",
       "  <tbody>\n",
       "    <tr>\n",
       "      <th>0</th>\n",
       "      <td>csrt,yolov3-tiny,4,0.2,0.75</td>\n",
       "      <td>4.492063</td>\n",
       "      <td>5.984127</td>\n",
       "    </tr>\n",
       "    <tr>\n",
       "      <th>1</th>\n",
       "      <td>csrt,yolov3-tiny,4,0.2,0.8</td>\n",
       "      <td>4.492063</td>\n",
       "      <td>5.984127</td>\n",
       "    </tr>\n",
       "    <tr>\n",
       "      <th>2</th>\n",
       "      <td>csrt,yolov3-tiny,4,0.2,0.85</td>\n",
       "      <td>4.492063</td>\n",
       "      <td>5.984127</td>\n",
       "    </tr>\n",
       "    <tr>\n",
       "      <th>3</th>\n",
       "      <td>csrt,yolov3-tiny,4,0.2,0.9</td>\n",
       "      <td>4.492063</td>\n",
       "      <td>5.984127</td>\n",
       "    </tr>\n",
       "    <tr>\n",
       "      <th>4</th>\n",
       "      <td>csrt,yolov3-tiny,4,0.3,0.75</td>\n",
       "      <td>4.984127</td>\n",
       "      <td>6.539683</td>\n",
       "    </tr>\n",
       "  </tbody>\n",
       "</table>\n",
       "</div>"
      ],
      "text/plain": [
       "                  model_search      bias       mae\n",
       "0  csrt,yolov3-tiny,4,0.2,0.75  4.492063  5.984127\n",
       "1   csrt,yolov3-tiny,4,0.2,0.8  4.492063  5.984127\n",
       "2  csrt,yolov3-tiny,4,0.2,0.85  4.492063  5.984127\n",
       "3   csrt,yolov3-tiny,4,0.2,0.9  4.492063  5.984127\n",
       "4  csrt,yolov3-tiny,4,0.3,0.75  4.984127  6.539683"
      ]
     },
     "execution_count": 176,
     "metadata": {},
     "output_type": "execute_result"
    }
   ],
   "source": [
    "model_comparison_df.abs_counts_diff_on_vid_level = model_comparison_df.abs_counts_diff_on_vid_level / n_vid\n",
    "model_comparison_df.abs_counts_diff_by_veh_type = model_comparison_df.abs_counts_diff_by_veh_type / n_vid\n",
    "model_comparison_df.rename(columns={\n",
    "    'abs_counts_diff_on_vid_level' : 'bias', 'abs_counts_diff_by_veh_type' : 'mae'}, inplace=True)\n",
    "model_comparison_df.head()"
   ]
  },
  {
   "cell_type": "code",
   "execution_count": 177,
   "metadata": {},
   "outputs": [
    {
     "data": {
      "text/plain": [
       "<matplotlib.axes._subplots.AxesSubplot at 0x1fbac4c07b8>"
      ]
     },
     "execution_count": 177,
     "metadata": {},
     "output_type": "execute_result"
    },
    {
     "data": {
      "image/png": "[encoded data removed]",
      "text/plain": [
       "<Figure size 432x288 with 1 Axes>"
      ]
     },
     "metadata": {
      "needs_background": "light"
     },
     "output_type": "display_data"
    }
   ],
   "source": [
    "counts_diff_df[counts_diff_df.vehicle_type == 'car'].counts_diff.hist()"
   ]
  },
  {
   "cell_type": "code",
   "execution_count": 178,
   "metadata": {},
   "outputs": [
    {
     "data": {
      "text/plain": [
       "<matplotlib.axes._subplots.AxesSubplot at 0x1fba3e60dd8>"
      ]
     },
     "execution_count": 178,
     "metadata": {},
     "output_type": "execute_result"
    },
    {
     "data": {
      "image/png": "[encoded data removed]",
      "text/plain": [
       "<Figure size 432x288 with 1 Axes>"
      ]
     },
     "metadata": {
      "needs_background": "light"
     },
     "output_type": "display_data"
    }
   ],
   "source": [
    "counts_diff_df[counts_diff_df.vehicle_type == 'bus'].counts_diff.hist()"
   ]
  },
  {
   "cell_type": "code",
   "execution_count": 179,
   "metadata": {},
   "outputs": [
    {
     "data": {
      "text/plain": [
       "<matplotlib.axes._subplots.AxesSubplot at 0x1fba42202b0>"
      ]
     },
     "execution_count": 179,
     "metadata": {},
     "output_type": "execute_result"
    },
    {
     "data": {
      "image/png": "[encoded data removed]",
      "text/plain": [
       "<Figure size 432x288 with 1 Axes>"
      ]
     },
     "metadata": {
      "needs_background": "light"
     },
     "output_type": "display_data"
    }
   ],
   "source": [
    "counts_diff_df[counts_diff_df.vehicle_type == 'truck'].counts_diff.hist()"
   ]
  },
  {
   "cell_type": "code",
   "execution_count": 180,
   "metadata": {},
   "outputs": [
    {
     "data": {
      "text/plain": [
       "<matplotlib.axes._subplots.AxesSubplot at 0x1fba7348f28>"
      ]
     },
     "execution_count": 180,
     "metadata": {},
     "output_type": "execute_result"
    },
    {
     "data": {
      "image/png": "[encoded data removed]",
      "text/plain": [
       "<Figure size 432x288 with 1 Axes>"
      ]
     },
     "metadata": {
      "needs_background": "light"
     },
     "output_type": "display_data"
    }
   ],
   "source": [
    "counts_diff_df[counts_diff_df.vehicle_type == 'motorcycle'].counts_diff.hist()"
   ]
  },
  {
   "cell_type": "markdown",
   "metadata": {},
   "source": [
    "seems like we're always overpredicting cars but slightly underpredicting trucks and buses."
   ]
  },
  {
   "cell_type": "code",
   "execution_count": 181,
   "metadata": {},
   "outputs": [
    {
     "data": {
      "text/plain": [
       "<matplotlib.axes._subplots.AxesSubplot at 0x1fba46ece10>"
      ]
     },
     "execution_count": 181,
     "metadata": {},
     "output_type": "execute_result"
    },
    {
     "data": {
      "image/png": "[encoded data removed]",
      "text/plain": [
       "<Figure size 432x288 with 1 Axes>"
      ]
     },
     "metadata": {
      "needs_background": "light"
     },
     "output_type": "display_data"
    }
   ],
   "source": [
    "model_comparison_df.bias.hist()"
   ]
  },
  {
   "cell_type": "code",
   "execution_count": 182,
   "metadata": {},
   "outputs": [
    {
     "data": {
      "text/html": [
       "<div>\n",
       "<style scoped>\n",
       "    .dataframe tbody tr th:only-of-type {\n",
       "        vertical-align: middle;\n",
       "    }\n",
       "\n",
       "    .dataframe tbody tr th {\n",
       "        vertical-align: top;\n",
       "    }\n",
       "\n",
       "    .dataframe thead th {\n",
       "        text-align: right;\n",
       "    }\n",
       "</style>\n",
       "<table border=\"1\" class=\"dataframe\">\n",
       "  <thead>\n",
       "    <tr style=\"text-align: right;\">\n",
       "      <th></th>\n",
       "      <th>model_search</th>\n",
       "      <th>bias</th>\n",
       "      <th>mae</th>\n",
       "      <th>avg_analyser_runtime</th>\n",
       "    </tr>\n",
       "  </thead>\n",
       "  <tbody>\n",
       "    <tr>\n",
       "      <th>0</th>\n",
       "      <td>csrt,yolov3-tiny,4,0.2,0.75</td>\n",
       "      <td>4.492063</td>\n",
       "      <td>5.984127</td>\n",
       "      <td>12.618413</td>\n",
       "    </tr>\n",
       "    <tr>\n",
       "      <th>1</th>\n",
       "      <td>csrt,yolov3-tiny,4,0.2,0.8</td>\n",
       "      <td>4.492063</td>\n",
       "      <td>5.984127</td>\n",
       "      <td>12.650582</td>\n",
       "    </tr>\n",
       "    <tr>\n",
       "      <th>2</th>\n",
       "      <td>csrt,yolov3-tiny,4,0.2,0.85</td>\n",
       "      <td>4.492063</td>\n",
       "      <td>5.984127</td>\n",
       "      <td>12.673072</td>\n",
       "    </tr>\n",
       "    <tr>\n",
       "      <th>3</th>\n",
       "      <td>csrt,yolov3-tiny,4,0.2,0.9</td>\n",
       "      <td>4.492063</td>\n",
       "      <td>5.984127</td>\n",
       "      <td>12.618461</td>\n",
       "    </tr>\n",
       "    <tr>\n",
       "      <th>4</th>\n",
       "      <td>csrt,yolov3-tiny,4,0.3,0.75</td>\n",
       "      <td>4.984127</td>\n",
       "      <td>6.539683</td>\n",
       "      <td>13.510668</td>\n",
       "    </tr>\n",
       "  </tbody>\n",
       "</table>\n",
       "</div>"
      ],
      "text/plain": [
       "                  model_search      bias       mae  avg_analyser_runtime\n",
       "0  csrt,yolov3-tiny,4,0.2,0.75  4.492063  5.984127             12.618413\n",
       "1   csrt,yolov3-tiny,4,0.2,0.8  4.492063  5.984127             12.650582\n",
       "2  csrt,yolov3-tiny,4,0.2,0.85  4.492063  5.984127             12.673072\n",
       "3   csrt,yolov3-tiny,4,0.2,0.9  4.492063  5.984127             12.618461\n",
       "4  csrt,yolov3-tiny,4,0.3,0.75  4.984127  6.539683             13.510668"
      ]
     },
     "execution_count": 182,
     "metadata": {},
     "output_type": "execute_result"
    }
   ],
   "source": [
    "speed_df = video_performance_df.groupby(['model_search']).avg_analyser_runtime.mean().reset_index()\n",
    "model_comparison_df = model_comparison_df.merge(speed_df, on = 'model_search')\n",
    "model_comparison_df.head()"
   ]
  },
  {
   "cell_type": "markdown",
   "metadata": {},
   "source": [
    "what is the fastest and the most accurate model? are they the same?"
   ]
  },
  {
   "cell_type": "code",
   "execution_count": 183,
   "metadata": {},
   "outputs": [],
   "source": [
    "accurate_model_idx = model_comparison_df.mae.idxmin()\n",
    "accurate_model = model_comparison_df.model_search[accurate_model_idx]\n",
    "\n",
    "# fastest_model_idx = model_comparison_df[model_comparison_df.avg_analyser_runtime < 1].mae.idxmin()\n",
    "# fastest_model = model_comparison_df.model_search[fastest_model_idx]\n",
    "\n",
    "best_model_idx = model_comparison_df[model_comparison_df.avg_analyser_runtime < 4.8].mae.idxmin()\n",
    "best_model = model_comparison_df.model_search[best_model_idx]"
   ]
  },
  {
   "cell_type": "code",
   "execution_count": 184,
   "metadata": {},
   "outputs": [
    {
     "data": {
      "text/plain": [
       "<matplotlib.lines.Line2D at 0x1fba3e77828>"
      ]
     },
     "execution_count": 184,
     "metadata": {},
     "output_type": "execute_result"
    },
    {
     "data": {
      "image/png": "[encoded data removed]",
      "text/plain": [
       "<Figure size 1080x360 with 3 Axes>"
      ]
     },
     "metadata": {
      "needs_background": "light"
     },
     "output_type": "display_data"
    }
   ],
   "source": [
    "fig, ax = plt.subplots(1,3, figsize=(15, 5))\n",
    "plt.tight_layout()\n",
    "\n",
    "\n",
    "SMALL_SIZE=16\n",
    "MEDIUM_SIZE=22\n",
    "plt.rc('font', size=SMALL_SIZE)          # controls default text sizes\n",
    "plt.rc('axes', titlesize=MEDIUM_SIZE)     # fontsize of the axes title\n",
    "plt.rc('axes', labelsize=MEDIUM_SIZE)    # fontsize of the x and y labels\n",
    "plt.rc('xtick', labelsize=SMALL_SIZE)    # fontsize of the tick labels\n",
    "plt.rc('ytick', labelsize=SMALL_SIZE)    # fontsize of the tick labels\n",
    "plt.rc('legend', fontsize=SMALL_SIZE)    # legend fontsize\n",
    "\n",
    "ax[0].scatter(model_comparison_df.bias,\n",
    "              model_comparison_df.mae,\n",
    "              s=25, alpha=0.3, label='model_ensemble'\n",
    "             )\n",
    "\n",
    "ax[0].scatter(model_comparison_df.bias[best_model_idx],\n",
    "            model_comparison_df.mae[best_model_idx],\n",
    "            label='lowest error model above speed threshold', s=300, alpha=0.5, color='green', marker='*'\n",
    "           )\n",
    "\n",
    "ax[0].scatter(model_comparison_df.bias[accurate_model_idx],\n",
    "            model_comparison_df.mae[accurate_model_idx],\n",
    "            label='lowest error model', color='red', s=300, alpha=0.5, marker='*'\n",
    "           )\n",
    "\n",
    "\n",
    "ax[0].set_xlabel('bias (vehicles)')\n",
    "ax[0].set_ylabel('mean |error| (vehicles)')\n",
    "ax[0].set_title('comparison of video-level \\n accuracy metrics');\n",
    "\n",
    "\n",
    "ax[1].scatter(model_comparison_df.avg_analyser_runtime,\n",
    "            model_comparison_df.mae,\n",
    "            label='model ensemble', s=25, alpha=0.3\n",
    "           )\n",
    "\n",
    "ax[1].scatter(model_comparison_df.avg_analyser_runtime[best_model_idx],\n",
    "            model_comparison_df.mae[best_model_idx],\n",
    "            label='lowest error model above speed threshold', color='green', s=300, alpha=0.5, marker='*'\n",
    "           )\n",
    "\n",
    "ax[1].scatter(model_comparison_df.avg_analyser_runtime[accurate_model_idx],\n",
    "            model_comparison_df.mae[accurate_model_idx],\n",
    "            label='lowest error model', color='red', s=300, alpha=0.5, marker='*'\n",
    "           )\n",
    "\n",
    "ax[1].set_xlabel('processing time (sec)')\n",
    "ax[1].set_ylabel('mean |error| (vehicles)')\n",
    "ax[1].set_title('comparison of video-level \\n absolute error and processing speed')\n",
    "ax[1].axvline(4.8, color='red', label='speed threshold', lw=1, ls='--')\n",
    "\n",
    "\n",
    "ax[2].scatter(model_comparison_df.avg_analyser_runtime,\n",
    "            model_comparison_df.bias,\n",
    "            label='model ensemble', s=25, alpha=0.3\n",
    "           )\n",
    "\n",
    "ax[2].scatter(model_comparison_df.avg_analyser_runtime[best_model_idx],\n",
    "            model_comparison_df.bias[best_model_idx],\n",
    "            label='lowest error model above speed threshold', color='green', s=300, alpha=0.5, marker='*'\n",
    "           )\n",
    "\n",
    "ax[2].scatter(model_comparison_df.avg_analyser_runtime[accurate_model_idx],\n",
    "            model_comparison_df.bias[accurate_model_idx],\n",
    "            label='lowest error model', color='red', s=300, alpha=0.5, marker='*'\n",
    "           )\n",
    "\n",
    "ax[2].set_xlabel('processing time (sec)')\n",
    "ax[2].set_ylabel('bias (vehicles)')\n",
    "ax[2].set_title('comparison of video-level \\n bias and processing speed')\n",
    "ax[2].axvline(4.8, color='red', label='speed threshold', lw=1, ls='--')\n",
    "\n",
    "# ax[2].legend();"
   ]
  },
  {
   "cell_type": "code",
   "execution_count": 185,
   "metadata": {},
   "outputs": [
    {
     "data": {
      "text/plain": [
       "195"
      ]
     },
     "execution_count": 185,
     "metadata": {},
     "output_type": "execute_result"
    }
   ],
   "source": [
    "model_comparison_df.model_search.nunique()"
   ]
  },
  {
   "cell_type": "code",
   "execution_count": 186,
   "metadata": {},
   "outputs": [
    {
     "data": {
      "text/plain": [
       "model_search            kcf,yolov3-tiny,4,0.2,0.75\n",
       "bias                                       6.98413\n",
       "mae                                         8.8254\n",
       "avg_analyser_runtime                       2.92786\n",
       "Name: 64, dtype: object"
      ]
     },
     "execution_count": 186,
     "metadata": {},
     "output_type": "execute_result"
    }
   ],
   "source": [
    "model_comparison_df.iloc[best_model_idx]"
   ]
  },
  {
   "cell_type": "code",
   "execution_count": 187,
   "metadata": {},
   "outputs": [
    {
     "data": {
      "text/plain": [
       "model_search            csrt,yolov3-tiny,4,0.2,0.75\n",
       "bias                                        4.49206\n",
       "mae                                         5.98413\n",
       "avg_analyser_runtime                        12.6184\n",
       "Name: 0, dtype: object"
      ]
     },
     "execution_count": 187,
     "metadata": {},
     "output_type": "execute_result"
    }
   ],
   "source": [
    "model_comparison_df.iloc[accurate_model_idx]"
   ]
  }
 ],
 "metadata": {
  "kernelspec": {
   "display_name": "dssg",
   "language": "python",
   "name": "dssg"
  },
  "language_info": {
   "codemirror_mode": {
    "name": "ipython",
    "version": 3
   },
   "file_extension": ".py",
   "mimetype": "text/x-python",
   "name": "python",
   "nbconvert_exporter": "python",
   "pygments_lexer": "ipython3",
   "version": "3.7.3"
  }
 },
 "nbformat": 4,
 "nbformat_minor": 2
}
