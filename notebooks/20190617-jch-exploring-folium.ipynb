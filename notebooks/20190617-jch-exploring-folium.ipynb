{
 "cells": [
  {
   "cell_type": "markdown",
   "metadata": {},
   "source": [
    "## Exploring folium with co-locating of TIMS and jamcam data as test case\n",
    "17 June 2019, Jack Hensley"
   ]
  },
  {
   "cell_type": "code",
   "execution_count": 2,
   "metadata": {
    "collapsed": true
   },
   "outputs": [],
   "source": [
    "import folium\n",
    "import boto3\n",
    "import pandas as pd\n",
    "% matplotlib inline"
   ]
  },
  {
   "cell_type": "markdown",
   "metadata": {},
   "source": [
    "Make a map of london"
   ]
  },
  {
   "cell_type": "code",
   "execution_count": 3,
   "metadata": {},
   "outputs": [
    {
     "data": {
      "text/html": [
       "<div style=\"width:100%;\"><div style=\"position:relative;width:100%;height:0;padding-bottom:60%;\"><iframe src=\"data:text/html;charset=utf-8;base64,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\" style=\"position:absolute;width:100%;height:100%;left:0;top:0;border:none !important;\" allowfullscreen webkitallowfullscreen mozallowfullscreen></iframe></div></div>"
      ],
      "text/plain": [
       "<folium.folium.Map at 0x160ce299b70>"
      ]
     },
     "execution_count": 3,
     "metadata": {},
     "output_type": "execute_result"
    }
   ],
   "source": [
    "London = [51.506949, -0.122876]\n",
    "londonmap = folium.Map(\n",
    "    width=500, height=500,\n",
    "    location = London,\n",
    "    zoom_start = 12, \n",
    "    tiles = 'stamentoner')\n",
    "\n",
    "londonmap"
   ]
  },
  {
   "cell_type": "markdown",
   "metadata": {},
   "source": [
    "import tims data and see if pandas dataframe can be added as a marker layer"
   ]
  },
  {
   "cell_type": "code",
   "execution_count": 4,
   "metadata": {},
   "outputs": [
    {
     "data": {
      "text/html": [
       "<div>\n",
       "<style scoped>\n",
       "    .dataframe tbody tr th:only-of-type {\n",
       "        vertical-align: middle;\n",
       "    }\n",
       "\n",
       "    .dataframe tbody tr th {\n",
       "        vertical-align: top;\n",
       "    }\n",
       "\n",
       "    .dataframe thead th {\n",
       "        text-align: right;\n",
       "    }\n",
       "</style>\n",
       "<table border=\"1\" class=\"dataframe\">\n",
       "  <thead>\n",
       "    <tr style=\"text-align: right;\">\n",
       "      <th></th>\n",
       "      <th>Unnamed: 0</th>\n",
       "      <th>NODE</th>\n",
       "      <th>EASTING</th>\n",
       "      <th>NORTHING</th>\n",
       "      <th>LONGITUDE</th>\n",
       "      <th>LATITUDE</th>\n",
       "    </tr>\n",
       "  </thead>\n",
       "  <tbody>\n",
       "    <tr>\n",
       "      <th>0</th>\n",
       "      <td>0</td>\n",
       "      <td>00/002</td>\n",
       "      <td>531633.00</td>\n",
       "      <td>181174.00</td>\n",
       "      <td>-0.104402</td>\n",
       "      <td>51.514163</td>\n",
       "    </tr>\n",
       "    <tr>\n",
       "      <th>1</th>\n",
       "      <td>1</td>\n",
       "      <td>00/003</td>\n",
       "      <td>533656.17</td>\n",
       "      <td>180943.61</td>\n",
       "      <td>-0.075350</td>\n",
       "      <td>51.511618</td>\n",
       "    </tr>\n",
       "    <tr>\n",
       "      <th>2</th>\n",
       "      <td>2</td>\n",
       "      <td>00/004</td>\n",
       "      <td>531400.00</td>\n",
       "      <td>181550.00</td>\n",
       "      <td>-0.107617</td>\n",
       "      <td>51.517597</td>\n",
       "    </tr>\n",
       "    <tr>\n",
       "      <th>3</th>\n",
       "      <td>3</td>\n",
       "      <td>00/005</td>\n",
       "      <td>531389.58</td>\n",
       "      <td>180817.87</td>\n",
       "      <td>-0.108040</td>\n",
       "      <td>51.511020</td>\n",
       "    </tr>\n",
       "    <tr>\n",
       "      <th>4</th>\n",
       "      <td>4</td>\n",
       "      <td>00/006</td>\n",
       "      <td>531648.94</td>\n",
       "      <td>180896.39</td>\n",
       "      <td>-0.104276</td>\n",
       "      <td>51.511665</td>\n",
       "    </tr>\n",
       "  </tbody>\n",
       "</table>\n",
       "</div>"
      ],
      "text/plain": [
       "   Unnamed: 0    NODE    EASTING   NORTHING  LONGITUDE   LATITUDE\n",
       "0           0  00/002  531633.00  181174.00  -0.104402  51.514163\n",
       "1           1  00/003  533656.17  180943.61  -0.075350  51.511618\n",
       "2           2  00/004  531400.00  181550.00  -0.107617  51.517597\n",
       "3           3  00/005  531389.58  180817.87  -0.108040  51.511020\n",
       "4           4  00/006  531648.94  180896.39  -0.104276  51.511665"
      ]
     },
     "execution_count": 4,
     "metadata": {},
     "output_type": "execute_result"
    }
   ],
   "source": [
    "# import tims and jam cam locations\n",
    "\n",
    "# tims\n",
    "session = boto3.Session(profile_name='dssg')\n",
    "s3 = session.client('s3')\n",
    "bucket_name = 'air-pollution-uk'\n",
    "obj = s3.get_object(Bucket=bucket_name, Key='processed_data/tims/node_coords.csv')\n",
    "tims_df = pd.read_csv(obj['Body'])\n",
    "\n",
    "tims_df.head()"
   ]
  },
  {
   "cell_type": "code",
   "execution_count": 5,
   "metadata": {},
   "outputs": [
    {
     "data": {
      "text/plain": [
       "[[51.5141633840598, -0.10440159913027557],\n",
       " [51.51161845046011, -0.07535009391243043],\n",
       " [51.517596509059146, -0.10761739938442924],\n",
       " [51.51101961830904, -0.10804012179092776],\n",
       " [51.51166492597567, -0.1042755933589956],\n",
       " [51.512108279168785, -0.10211387302877913],\n",
       " [51.51622151833674, -0.10203341317616298],\n",
       " [51.51732305016336, -0.0887503477742653],\n",
       " [51.51476644331376, -0.08972053714003989],\n",
       " [51.51335250261293, -0.08895632333614241]]"
      ]
     },
     "execution_count": 5,
     "metadata": {},
     "output_type": "execute_result"
    }
   ],
   "source": [
    "tims_locations = tims_df[['LATITUDE', 'LONGITUDE']]\n",
    "tims_location_list = tims_locations.values.tolist()\n",
    "tims_location_list[0:10]"
   ]
  },
  {
   "cell_type": "markdown",
   "metadata": {},
   "source": [
    "repeat with jamcams"
   ]
  },
  {
   "cell_type": "code",
   "execution_count": 8,
   "metadata": {},
   "outputs": [
    {
     "data": {
      "text/html": [
       "<div>\n",
       "<style scoped>\n",
       "    .dataframe tbody tr th:only-of-type {\n",
       "        vertical-align: middle;\n",
       "    }\n",
       "\n",
       "    .dataframe tbody tr th {\n",
       "        vertical-align: top;\n",
       "    }\n",
       "\n",
       "    .dataframe thead th {\n",
       "        text-align: right;\n",
       "    }\n",
       "</style>\n",
       "<table border=\"1\" class=\"dataframe\">\n",
       "  <thead>\n",
       "    <tr style=\"text-align: right;\">\n",
       "      <th></th>\n",
       "      <th>NAME</th>\n",
       "      <th>LATITUDE</th>\n",
       "      <th>LONGITUDE</th>\n",
       "    </tr>\n",
       "  </thead>\n",
       "  <tbody>\n",
       "    <tr>\n",
       "      <th>0</th>\n",
       "      <td>Romford_Rd/Tennyson_Rd</td>\n",
       "      <td>51.5421</td>\n",
       "      <td>0.00524</td>\n",
       "    </tr>\n",
       "    <tr>\n",
       "      <th>1</th>\n",
       "      <td>Piccadilly_Circus</td>\n",
       "      <td>51.5096</td>\n",
       "      <td>-0.13484</td>\n",
       "    </tr>\n",
       "    <tr>\n",
       "      <th>2</th>\n",
       "      <td>Blackheath_Rd/Greenwich_High_Rd</td>\n",
       "      <td>51.4742</td>\n",
       "      <td>-0.02073</td>\n",
       "    </tr>\n",
       "    <tr>\n",
       "      <th>3</th>\n",
       "      <td>Edgware_Way/Broadfields_Ave</td>\n",
       "      <td>51.6216</td>\n",
       "      <td>-0.27384</td>\n",
       "    </tr>\n",
       "    <tr>\n",
       "      <th>4</th>\n",
       "      <td>Cromwell_Rd/Earls_Court_Rd</td>\n",
       "      <td>51.4946</td>\n",
       "      <td>-0.19570</td>\n",
       "    </tr>\n",
       "  </tbody>\n",
       "</table>\n",
       "</div>"
      ],
      "text/plain": [
       "                              NAME  LATITUDE  LONGITUDE\n",
       "0           Romford_Rd/Tennyson_Rd   51.5421    0.00524\n",
       "1                Piccadilly_Circus   51.5096   -0.13484\n",
       "2  Blackheath_Rd/Greenwich_High_Rd   51.4742   -0.02073\n",
       "3      Edgware_Way/Broadfields_Ave   51.6216   -0.27384\n",
       "4       Cromwell_Rd/Earls_Court_Rd   51.4946   -0.19570"
      ]
     },
     "execution_count": 8,
     "metadata": {},
     "output_type": "execute_result"
    }
   ],
   "source": [
    "# import tims and jam cam locations\n",
    "\n",
    "# tims\n",
    "obj = s3.get_object(Bucket=bucket_name, Key='processed_data/jamcams/jamcam_coords.csv')\n",
    "jc_df = pd.read_csv(obj['Body'])\n",
    "\n",
    "jc_df.head()"
   ]
  },
  {
   "cell_type": "code",
   "execution_count": 9,
   "metadata": {},
   "outputs": [
    {
     "data": {
      "text/plain": [
       "[[51.5421, 0.00524],\n",
       " [51.5096, -0.13484000000000002],\n",
       " [51.4742, -0.02073],\n",
       " [51.6216, -0.27384000000000003],\n",
       " [51.4946, -0.1957],\n",
       " [51.514, -0.15409],\n",
       " [51.441, -0.10633],\n",
       " [51.5336, -0.02256],\n",
       " [51.4949, -0.12891],\n",
       " [51.3741, -0.09646]]"
      ]
     },
     "execution_count": 9,
     "metadata": {},
     "output_type": "execute_result"
    }
   ],
   "source": [
    "jc_locations = jc_df[['LATITUDE', 'LONGITUDE']]\n",
    "jc_location_list = jc_locations.values.tolist()\n",
    "jc_location_list[0:10]"
   ]
  },
  {
   "cell_type": "code",
   "execution_count": 12,
   "metadata": {},
   "outputs": [
    {
     "name": "stdout",
     "output_type": "stream",
     "text": [
      "C:/Users/joh3146/Documents/dssg/map_data_locations_small.html\n",
      "C:/Users/joh3146/Documents/dssg/map_data_locations_regular.html\n",
      "C:/Users/joh3146/Documents/dssg/map_data_locations_large.html\n"
     ]
    }
   ],
   "source": [
    "labelsizes = [0.1, 1, 10]\n",
    "labelstr = ['small', 'regular', 'large']\n",
    "for tick in range(len(labelsizes)):\n",
    "    London = [51.506949, -0.122876]\n",
    "    london_map = folium.Map(\n",
    "        width=500, height=500,\n",
    "        location = London,\n",
    "        zoom_start = 20, \n",
    "        tiles = 'stamentoner')\n",
    "\n",
    "    for point in range(0, len(tims_location_list)):\n",
    "        folium.CircleMarker(tims_location_list[point],\n",
    "                            radius=labelsizes[tick],\n",
    "                            color='red',\n",
    "                            fill_color='red',\n",
    "                            fill_opacity=0.2\n",
    "                           ).add_to(london_map)\n",
    "\n",
    "    for point in range(0, len(jc_location_list)):\n",
    "        folium.CircleMarker(jc_location_list[point],\n",
    "                            radius=labelsizes[tick],\n",
    "                            color='blue',\n",
    "                            fill_color='blue',\n",
    "                            fill_opacity=0.2\n",
    "                           ).add_to(london_map)\n",
    "    \n",
    "    filestr_in = \"C:/Users/joh3146/Documents/dssg/map_data_locations.html\"\n",
    "    filestr_out = filestr_in[:-5] + '_' + labelstr[tick] + filestr_in[-5:]\n",
    "    print(filestr_out)\n",
    "    london_map.save(\"C:/Users/joh3146/Documents/dssg/london_map_large_labels.html\")"
   ]
  }
 ],
 "metadata": {
  "kernelspec": {
   "display_name": "Python 3",
   "language": "python",
   "name": "python3"
  },
  "language_info": {
   "codemirror_mode": {
    "name": "ipython",
    "version": 3
   },
   "file_extension": ".py",
   "mimetype": "text/x-python",
   "name": "python",
   "nbconvert_exporter": "python",
   "pygments_lexer": "ipython3",
   "version": "3.6.3"
  }
 },
 "nbformat": 4,
 "nbformat_minor": 2
}
