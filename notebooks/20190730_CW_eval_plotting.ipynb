{
 "cells": [
  {
   "cell_type": "code",
   "execution_count": 1,
   "metadata": {},
   "outputs": [
    {
     "name": "stdout",
     "output_type": "stream",
     "text": [
      "C:\\Users\\Caroline Wang\\OneDrive\\DSSG\\air_pollution_estimation\\src\n"
     ]
    }
   ],
   "source": [
    "import os \n",
    "os.chdir('../src/')\n",
    "print(os.getcwd())\n",
    "from traffic_analysis.d05_evaluation.chunk_evaluator import ChunkEvaluator\n",
    "from traffic_analysis.d00_utils.load_confs import load_parameters\n",
    "\n",
    "import numpy as np \n",
    "import matplotlib.pyplot as plt\n",
    "import pandas as pd\n",
    "params = load_parameters()\n",
    "pd.set_option('display.max_columns', 500)\n",
    "\n",
    "%matplotlib inline"
   ]
  },
  {
   "cell_type": "markdown",
   "metadata": {},
   "source": [
    "Read in video level data"
   ]
  },
  {
   "cell_type": "code",
   "execution_count": 2,
   "metadata": {},
   "outputs": [],
   "source": [
    "xml_paths = [\"C:\\\\Users\\\\Caroline Wang\\\\OneDrive\\\\DSSG\\\\air_pollution_estimation\\\\annotations\\\\15_2019-06-29_13-01-03.094068_00001.01252.xml\",\n",
    "            \"C:\\\\Users\\\\Caroline Wang\\\\OneDrive\\\\DSSG\\\\air_pollution_estimation\\\\annotations\\\\14_2019-06-29_13-01-19.744908_00001.05900.xml\"]\n",
    "\n",
    "video_level_dfs = pd.read_csv(\"../data/carolinetemp/video_level_df.csv\",\n",
    "                    dtype={\"camera_id\": str},\n",
    "                    parse_dates=[\"video_upload_datetime\"])\n",
    "del video_level_dfs['Unnamed: 0']\n",
    "\n",
    "video_level_df_list = []\n",
    "video_level_groups = video_level_dfs.groupby(['camera_id', 'video_upload_datetime'])\n",
    "for name, group in video_level_groups: \n",
    "    video_level_df_list.append(group)"
   ]
  },
  {
   "cell_type": "markdown",
   "metadata": {},
   "source": [
    "Read in frame level data"
   ]
  },
  {
   "cell_type": "code",
   "execution_count": 3,
   "metadata": {},
   "outputs": [],
   "source": [
    "frame_level_dfs = pd.read_csv(\"../data/carolinetemp/frame_level_df.csv\",\n",
    "                    dtype={\"camera_id\": str},\n",
    "                    converters={\"bboxes\": lambda x: [float(coord) for coord in x.strip(\"[]\").split(\", \")]}, \n",
    "                    parse_dates=[\"video_upload_datetime\"])\n",
    "del frame_level_dfs['Unnamed: 0']\n",
    "\n",
    "frame_level_df_list = []\n",
    "frame_level_groups = frame_level_dfs.groupby(['camera_id', 'video_upload_datetime'])\n",
    "for name, group in frame_level_groups: \n",
    "    frame_level_df_list.append(group)\n"
   ]
  },
  {
   "cell_type": "markdown",
   "metadata": {},
   "source": [
    "Run evaluators"
   ]
  },
  {
   "cell_type": "code",
   "execution_count": 4,
   "metadata": {},
   "outputs": [
    {
     "name": "stderr",
     "output_type": "stream",
     "text": [
      "C:\\Users\\Caroline Wang\\OneDrive\\DSSG\\air_pollution_estimation\\src\\traffic_analysis\\d05_evaluation\\single_evaluator.py:308: SettingWithCopyWarning: \n",
      "A value is trying to be set on a copy of a slice from a DataFrame\n",
      "\n",
      "See the caveats in the documentation: http://pandas.pydata.org/pandas-docs/stable/indexing.html#indexing-view-versus-copy\n",
      "  df.loc[len(df) + 1] = new_row_dict\n",
      "C:\\Users\\Caroline Wang\\OneDrive\\DSSG\\air_pollution_estimation\\src\\traffic_analysis\\d05_evaluation\\single_evaluator.py:308: SettingWithCopyWarning: \n",
      "A value is trying to be set on a copy of a slice from a DataFrame\n",
      "\n",
      "See the caveats in the documentation: http://pandas.pydata.org/pandas-docs/stable/indexing.html#indexing-view-versus-copy\n",
      "  df.loc[len(df) + 1] = new_row_dict\n"
     ]
    },
    {
     "data": {
      "text/html": [
       "<div>\n",
       "<style scoped>\n",
       "    .dataframe tbody tr th:only-of-type {\n",
       "        vertical-align: middle;\n",
       "    }\n",
       "\n",
       "    .dataframe tbody tr th {\n",
       "        vertical-align: top;\n",
       "    }\n",
       "\n",
       "    .dataframe thead th {\n",
       "        text-align: right;\n",
       "    }\n",
       "</style>\n",
       "<table border=\"1\" class=\"dataframe\">\n",
       "  <thead>\n",
       "    <tr style=\"text-align: right;\">\n",
       "      <th></th>\n",
       "      <th>camera_id</th>\n",
       "      <th>video_upload_datetime</th>\n",
       "      <th>vehicle_type</th>\n",
       "      <th>y_pred-y_counts</th>\n",
       "      <th>y_pred-y_starts</th>\n",
       "      <th>y_pred-y_stops</th>\n",
       "      <th>y_pred-y_parked</th>\n",
       "    </tr>\n",
       "  </thead>\n",
       "  <tbody>\n",
       "    <tr>\n",
       "      <th>0</th>\n",
       "      <td>00001.01252</td>\n",
       "      <td>2019-06-29 13:01:03.094068</td>\n",
       "      <td>bus</td>\n",
       "      <td>0</td>\n",
       "      <td>0.0</td>\n",
       "      <td>0.0</td>\n",
       "      <td>0</td>\n",
       "    </tr>\n",
       "    <tr>\n",
       "      <th>1</th>\n",
       "      <td>00001.01252</td>\n",
       "      <td>2019-06-29 13:01:03.094068</td>\n",
       "      <td>car</td>\n",
       "      <td>3</td>\n",
       "      <td>0.0</td>\n",
       "      <td>3.0</td>\n",
       "      <td>0</td>\n",
       "    </tr>\n",
       "    <tr>\n",
       "      <th>2</th>\n",
       "      <td>00001.01252</td>\n",
       "      <td>2019-06-29 13:01:03.094068</td>\n",
       "      <td>motorbike</td>\n",
       "      <td>-2</td>\n",
       "      <td>0.0</td>\n",
       "      <td>0.0</td>\n",
       "      <td>0</td>\n",
       "    </tr>\n",
       "    <tr>\n",
       "      <th>3</th>\n",
       "      <td>00001.01252</td>\n",
       "      <td>2019-06-29 13:01:03.094068</td>\n",
       "      <td>truck</td>\n",
       "      <td>-1</td>\n",
       "      <td>0.0</td>\n",
       "      <td>0.0</td>\n",
       "      <td>0</td>\n",
       "    </tr>\n",
       "    <tr>\n",
       "      <th>0</th>\n",
       "      <td>00001.05900</td>\n",
       "      <td>2019-06-29 13:01:19.744908</td>\n",
       "      <td>bus</td>\n",
       "      <td>0</td>\n",
       "      <td>-1.0</td>\n",
       "      <td>-1.0</td>\n",
       "      <td>0</td>\n",
       "    </tr>\n",
       "    <tr>\n",
       "      <th>1</th>\n",
       "      <td>00001.05900</td>\n",
       "      <td>2019-06-29 13:01:19.744908</td>\n",
       "      <td>car</td>\n",
       "      <td>-2</td>\n",
       "      <td>3.0</td>\n",
       "      <td>-1.0</td>\n",
       "      <td>0</td>\n",
       "    </tr>\n",
       "    <tr>\n",
       "      <th>2</th>\n",
       "      <td>00001.05900</td>\n",
       "      <td>2019-06-29 13:01:19.744908</td>\n",
       "      <td>motorbike</td>\n",
       "      <td>-2</td>\n",
       "      <td>0.0</td>\n",
       "      <td>0.0</td>\n",
       "      <td>0</td>\n",
       "    </tr>\n",
       "    <tr>\n",
       "      <th>3</th>\n",
       "      <td>00001.05900</td>\n",
       "      <td>2019-06-29 13:01:19.744908</td>\n",
       "      <td>truck</td>\n",
       "      <td>-2</td>\n",
       "      <td>0.0</td>\n",
       "      <td>0.0</td>\n",
       "      <td>0</td>\n",
       "    </tr>\n",
       "  </tbody>\n",
       "</table>\n",
       "</div>"
      ],
      "text/plain": [
       "     camera_id      video_upload_datetime vehicle_type  y_pred-y_counts  \\\n",
       "0  00001.01252 2019-06-29 13:01:03.094068          bus                0   \n",
       "1  00001.01252 2019-06-29 13:01:03.094068          car                3   \n",
       "2  00001.01252 2019-06-29 13:01:03.094068    motorbike               -2   \n",
       "3  00001.01252 2019-06-29 13:01:03.094068        truck               -1   \n",
       "0  00001.05900 2019-06-29 13:01:19.744908          bus                0   \n",
       "1  00001.05900 2019-06-29 13:01:19.744908          car               -2   \n",
       "2  00001.05900 2019-06-29 13:01:19.744908    motorbike               -2   \n",
       "3  00001.05900 2019-06-29 13:01:19.744908        truck               -2   \n",
       "\n",
       "   y_pred-y_starts  y_pred-y_stops  y_pred-y_parked  \n",
       "0              0.0             0.0                0  \n",
       "1              0.0             3.0                0  \n",
       "2              0.0             0.0                0  \n",
       "3              0.0             0.0                0  \n",
       "0             -1.0            -1.0                0  \n",
       "1              3.0            -1.0                0  \n",
       "2              0.0             0.0                0  \n",
       "3              0.0             0.0                0  "
      ]
     },
     "execution_count": 4,
     "metadata": {},
     "output_type": "execute_result"
    }
   ],
   "source": [
    "chunk_evaluator = ChunkEvaluator(annotation_xml_paths=xml_paths,\n",
    "                                 params=params,\n",
    "                                 video_level_dfs=video_level_df_list,\n",
    "                                 frame_level_dfs = frame_level_df_list)\n",
    "video_level_diff_df = chunk_evaluator.evaluate_video_level()\n",
    "video_level_diff_df"
   ]
  },
  {
   "cell_type": "code",
   "execution_count": 5,
   "metadata": {},
   "outputs": [
    {
     "ename": "KeyError",
     "evalue": "'n_videos'",
     "output_type": "error",
     "traceback": [
      "\u001b[1;31m---------------------------------------------------------------------------\u001b[0m",
      "\u001b[1;31mKeyError\u001b[0m                                  Traceback (most recent call last)",
      "\u001b[1;32m~\\Anaconda3\\envs\\dssg\\lib\\site-packages\\pandas\\core\\indexes\\base.py\u001b[0m in \u001b[0;36mget_loc\u001b[1;34m(self, key, method, tolerance)\u001b[0m\n\u001b[0;32m   2656\u001b[0m             \u001b[1;32mtry\u001b[0m\u001b[1;33m:\u001b[0m\u001b[1;33m\u001b[0m\u001b[1;33m\u001b[0m\u001b[0m\n\u001b[1;32m-> 2657\u001b[1;33m                 \u001b[1;32mreturn\u001b[0m \u001b[0mself\u001b[0m\u001b[1;33m.\u001b[0m\u001b[0m_engine\u001b[0m\u001b[1;33m.\u001b[0m\u001b[0mget_loc\u001b[0m\u001b[1;33m(\u001b[0m\u001b[0mkey\u001b[0m\u001b[1;33m)\u001b[0m\u001b[1;33m\u001b[0m\u001b[1;33m\u001b[0m\u001b[0m\n\u001b[0m\u001b[0;32m   2658\u001b[0m             \u001b[1;32mexcept\u001b[0m \u001b[0mKeyError\u001b[0m\u001b[1;33m:\u001b[0m\u001b[1;33m\u001b[0m\u001b[1;33m\u001b[0m\u001b[0m\n",
      "\u001b[1;32mpandas/_libs/index.pyx\u001b[0m in \u001b[0;36mpandas._libs.index.IndexEngine.get_loc\u001b[1;34m()\u001b[0m\n",
      "\u001b[1;32mpandas/_libs/index.pyx\u001b[0m in \u001b[0;36mpandas._libs.index.IndexEngine.get_loc\u001b[1;34m()\u001b[0m\n",
      "\u001b[1;32mpandas/_libs/hashtable_class_helper.pxi\u001b[0m in \u001b[0;36mpandas._libs.hashtable.PyObjectHashTable.get_item\u001b[1;34m()\u001b[0m\n",
      "\u001b[1;32mpandas/_libs/hashtable_class_helper.pxi\u001b[0m in \u001b[0;36mpandas._libs.hashtable.PyObjectHashTable.get_item\u001b[1;34m()\u001b[0m\n",
      "\u001b[1;31mKeyError\u001b[0m: 'n_videos'",
      "\nDuring handling of the above exception, another exception occurred:\n",
      "\u001b[1;31mKeyError\u001b[0m                                  Traceback (most recent call last)",
      "\u001b[1;32m<ipython-input-5-15b0fbab9783>\u001b[0m in \u001b[0;36m<module>\u001b[1;34m\u001b[0m\n\u001b[0;32m     66\u001b[0m                        metrics = {'mean_diff':\"../data/plots/video_mean.pdf\",\n\u001b[0;32m     67\u001b[0m                                   'mse':\"../data/plots/video_mse.pdf\"},\n\u001b[1;32m---> 68\u001b[1;33m                        \u001b[0mshow_plots\u001b[0m \u001b[1;33m=\u001b[0m \u001b[1;32mTrue\u001b[0m\u001b[1;33m\u001b[0m\u001b[1;33m\u001b[0m\u001b[0m\n\u001b[0m\u001b[0;32m     69\u001b[0m                        )\n",
      "\u001b[1;32m<ipython-input-5-15b0fbab9783>\u001b[0m in \u001b[0;36mplot_video_level_stats\u001b[1;34m(video_level_diff_df, metrics, show_plots)\u001b[0m\n\u001b[0;32m      3\u001b[0m                            show_plots = True): \n\u001b[0;32m      4\u001b[0m \u001b[1;33m\u001b[0m\u001b[0m\n\u001b[1;32m----> 5\u001b[1;33m     \u001b[0mn_videos\u001b[0m \u001b[1;33m=\u001b[0m \u001b[0mvideo_level_diff_df\u001b[0m\u001b[1;33m[\u001b[0m\u001b[1;34m'n_videos'\u001b[0m\u001b[1;33m]\u001b[0m\u001b[1;33m.\u001b[0m\u001b[0miloc\u001b[0m\u001b[1;33m[\u001b[0m\u001b[1;36m0\u001b[0m\u001b[1;33m]\u001b[0m\u001b[1;33m\u001b[0m\u001b[1;33m\u001b[0m\u001b[0m\n\u001b[0m\u001b[0;32m      6\u001b[0m \u001b[1;33m\u001b[0m\u001b[0m\n\u001b[0;32m      7\u001b[0m     \u001b[1;32mif\u001b[0m \u001b[1;34m'mean_diff'\u001b[0m \u001b[1;32min\u001b[0m \u001b[0mmetrics\u001b[0m\u001b[1;33m:\u001b[0m\u001b[1;33m\u001b[0m\u001b[1;33m\u001b[0m\u001b[0m\n",
      "\u001b[1;32m~\\Anaconda3\\envs\\dssg\\lib\\site-packages\\pandas\\core\\frame.py\u001b[0m in \u001b[0;36m__getitem__\u001b[1;34m(self, key)\u001b[0m\n\u001b[0;32m   2925\u001b[0m             \u001b[1;32mif\u001b[0m \u001b[0mself\u001b[0m\u001b[1;33m.\u001b[0m\u001b[0mcolumns\u001b[0m\u001b[1;33m.\u001b[0m\u001b[0mnlevels\u001b[0m \u001b[1;33m>\u001b[0m \u001b[1;36m1\u001b[0m\u001b[1;33m:\u001b[0m\u001b[1;33m\u001b[0m\u001b[1;33m\u001b[0m\u001b[0m\n\u001b[0;32m   2926\u001b[0m                 \u001b[1;32mreturn\u001b[0m \u001b[0mself\u001b[0m\u001b[1;33m.\u001b[0m\u001b[0m_getitem_multilevel\u001b[0m\u001b[1;33m(\u001b[0m\u001b[0mkey\u001b[0m\u001b[1;33m)\u001b[0m\u001b[1;33m\u001b[0m\u001b[1;33m\u001b[0m\u001b[0m\n\u001b[1;32m-> 2927\u001b[1;33m             \u001b[0mindexer\u001b[0m \u001b[1;33m=\u001b[0m \u001b[0mself\u001b[0m\u001b[1;33m.\u001b[0m\u001b[0mcolumns\u001b[0m\u001b[1;33m.\u001b[0m\u001b[0mget_loc\u001b[0m\u001b[1;33m(\u001b[0m\u001b[0mkey\u001b[0m\u001b[1;33m)\u001b[0m\u001b[1;33m\u001b[0m\u001b[1;33m\u001b[0m\u001b[0m\n\u001b[0m\u001b[0;32m   2928\u001b[0m             \u001b[1;32mif\u001b[0m \u001b[0mis_integer\u001b[0m\u001b[1;33m(\u001b[0m\u001b[0mindexer\u001b[0m\u001b[1;33m)\u001b[0m\u001b[1;33m:\u001b[0m\u001b[1;33m\u001b[0m\u001b[1;33m\u001b[0m\u001b[0m\n\u001b[0;32m   2929\u001b[0m                 \u001b[0mindexer\u001b[0m \u001b[1;33m=\u001b[0m \u001b[1;33m[\u001b[0m\u001b[0mindexer\u001b[0m\u001b[1;33m]\u001b[0m\u001b[1;33m\u001b[0m\u001b[1;33m\u001b[0m\u001b[0m\n",
      "\u001b[1;32m~\\Anaconda3\\envs\\dssg\\lib\\site-packages\\pandas\\core\\indexes\\base.py\u001b[0m in \u001b[0;36mget_loc\u001b[1;34m(self, key, method, tolerance)\u001b[0m\n\u001b[0;32m   2657\u001b[0m                 \u001b[1;32mreturn\u001b[0m \u001b[0mself\u001b[0m\u001b[1;33m.\u001b[0m\u001b[0m_engine\u001b[0m\u001b[1;33m.\u001b[0m\u001b[0mget_loc\u001b[0m\u001b[1;33m(\u001b[0m\u001b[0mkey\u001b[0m\u001b[1;33m)\u001b[0m\u001b[1;33m\u001b[0m\u001b[1;33m\u001b[0m\u001b[0m\n\u001b[0;32m   2658\u001b[0m             \u001b[1;32mexcept\u001b[0m \u001b[0mKeyError\u001b[0m\u001b[1;33m:\u001b[0m\u001b[1;33m\u001b[0m\u001b[1;33m\u001b[0m\u001b[0m\n\u001b[1;32m-> 2659\u001b[1;33m                 \u001b[1;32mreturn\u001b[0m \u001b[0mself\u001b[0m\u001b[1;33m.\u001b[0m\u001b[0m_engine\u001b[0m\u001b[1;33m.\u001b[0m\u001b[0mget_loc\u001b[0m\u001b[1;33m(\u001b[0m\u001b[0mself\u001b[0m\u001b[1;33m.\u001b[0m\u001b[0m_maybe_cast_indexer\u001b[0m\u001b[1;33m(\u001b[0m\u001b[0mkey\u001b[0m\u001b[1;33m)\u001b[0m\u001b[1;33m)\u001b[0m\u001b[1;33m\u001b[0m\u001b[1;33m\u001b[0m\u001b[0m\n\u001b[0m\u001b[0;32m   2660\u001b[0m         \u001b[0mindexer\u001b[0m \u001b[1;33m=\u001b[0m \u001b[0mself\u001b[0m\u001b[1;33m.\u001b[0m\u001b[0mget_indexer\u001b[0m\u001b[1;33m(\u001b[0m\u001b[1;33m[\u001b[0m\u001b[0mkey\u001b[0m\u001b[1;33m]\u001b[0m\u001b[1;33m,\u001b[0m \u001b[0mmethod\u001b[0m\u001b[1;33m=\u001b[0m\u001b[0mmethod\u001b[0m\u001b[1;33m,\u001b[0m \u001b[0mtolerance\u001b[0m\u001b[1;33m=\u001b[0m\u001b[0mtolerance\u001b[0m\u001b[1;33m)\u001b[0m\u001b[1;33m\u001b[0m\u001b[1;33m\u001b[0m\u001b[0m\n\u001b[0;32m   2661\u001b[0m         \u001b[1;32mif\u001b[0m \u001b[0mindexer\u001b[0m\u001b[1;33m.\u001b[0m\u001b[0mndim\u001b[0m \u001b[1;33m>\u001b[0m \u001b[1;36m1\u001b[0m \u001b[1;32mor\u001b[0m \u001b[0mindexer\u001b[0m\u001b[1;33m.\u001b[0m\u001b[0msize\u001b[0m \u001b[1;33m>\u001b[0m \u001b[1;36m1\u001b[0m\u001b[1;33m:\u001b[0m\u001b[1;33m\u001b[0m\u001b[1;33m\u001b[0m\u001b[0m\n",
      "\u001b[1;32mpandas/_libs/index.pyx\u001b[0m in \u001b[0;36mpandas._libs.index.IndexEngine.get_loc\u001b[1;34m()\u001b[0m\n",
      "\u001b[1;32mpandas/_libs/index.pyx\u001b[0m in \u001b[0;36mpandas._libs.index.IndexEngine.get_loc\u001b[1;34m()\u001b[0m\n",
      "\u001b[1;32mpandas/_libs/hashtable_class_helper.pxi\u001b[0m in \u001b[0;36mpandas._libs.hashtable.PyObjectHashTable.get_item\u001b[1;34m()\u001b[0m\n",
      "\u001b[1;32mpandas/_libs/hashtable_class_helper.pxi\u001b[0m in \u001b[0;36mpandas._libs.hashtable.PyObjectHashTable.get_item\u001b[1;34m()\u001b[0m\n",
      "\u001b[1;31mKeyError\u001b[0m: 'n_videos'"
     ]
    }
   ],
   "source": [
    "def plot_video_level_stats(video_level_diff_df: pd.DataFrame, \n",
    "                           metrics = {'mean_diff':None, 'mse':None},\n",
    "                           show_plots = True): \n",
    "    \n",
    "    n_videos = video_level_diff_df['n_videos'].iloc[0]\n",
    "    \n",
    "    if 'mean_diff' in metrics: \n",
    "        df = video_level_diff_df[video_level_diff_df[\"statistic\"] != \"mse\"]\n",
    "        mean_df = df[df['statistic'] == 'mean_diff'][['counts','stops','starts','parked','vehicle_type']].set_index('vehicle_type')\n",
    "        sd_df = df[df['statistic'] == 'sd'][['counts','stops','starts','parked','vehicle_type']].set_index('vehicle_type').values.T\n",
    "\n",
    "        ax = mean_df.plot(kind='bar',\n",
    "                            yerr=sd_df,\n",
    "                            grid=False,\n",
    "                            figsize=(10,8),\n",
    "                            position=0.45,\n",
    "                            colormap = 'Paired',\n",
    "                            error_kw=dict(ecolor='k',elinewidth=0.5),\n",
    "                            width=1.0\n",
    "                            )\n",
    "\n",
    "        ax.set_facecolor('whitesmoke')\n",
    "\n",
    "        for side in ax.spines:\n",
    "            ax.spines[side].set_visible(False)\n",
    "\n",
    "        plt.title(f\"Video level performance on {n_videos} videos\")\n",
    "        plt.xticks(rotation=45)\n",
    "        plt.xlabel(\"Vehicle Type\", labelpad=20)\n",
    "        plt.ylabel(\"Mean Difference\")\n",
    "        if show_plots: \n",
    "            plt.show()\n",
    "        if metrics[\"mean_diff\"] is not None: \n",
    "            plt.savefig(metrics[\"mean_diff\"])\n",
    "        plt.close()\n",
    "        \n",
    "    if 'mse' in metrics: \n",
    "        df = video_level_diff_df[video_level_diff_df[\"statistic\"] == \"mse\"]\n",
    "        mse_df = df[['counts','stops','starts','parked','vehicle_type']].set_index('vehicle_type')\n",
    "        ax = mse_df.plot(kind='bar',\n",
    "                            grid=False,\n",
    "                            figsize=(10,8),\n",
    "                            position=0.45,\n",
    "                            colormap = 'Paired',\n",
    "#                             error_kw=dict(ecolor='k',elinewidth=0.5),\n",
    "                            width=1.0\n",
    "                            )\n",
    "\n",
    "        ax.set_facecolor('whitesmoke')\n",
    "\n",
    "        for side in ax.spines:\n",
    "            ax.spines[side].set_visible(False)\n",
    "\n",
    "        plt.title(f\"Video level performance on {n_videos} videos\")\n",
    "        plt.xticks(rotation=45)\n",
    "        plt.xlabel(\"Vehicle Type\", labelpad=20)\n",
    "        plt.ylabel(\"MSE\")\n",
    "        if show_plots: \n",
    "            plt.show()\n",
    "        if metrics[\"mse\"] is not None: \n",
    "            plt.savefig(metrics[\"mse\"])\n",
    "        plt.close()\n",
    "    return\n",
    "\n",
    "plot_video_level_stats(video_level_diff_df, \n",
    "                       metrics = {'mean_diff':\"../data/plots/video_mean.pdf\",\n",
    "                                  'mse':\"../data/plots/video_mse.pdf\"},\n",
    "                       show_plots = True\n",
    "                       )\n"
   ]
  },
  {
   "cell_type": "markdown",
   "metadata": {},
   "source": [
    "Possible line chart for frame level"
   ]
  },
  {
   "cell_type": "code",
   "execution_count": 7,
   "metadata": {},
   "outputs": [
    {
     "data": {
      "text/plain": [
       "<matplotlib.legend.Legend at 0x2744a311908>"
      ]
     },
     "execution_count": 7,
     "metadata": {},
     "output_type": "execute_result"
    },
    {
     "data": {
      "image/png": "[encoded data removed]",
      "text/plain": [
       "<Figure size 432x288 with 1 Axes>"
      ]
     },
     "metadata": {
      "needs_background": "light"
     },
     "output_type": "display_data"
    }
   ],
   "source": [
    "fig = plt.figure()\n",
    "x = np.arange(10)\n",
    "y = 2.5 * np.sin(x / 20 * np.pi)\n",
    "yerr = np.linspace(0.05, 0.2, 10)\n",
    "\n",
    "#line1\n",
    "plt.errorbar(x, y + 3, yerr=yerr, label='both limits (default)')\n",
    "#line2\n",
    "plt.errorbar(x, y + 2, yerr=yerr, uplims=True, label='uplims=True')\n",
    "#line3\n",
    "plt.errorbar(x, y + 1, yerr=yerr, uplims=True, lolims=True,\n",
    "             label='uplims=True, lolims=True')\n",
    "#line4\n",
    "upperlimits = [True, False] * 5\n",
    "lowerlimits = [False, True] * 5\n",
    "plt.errorbar(x, y, yerr=yerr, uplims=upperlimits, lolims=lowerlimits,\n",
    "             label='subsets of uplims and lolims')\n",
    "\n",
    "plt.legend(loc='lower right')"
   ]
  }
 ],
 "metadata": {
  "kernelspec": {
   "display_name": "dssg",
   "language": "python",
   "name": "dssg"
  },
  "language_info": {
   "codemirror_mode": {
    "name": "ipython",
    "version": 3
   },
   "file_extension": ".py",
   "mimetype": "text/x-python",
   "name": "python",
   "nbconvert_exporter": "python",
   "pygments_lexer": "ipython3",
   "version": "3.7.3"
  }
 },
 "nbformat": 4,
 "nbformat_minor": 2
}
