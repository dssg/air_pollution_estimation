{
 "cells": [
  {
   "cell_type": "markdown",
   "metadata": {},
   "source": [
    "# Imports"
   ]
  },
  {
   "cell_type": "code",
   "execution_count": 1,
   "metadata": {},
   "outputs": [],
   "source": [
    "import os\n",
    "import sys\n",
    "import pandas as pd\n",
    "import datetime\n",
    "import subprocess\n",
    "import os\n",
    "import json\n"
   ]
  },
  {
   "cell_type": "code",
   "execution_count": 2,
   "metadata": {},
   "outputs": [],
   "source": [
    "src_dir = os.path.join(os.getcwd(), '..', 'src')\n",
    "sys.path.append(src_dir)"
   ]
  },
  {
   "cell_type": "code",
   "execution_count": 3,
   "metadata": {},
   "outputs": [
    {
     "name": "stderr",
     "output_type": "stream",
     "text": [
      "Using TensorFlow backend.\n"
     ]
    }
   ],
   "source": [
    "from traffic_analysis.d00_utils.data_retrieval import delete_and_recreate_dir\n",
    "from traffic_analysis.d00_utils.load_confs import load_parameters, load_paths\n",
    "from traffic_analysis.d02_ref.load_video_names_from_s3 import load_video_names_from_s3\n",
    "from traffic_analysis.d02_ref.retrieve_and_upload_video_names_to_s3 import retrieve_and_upload_video_names_to_s3\n",
    "from traffic_analysis.d02_ref.upload_annotation_names_to_s3 import upload_annotation_names_to_s3\n",
    "from traffic_analysis.d03_processing.update_s3_processed import update_frame_level_table\n",
    "\n",
    "params = load_parameters()\n",
    "paths = load_paths()"
   ]
  },
  {
   "cell_type": "markdown",
   "metadata": {},
   "source": [
    "# Analysis"
   ]
  },
  {
   "cell_type": "code",
   "execution_count": 5,
   "metadata": {},
   "outputs": [
    {
     "name": "stdout",
     "output_type": "stream",
     "text": [
      "From: 2019-06-30 To: 2019-06-30\n",
      "Extracting 293343 file names for date 2019-06-30 took 110.28195691108704 seconds\n"
     ]
    }
   ],
   "source": [
    "#retrieve_and_upload_video_names_to_s3(ouput_file_name='test_search',\n",
    "#                                      paths=paths,\n",
    "#                                      from_date='2019-06-30',\n",
    "#                                      to_date='2019-06-30',\n",
    "#                                      from_time='13-00-00',\n",
    "#                                      to_time='13-05-00',\n",
    "#                                      camera_list=params['tims_camera_list'][:2])"
   ]
  },
  {
   "cell_type": "code",
   "execution_count": 6,
   "metadata": {},
   "outputs": [
    {
     "name": "stdout",
     "output_type": "stream",
     "text": [
      "Extracting 24 file names took 0.6831274032592773 seconds\n"
     ]
    }
   ],
   "source": [
    "#upload_annotation_names_to_s3(paths)"
   ]
  },
  {
   "cell_type": "code",
   "execution_count": 4,
   "metadata": {},
   "outputs": [],
   "source": [
    "selected_videos = load_video_names_from_s3(ref_file='test_search',\n",
    "                                           paths=paths)"
   ]
  },
  {
   "cell_type": "code",
   "execution_count": 5,
   "metadata": {},
   "outputs": [],
   "source": [
    "chunk_size = params['chunk_size']"
   ]
  },
  {
   "cell_type": "code",
   "execution_count": 16,
   "metadata": {},
   "outputs": [
    {
     "data": {
      "text/plain": [
       "5"
      ]
     },
     "execution_count": 16,
     "metadata": {},
     "output_type": "execute_result"
    }
   ],
   "source": [
    "chunk_size"
   ]
  },
  {
   "cell_type": "code",
   "execution_count": null,
   "metadata": {},
   "outputs": [],
   "source": [
    "selected_videos"
   ]
  },
  {
   "cell_type": "code",
   "execution_count": 17,
   "metadata": {},
   "outputs": [
    {
     "name": "stdout",
     "output_type": "stream",
     "text": [
      "Classifying video 0/4.\n",
      "Classifying video 1/4.\n",
      "Classifying video 2/4.\n",
      "Classifying video 3/4.\n"
     ]
    }
   ],
   "source": [
    "update_frame_level_table(file_names=selected_videos[6:10],\n",
    "                         paths=paths,\n",
    "                         params=params)"
   ]
  },
  {
   "cell_type": "code",
   "execution_count": 7,
   "metadata": {},
   "outputs": [],
   "source": [
    "from traffic_analysis.d03_processing.update_s3_processed import load_s3_parquet"
   ]
  },
  {
   "cell_type": "code",
   "execution_count": 8,
   "metadata": {},
   "outputs": [
    {
     "data": {
      "text/html": [
       "<div>\n",
       "<style scoped>\n",
       "    .dataframe tbody tr th:only-of-type {\n",
       "        vertical-align: middle;\n",
       "    }\n",
       "\n",
       "    .dataframe tbody tr th {\n",
       "        vertical-align: top;\n",
       "    }\n",
       "\n",
       "    .dataframe thead th {\n",
       "        text-align: right;\n",
       "    }\n",
       "</style>\n",
       "<table border=\"1\" class=\"dataframe\">\n",
       "  <thead>\n",
       "    <tr style=\"text-align: right;\">\n",
       "      <th></th>\n",
       "      <th>camera_id</th>\n",
       "      <th>frame_id</th>\n",
       "      <th>date</th>\n",
       "      <th>time</th>\n",
       "      <th>obj_bounds</th>\n",
       "      <th>obj_classification</th>\n",
       "      <th>confidence</th>\n",
       "      <th>video_id</th>\n",
       "    </tr>\n",
       "    <tr>\n",
       "      <th>obj_ind</th>\n",
       "      <th></th>\n",
       "      <th></th>\n",
       "      <th></th>\n",
       "      <th></th>\n",
       "      <th></th>\n",
       "      <th></th>\n",
       "      <th></th>\n",
       "      <th></th>\n",
       "    </tr>\n",
       "  </thead>\n",
       "  <tbody>\n",
       "    <tr>\n",
       "      <th>0</th>\n",
       "      <td>00001.06590</td>\n",
       "      <td>0</td>\n",
       "      <td>2019-06-29</td>\n",
       "      <td>13:00:40.071379</td>\n",
       "      <td>[178, 204, 196, 224]</td>\n",
       "      <td>car</td>\n",
       "      <td>0.415502</td>\n",
       "      <td>0</td>\n",
       "    </tr>\n",
       "    <tr>\n",
       "      <th>0</th>\n",
       "      <td>00001.06590</td>\n",
       "      <td>1</td>\n",
       "      <td>2019-06-29</td>\n",
       "      <td>13:00:40.071379</td>\n",
       "      <td>[176, 204, 196, 224]</td>\n",
       "      <td>car</td>\n",
       "      <td>0.437907</td>\n",
       "      <td>0</td>\n",
       "    </tr>\n",
       "    <tr>\n",
       "      <th>0</th>\n",
       "      <td>00001.06590</td>\n",
       "      <td>2</td>\n",
       "      <td>2019-06-29</td>\n",
       "      <td>13:00:40.071379</td>\n",
       "      <td>[181, 204, 199, 224]</td>\n",
       "      <td>car</td>\n",
       "      <td>0.422005</td>\n",
       "      <td>0</td>\n",
       "    </tr>\n",
       "    <tr>\n",
       "      <th>0</th>\n",
       "      <td>00001.06590</td>\n",
       "      <td>3</td>\n",
       "      <td>2019-06-29</td>\n",
       "      <td>13:00:40.071379</td>\n",
       "      <td>[182, 206, 200, 224]</td>\n",
       "      <td>car</td>\n",
       "      <td>0.484743</td>\n",
       "      <td>0</td>\n",
       "    </tr>\n",
       "    <tr>\n",
       "      <th>0</th>\n",
       "      <td>00001.06590</td>\n",
       "      <td>4</td>\n",
       "      <td>2019-06-29</td>\n",
       "      <td>13:00:40.071379</td>\n",
       "      <td>[182, 205, 200, 223]</td>\n",
       "      <td>car</td>\n",
       "      <td>0.557349</td>\n",
       "      <td>0</td>\n",
       "    </tr>\n",
       "  </tbody>\n",
       "</table>\n",
       "</div>"
      ],
      "text/plain": [
       "           camera_id  frame_id        date             time  \\\n",
       "obj_ind                                                       \n",
       "0        00001.06590         0  2019-06-29  13:00:40.071379   \n",
       "0        00001.06590         1  2019-06-29  13:00:40.071379   \n",
       "0        00001.06590         2  2019-06-29  13:00:40.071379   \n",
       "0        00001.06590         3  2019-06-29  13:00:40.071379   \n",
       "0        00001.06590         4  2019-06-29  13:00:40.071379   \n",
       "\n",
       "                   obj_bounds obj_classification  confidence  video_id  \n",
       "obj_ind                                                                 \n",
       "0        [178, 204, 196, 224]                car    0.415502         0  \n",
       "0        [176, 204, 196, 224]                car    0.437907         0  \n",
       "0        [181, 204, 199, 224]                car    0.422005         0  \n",
       "0        [182, 206, 200, 224]                car    0.484743         0  \n",
       "0        [182, 205, 200, 223]                car    0.557349         0  "
      ]
     },
     "execution_count": 8,
     "metadata": {},
     "output_type": "execute_result"
    }
   ],
   "source": [
    "df = load_s3_parquet(file='frame_table', paths=paths)\n",
    "df.head()"
   ]
  },
  {
   "cell_type": "code",
   "execution_count": 14,
   "metadata": {},
   "outputs": [
    {
     "data": {
      "text/html": [
       "<div>\n",
       "<style scoped>\n",
       "    .dataframe tbody tr th:only-of-type {\n",
       "        vertical-align: middle;\n",
       "    }\n",
       "\n",
       "    .dataframe tbody tr th {\n",
       "        vertical-align: top;\n",
       "    }\n",
       "\n",
       "    .dataframe thead th {\n",
       "        text-align: right;\n",
       "    }\n",
       "</style>\n",
       "<table border=\"1\" class=\"dataframe\">\n",
       "  <thead>\n",
       "    <tr style=\"text-align: right;\">\n",
       "      <th></th>\n",
       "      <th>camera_id</th>\n",
       "      <th>frame_id</th>\n",
       "      <th>date</th>\n",
       "      <th>time</th>\n",
       "      <th>obj_bounds</th>\n",
       "      <th>obj_classification</th>\n",
       "      <th>confidence</th>\n",
       "      <th>video_id</th>\n",
       "    </tr>\n",
       "    <tr>\n",
       "      <th>obj_ind</th>\n",
       "      <th></th>\n",
       "      <th></th>\n",
       "      <th></th>\n",
       "      <th></th>\n",
       "      <th></th>\n",
       "      <th></th>\n",
       "      <th></th>\n",
       "      <th></th>\n",
       "    </tr>\n",
       "  </thead>\n",
       "  <tbody>\n",
       "    <tr>\n",
       "      <th>0</th>\n",
       "      <td>00001.04336</td>\n",
       "      <td>0</td>\n",
       "      <td>2019-06-29</td>\n",
       "      <td>13:01:40.228706</td>\n",
       "      <td>[118, 138, 138, 156]</td>\n",
       "      <td>car</td>\n",
       "      <td>0.700746</td>\n",
       "      <td>3</td>\n",
       "    </tr>\n",
       "    <tr>\n",
       "      <th>1</th>\n",
       "      <td>00001.04336</td>\n",
       "      <td>0</td>\n",
       "      <td>2019-06-29</td>\n",
       "      <td>13:01:40.228706</td>\n",
       "      <td>[232, 215, 246, 239]</td>\n",
       "      <td>person</td>\n",
       "      <td>0.610739</td>\n",
       "      <td>3</td>\n",
       "    </tr>\n",
       "    <tr>\n",
       "      <th>2</th>\n",
       "      <td>00001.04336</td>\n",
       "      <td>0</td>\n",
       "      <td>2019-06-29</td>\n",
       "      <td>13:01:40.228706</td>\n",
       "      <td>[66, 106, 84, 120]</td>\n",
       "      <td>car</td>\n",
       "      <td>0.467177</td>\n",
       "      <td>3</td>\n",
       "    </tr>\n",
       "    <tr>\n",
       "      <th>3</th>\n",
       "      <td>00001.04336</td>\n",
       "      <td>0</td>\n",
       "      <td>2019-06-29</td>\n",
       "      <td>13:01:40.228706</td>\n",
       "      <td>[120, 101, 130, 109]</td>\n",
       "      <td>car</td>\n",
       "      <td>0.421970</td>\n",
       "      <td>3</td>\n",
       "    </tr>\n",
       "    <tr>\n",
       "      <th>4</th>\n",
       "      <td>00001.04336</td>\n",
       "      <td>0</td>\n",
       "      <td>2019-06-29</td>\n",
       "      <td>13:01:40.228706</td>\n",
       "      <td>[73, 72, 93, 92]</td>\n",
       "      <td>car</td>\n",
       "      <td>0.411990</td>\n",
       "      <td>3</td>\n",
       "    </tr>\n",
       "  </tbody>\n",
       "</table>\n",
       "</div>"
      ],
      "text/plain": [
       "           camera_id  frame_id        date             time  \\\n",
       "obj_ind                                                       \n",
       "0        00001.04336         0  2019-06-29  13:01:40.228706   \n",
       "1        00001.04336         0  2019-06-29  13:01:40.228706   \n",
       "2        00001.04336         0  2019-06-29  13:01:40.228706   \n",
       "3        00001.04336         0  2019-06-29  13:01:40.228706   \n",
       "4        00001.04336         0  2019-06-29  13:01:40.228706   \n",
       "\n",
       "                   obj_bounds obj_classification  confidence  video_id  \n",
       "obj_ind                                                                 \n",
       "0        [118, 138, 138, 156]                car    0.700746         3  \n",
       "1        [232, 215, 246, 239]             person    0.610739         3  \n",
       "2          [66, 106, 84, 120]                car    0.467177         3  \n",
       "3        [120, 101, 130, 109]                car    0.421970         3  \n",
       "4            [73, 72, 93, 92]                car    0.411990         3  "
      ]
     },
     "execution_count": 14,
     "metadata": {},
     "output_type": "execute_result"
    }
   ],
   "source": [
    "df.loc[(df.camera_id == '00001.04336') & (df.frame_id == 0)]"
   ]
  },
  {
   "cell_type": "code",
   "execution_count": 15,
   "metadata": {},
   "outputs": [
    {
     "data": {
      "text/plain": [
       "4"
      ]
     },
     "execution_count": 15,
     "metadata": {},
     "output_type": "execute_result"
    }
   ],
   "source": [
    "len(df.camera_id.unique())"
   ]
  },
  {
   "cell_type": "code",
   "execution_count": 4,
   "metadata": {},
   "outputs": [],
   "source": [
    "from sqlalchemy import create_engine\n",
    "db_host = parameters['DATABASE_PARAMS']['db_host']\n",
    "db_name = parameters['DATABASE_PARAMS']['db_name']\n",
    "db_user = credentials['dev_sql']['username']\n",
    "db_pass = credentials['dev_sql']['password']\n",
    "\n",
    "conn = create_engine('postgresql://%s:%s@%s/%s' % \n",
    "                       (db_user, db_pass, db_host, db_name),\n",
    "                       encoding = 'latin1', \n",
    "                       echo = True)"
   ]
  },
  {
   "cell_type": "code",
   "execution_count": 9,
   "metadata": {},
   "outputs": [
    {
     "name": "stdout",
     "output_type": "stream",
     "text": [
      "2019-07-17 12:04:23,369 INFO sqlalchemy.engine.base.Engine select version()\n"
     ]
    },
    {
     "name": "stderr",
     "output_type": "stream",
     "text": [
      "WARNING: Logging before flag parsing goes to stderr.\n",
      "I0717 12:04:23.369070 140377874048832 log.py:110] select version()\n"
     ]
    },
    {
     "name": "stdout",
     "output_type": "stream",
     "text": [
      "2019-07-17 12:04:23,370 INFO sqlalchemy.engine.base.Engine {}\n"
     ]
    },
    {
     "name": "stderr",
     "output_type": "stream",
     "text": [
      "I0717 12:04:23.370263 140377874048832 log.py:110] {}\n"
     ]
    },
    {
     "name": "stdout",
     "output_type": "stream",
     "text": [
      "2019-07-17 12:04:23,374 INFO sqlalchemy.engine.base.Engine select current_schema()\n"
     ]
    },
    {
     "name": "stderr",
     "output_type": "stream",
     "text": [
      "I0717 12:04:23.374774 140377874048832 log.py:110] select current_schema()\n"
     ]
    },
    {
     "name": "stdout",
     "output_type": "stream",
     "text": [
      "2019-07-17 12:04:23,375 INFO sqlalchemy.engine.base.Engine {}\n"
     ]
    },
    {
     "name": "stderr",
     "output_type": "stream",
     "text": [
      "I0717 12:04:23.375689 140377874048832 log.py:110] {}\n"
     ]
    },
    {
     "name": "stdout",
     "output_type": "stream",
     "text": [
      "2019-07-17 12:04:23,378 INFO sqlalchemy.engine.base.Engine SELECT CAST('test plain returns' AS VARCHAR(60)) AS anon_1\n"
     ]
    },
    {
     "name": "stderr",
     "output_type": "stream",
     "text": [
      "I0717 12:04:23.378087 140377874048832 log.py:110] SELECT CAST('test plain returns' AS VARCHAR(60)) AS anon_1\n"
     ]
    },
    {
     "name": "stdout",
     "output_type": "stream",
     "text": [
      "2019-07-17 12:04:23,379 INFO sqlalchemy.engine.base.Engine {}\n"
     ]
    },
    {
     "name": "stderr",
     "output_type": "stream",
     "text": [
      "I0717 12:04:23.379004 140377874048832 log.py:110] {}\n"
     ]
    },
    {
     "name": "stdout",
     "output_type": "stream",
     "text": [
      "2019-07-17 12:04:23,380 INFO sqlalchemy.engine.base.Engine SELECT CAST('test unicode returns' AS VARCHAR(60)) AS anon_1\n"
     ]
    },
    {
     "name": "stderr",
     "output_type": "stream",
     "text": [
      "I0717 12:04:23.380589 140377874048832 log.py:110] SELECT CAST('test unicode returns' AS VARCHAR(60)) AS anon_1\n"
     ]
    },
    {
     "name": "stdout",
     "output_type": "stream",
     "text": [
      "2019-07-17 12:04:23,381 INFO sqlalchemy.engine.base.Engine {}\n"
     ]
    },
    {
     "name": "stderr",
     "output_type": "stream",
     "text": [
      "I0717 12:04:23.381583 140377874048832 log.py:110] {}\n"
     ]
    },
    {
     "name": "stdout",
     "output_type": "stream",
     "text": [
      "2019-07-17 12:04:23,383 INFO sqlalchemy.engine.base.Engine show standard_conforming_strings\n"
     ]
    },
    {
     "name": "stderr",
     "output_type": "stream",
     "text": [
      "I0717 12:04:23.383206 140377874048832 log.py:110] show standard_conforming_strings\n"
     ]
    },
    {
     "name": "stdout",
     "output_type": "stream",
     "text": [
      "2019-07-17 12:04:23,384 INFO sqlalchemy.engine.base.Engine {}\n"
     ]
    },
    {
     "name": "stderr",
     "output_type": "stream",
     "text": [
      "I0717 12:04:23.384074 140377874048832 log.py:110] {}\n"
     ]
    },
    {
     "name": "stdout",
     "output_type": "stream",
     "text": [
      "2019-07-17 12:04:23,386 INFO sqlalchemy.engine.base.Engine select relname from pg_class c join pg_namespace n on n.oid=c.relnamespace where pg_catalog.pg_table_is_visible(c.oid) and relname=%(name)s\n"
     ]
    },
    {
     "name": "stderr",
     "output_type": "stream",
     "text": [
      "I0717 12:04:23.386191 140377874048832 log.py:110] select relname from pg_class c join pg_namespace n on n.oid=c.relnamespace where pg_catalog.pg_table_is_visible(c.oid) and relname=%(name)s\n"
     ]
    },
    {
     "name": "stdout",
     "output_type": "stream",
     "text": [
      "2019-07-17 12:04:23,387 INFO sqlalchemy.engine.base.Engine {'name': 'frame_level'}\n"
     ]
    },
    {
     "name": "stderr",
     "output_type": "stream",
     "text": [
      "I0717 12:04:23.387206 140377874048832 log.py:110] {'name': 'frame_level'}\n"
     ]
    },
    {
     "name": "stdout",
     "output_type": "stream",
     "text": [
      "2019-07-17 12:04:23,393 INFO sqlalchemy.engine.base.Engine \n",
      "CREATE TABLE frame_level (\n",
      "\tobj_ind BIGINT, \n",
      "\tcamera_id TEXT, \n",
      "\tframe_id BIGINT, \n",
      "\tdate DATE, \n",
      "\ttime TIME WITHOUT TIME ZONE, \n",
      "\tobj_bounds TEXT, \n",
      "\tobj_classification TEXT, \n",
      "\tconfidence FLOAT(53), \n",
      "\tvideo_id BIGINT\n",
      ")\n",
      "\n",
      "\n"
     ]
    },
    {
     "name": "stderr",
     "output_type": "stream",
     "text": [
      "I0717 12:04:23.393201 140377874048832 log.py:110] \n",
      "CREATE TABLE frame_level (\n",
      "\tobj_ind BIGINT, \n",
      "\tcamera_id TEXT, \n",
      "\tframe_id BIGINT, \n",
      "\tdate DATE, \n",
      "\ttime TIME WITHOUT TIME ZONE, \n",
      "\tobj_bounds TEXT, \n",
      "\tobj_classification TEXT, \n",
      "\tconfidence FLOAT(53), \n",
      "\tvideo_id BIGINT\n",
      ")\n",
      "\n",
      "\n"
     ]
    },
    {
     "name": "stdout",
     "output_type": "stream",
     "text": [
      "2019-07-17 12:04:23,394 INFO sqlalchemy.engine.base.Engine {}\n"
     ]
    },
    {
     "name": "stderr",
     "output_type": "stream",
     "text": [
      "I0717 12:04:23.394324 140377874048832 log.py:110] {}\n"
     ]
    },
    {
     "name": "stdout",
     "output_type": "stream",
     "text": [
      "2019-07-17 12:04:23,425 INFO sqlalchemy.engine.base.Engine COMMIT\n"
     ]
    },
    {
     "name": "stderr",
     "output_type": "stream",
     "text": [
      "I0717 12:04:23.425120 140377874048832 log.py:110] COMMIT\n"
     ]
    },
    {
     "name": "stdout",
     "output_type": "stream",
     "text": [
      "2019-07-17 12:04:23,428 INFO sqlalchemy.engine.base.Engine CREATE INDEX ix_frame_level_obj_ind ON frame_level (obj_ind)\n"
     ]
    },
    {
     "name": "stderr",
     "output_type": "stream",
     "text": [
      "I0717 12:04:23.428728 140377874048832 log.py:110] CREATE INDEX ix_frame_level_obj_ind ON frame_level (obj_ind)\n"
     ]
    },
    {
     "name": "stdout",
     "output_type": "stream",
     "text": [
      "2019-07-17 12:04:23,429 INFO sqlalchemy.engine.base.Engine {}\n"
     ]
    },
    {
     "name": "stderr",
     "output_type": "stream",
     "text": [
      "I0717 12:04:23.429791 140377874048832 log.py:110] {}\n"
     ]
    },
    {
     "name": "stdout",
     "output_type": "stream",
     "text": [
      "2019-07-17 12:04:23,433 INFO sqlalchemy.engine.base.Engine COMMIT\n"
     ]
    },
    {
     "name": "stderr",
     "output_type": "stream",
     "text": [
      "I0717 12:04:23.433770 140377874048832 log.py:110] COMMIT\n"
     ]
    },
    {
     "name": "stdout",
     "output_type": "stream",
     "text": [
      "2019-07-17 12:04:23,438 INFO sqlalchemy.engine.base.Engine BEGIN (implicit)\n"
     ]
    },
    {
     "name": "stderr",
     "output_type": "stream",
     "text": [
      "I0717 12:04:23.438769 140377874048832 log.py:110] BEGIN (implicit)\n"
     ]
    },
    {
     "name": "stdout",
     "output_type": "stream",
     "text": [
      "2019-07-17 12:04:23,465 INFO sqlalchemy.engine.base.Engine INSERT INTO frame_level (obj_ind, camera_id, frame_id, date, time, obj_bounds, obj_classification, confidence, video_id) VALUES (%(obj_ind)s, %(camera_id)s, %(frame_id)s, %(date)s, %(time)s, %(obj_bounds)s, %(obj_classification)s, %(confidence)s, %(video_id)s)\n"
     ]
    },
    {
     "name": "stderr",
     "output_type": "stream",
     "text": [
      "I0717 12:04:23.465873 140377874048832 log.py:110] INSERT INTO frame_level (obj_ind, camera_id, frame_id, date, time, obj_bounds, obj_classification, confidence, video_id) VALUES (%(obj_ind)s, %(camera_id)s, %(frame_id)s, %(date)s, %(time)s, %(obj_bounds)s, %(obj_classification)s, %(confidence)s, %(video_id)s)\n"
     ]
    },
    {
     "name": "stdout",
     "output_type": "stream",
     "text": [
      "2019-07-17 12:04:23,467 INFO sqlalchemy.engine.base.Engine ({'obj_ind': 0, 'camera_id': '00001.06590', 'frame_id': 0, 'date': datetime.date(2019, 6, 29), 'time': datetime.time(13, 0, 40, 71379), 'obj_bounds': array([178, 204, 196, 224]), 'obj_classification': 'car', 'confidence': 0.41550174355506897, 'video_id': 0}, {'obj_ind': 0, 'camera_id': '00001.06590', 'frame_id': 1, 'date': datetime.date(2019, 6, 29), 'time': datetime.time(13, 0, 40, 71379), 'obj_bounds': array([176, 204, 196, 224]), 'obj_classification': 'car', 'confidence': 0.4379068613052368, 'video_id': 0}, {'obj_ind': 0, 'camera_id': '00001.06590', 'frame_id': 2, 'date': datetime.date(2019, 6, 29), 'time': datetime.time(13, 0, 40, 71379), 'obj_bounds': array([181, 204, 199, 224]), 'obj_classification': 'car', 'confidence': 0.42200514674186707, 'video_id': 0}, {'obj_ind': 0, 'camera_id': '00001.06590', 'frame_id': 3, 'date': datetime.date(2019, 6, 29), 'time': datetime.time(13, 0, 40, 71379), 'obj_bounds': array([182, 206, 200, 224]), 'obj_classification': 'car', 'confidence': 0.4847429692745209, 'video_id': 0}, {'obj_ind': 0, 'camera_id': '00001.06590', 'frame_id': 4, 'date': datetime.date(2019, 6, 29), 'time': datetime.time(13, 0, 40, 71379), 'obj_bounds': array([182, 205, 200, 223]), 'obj_classification': 'car', 'confidence': 0.557348906993866, 'video_id': 0}, {'obj_ind': 0, 'camera_id': '00001.06590', 'frame_id': 5, 'date': datetime.date(2019, 6, 29), 'time': datetime.time(13, 0, 40, 71379), 'obj_bounds': array([182, 205, 200, 223]), 'obj_classification': 'car', 'confidence': 0.4748775362968445, 'video_id': 0}, {'obj_ind': 0, 'camera_id': '00001.06590', 'frame_id': 6, 'date': datetime.date(2019, 6, 29), 'time': datetime.time(13, 0, 40, 71379), 'obj_bounds': array([182, 204, 200, 224]), 'obj_classification': 'car', 'confidence': 0.5295014381408691, 'video_id': 0}, {'obj_ind': 0, 'camera_id': '00001.06590', 'frame_id': 7, 'date': datetime.date(2019, 6, 29), 'time': datetime.time(13, 0, 40, 71379), 'obj_bounds': array([182, 206, 200, 224]), 'obj_classification': 'car', 'confidence': 0.4543188214302063, 'video_id': 0}  ... displaying 10 of 2886 total bound parameter sets ...  {'obj_ind': 0, 'camera_id': '00001.08926', 'frame_id': 236, 'date': datetime.date(2019, 6, 27), 'time': datetime.time(13, 2, 14, 669859), 'obj_bounds': array([121,  68, 131,  74]), 'obj_classification': 'car', 'confidence': 0.589018702507019, 'video_id': 3}, {'obj_ind': 1, 'camera_id': '00001.08926', 'frame_id': 236, 'date': datetime.date(2019, 6, 27), 'time': datetime.time(13, 2, 14, 669859), 'obj_bounds': array([286,  76, 296,  82]), 'obj_classification': 'car', 'confidence': 0.42993438243865967, 'video_id': 3})\n"
     ]
    },
    {
     "name": "stderr",
     "output_type": "stream",
     "text": [
      "I0717 12:04:23.467120 140377874048832 log.py:110] ({'obj_ind': 0, 'camera_id': '00001.06590', 'frame_id': 0, 'date': datetime.date(2019, 6, 29), 'time': datetime.time(13, 0, 40, 71379), 'obj_bounds': array([178, 204, 196, 224]), 'obj_classification': 'car', 'confidence': 0.41550174355506897, 'video_id': 0}, {'obj_ind': 0, 'camera_id': '00001.06590', 'frame_id': 1, 'date': datetime.date(2019, 6, 29), 'time': datetime.time(13, 0, 40, 71379), 'obj_bounds': array([176, 204, 196, 224]), 'obj_classification': 'car', 'confidence': 0.4379068613052368, 'video_id': 0}, {'obj_ind': 0, 'camera_id': '00001.06590', 'frame_id': 2, 'date': datetime.date(2019, 6, 29), 'time': datetime.time(13, 0, 40, 71379), 'obj_bounds': array([181, 204, 199, 224]), 'obj_classification': 'car', 'confidence': 0.42200514674186707, 'video_id': 0}, {'obj_ind': 0, 'camera_id': '00001.06590', 'frame_id': 3, 'date': datetime.date(2019, 6, 29), 'time': datetime.time(13, 0, 40, 71379), 'obj_bounds': array([182, 206, 200, 224]), 'obj_classification': 'car', 'confidence': 0.4847429692745209, 'video_id': 0}, {'obj_ind': 0, 'camera_id': '00001.06590', 'frame_id': 4, 'date': datetime.date(2019, 6, 29), 'time': datetime.time(13, 0, 40, 71379), 'obj_bounds': array([182, 205, 200, 223]), 'obj_classification': 'car', 'confidence': 0.557348906993866, 'video_id': 0}, {'obj_ind': 0, 'camera_id': '00001.06590', 'frame_id': 5, 'date': datetime.date(2019, 6, 29), 'time': datetime.time(13, 0, 40, 71379), 'obj_bounds': array([182, 205, 200, 223]), 'obj_classification': 'car', 'confidence': 0.4748775362968445, 'video_id': 0}, {'obj_ind': 0, 'camera_id': '00001.06590', 'frame_id': 6, 'date': datetime.date(2019, 6, 29), 'time': datetime.time(13, 0, 40, 71379), 'obj_bounds': array([182, 204, 200, 224]), 'obj_classification': 'car', 'confidence': 0.5295014381408691, 'video_id': 0}, {'obj_ind': 0, 'camera_id': '00001.06590', 'frame_id': 7, 'date': datetime.date(2019, 6, 29), 'time': datetime.time(13, 0, 40, 71379), 'obj_bounds': array([182, 206, 200, 224]), 'obj_classification': 'car', 'confidence': 0.4543188214302063, 'video_id': 0}  ... displaying 10 of 2886 total bound parameter sets ...  {'obj_ind': 0, 'camera_id': '00001.08926', 'frame_id': 236, 'date': datetime.date(2019, 6, 27), 'time': datetime.time(13, 2, 14, 669859), 'obj_bounds': array([121,  68, 131,  74]), 'obj_classification': 'car', 'confidence': 0.589018702507019, 'video_id': 3}, {'obj_ind': 1, 'camera_id': '00001.08926', 'frame_id': 236, 'date': datetime.date(2019, 6, 27), 'time': datetime.time(13, 2, 14, 669859), 'obj_bounds': array([286,  76, 296,  82]), 'obj_classification': 'car', 'confidence': 0.42993438243865967, 'video_id': 3})\n"
     ]
    },
    {
     "name": "stdout",
     "output_type": "stream",
     "text": [
      "2019-07-17 12:04:23,470 INFO sqlalchemy.engine.base.Engine ROLLBACK\n"
     ]
    },
    {
     "name": "stderr",
     "output_type": "stream",
     "text": [
      "I0717 12:04:23.470086 140377874048832 log.py:110] ROLLBACK\n"
     ]
    },
    {
     "ename": "ProgrammingError",
     "evalue": "(psycopg2.ProgrammingError) can't adapt type 'numpy.ndarray'\n[SQL: INSERT INTO frame_level (obj_ind, camera_id, frame_id, date, time, obj_bounds, obj_classification, confidence, video_id) VALUES (%(obj_ind)s, %(camera_id)s, %(frame_id)s, %(date)s, %(time)s, %(obj_bounds)s, %(obj_classification)s, %(confidence)s, %(video_id)s)]\n[parameters: ({'obj_ind': 0, 'camera_id': '00001.06590', 'frame_id': 0, 'date': datetime.date(2019, 6, 29), 'time': datetime.time(13, 0, 40, 71379), 'obj_bounds': array([178, 204, 196, 224]), 'obj_classification': 'car', 'confidence': 0.41550174355506897, 'video_id': 0}, {'obj_ind': 0, 'camera_id': '00001.06590', 'frame_id': 1, 'date': datetime.date(2019, 6, 29), 'time': datetime.time(13, 0, 40, 71379), 'obj_bounds': array([176, 204, 196, 224]), 'obj_classification': 'car', 'confidence': 0.4379068613052368, 'video_id': 0}, {'obj_ind': 0, 'camera_id': '00001.06590', 'frame_id': 2, 'date': datetime.date(2019, 6, 29), 'time': datetime.time(13, 0, 40, 71379), 'obj_bounds': array([181, 204, 199, 224]), 'obj_classification': 'car', 'confidence': 0.42200514674186707, 'video_id': 0}, {'obj_ind': 0, 'camera_id': '00001.06590', 'frame_id': 3, 'date': datetime.date(2019, 6, 29), 'time': datetime.time(13, 0, 40, 71379), 'obj_bounds': array([182, 206, 200, 224]), 'obj_classification': 'car', 'confidence': 0.4847429692745209, 'video_id': 0}, {'obj_ind': 0, 'camera_id': '00001.06590', 'frame_id': 4, 'date': datetime.date(2019, 6, 29), 'time': datetime.time(13, 0, 40, 71379), 'obj_bounds': array([182, 205, 200, 223]), 'obj_classification': 'car', 'confidence': 0.557348906993866, 'video_id': 0}, {'obj_ind': 0, 'camera_id': '00001.06590', 'frame_id': 5, 'date': datetime.date(2019, 6, 29), 'time': datetime.time(13, 0, 40, 71379), 'obj_bounds': array([182, 205, 200, 223]), 'obj_classification': 'car', 'confidence': 0.4748775362968445, 'video_id': 0}, {'obj_ind': 0, 'camera_id': '00001.06590', 'frame_id': 6, 'date': datetime.date(2019, 6, 29), 'time': datetime.time(13, 0, 40, 71379), 'obj_bounds': array([182, 204, 200, 224]), 'obj_classification': 'car', 'confidence': 0.5295014381408691, 'video_id': 0}, {'obj_ind': 0, 'camera_id': '00001.06590', 'frame_id': 7, 'date': datetime.date(2019, 6, 29), 'time': datetime.time(13, 0, 40, 71379), 'obj_bounds': array([182, 206, 200, 224]), 'obj_classification': 'car', 'confidence': 0.4543188214302063, 'video_id': 0}  ... displaying 10 of 2886 total bound parameter sets ...  {'obj_ind': 0, 'camera_id': '00001.08926', 'frame_id': 236, 'date': datetime.date(2019, 6, 27), 'time': datetime.time(13, 2, 14, 669859), 'obj_bounds': array([121,  68, 131,  74]), 'obj_classification': 'car', 'confidence': 0.589018702507019, 'video_id': 3}, {'obj_ind': 1, 'camera_id': '00001.08926', 'frame_id': 236, 'date': datetime.date(2019, 6, 27), 'time': datetime.time(13, 2, 14, 669859), 'obj_bounds': array([286,  76, 296,  82]), 'obj_classification': 'car', 'confidence': 0.42993438243865967, 'video_id': 3})]\n(Background on this error at: http://sqlalche.me/e/f405)",
     "output_type": "error",
     "traceback": [
      "\u001b[0;31m---------------------------------------------------------------------------\u001b[0m",
      "\u001b[0;31mProgrammingError\u001b[0m                          Traceback (most recent call last)",
      "\u001b[0;32m~/anaconda3/envs/air-quality/lib/python3.7/site-packages/sqlalchemy/engine/base.py\u001b[0m in \u001b[0;36m_execute_context\u001b[0;34m(self, dialect, constructor, statement, parameters, *args)\u001b[0m\n\u001b[1;32m   1223\u001b[0m                     self.dialect.do_executemany(\n\u001b[0;32m-> 1224\u001b[0;31m                         \u001b[0mcursor\u001b[0m\u001b[0;34m,\u001b[0m \u001b[0mstatement\u001b[0m\u001b[0;34m,\u001b[0m \u001b[0mparameters\u001b[0m\u001b[0;34m,\u001b[0m \u001b[0mcontext\u001b[0m\u001b[0;34m\u001b[0m\u001b[0;34m\u001b[0m\u001b[0m\n\u001b[0m\u001b[1;32m   1225\u001b[0m                     )\n",
      "\u001b[0;32m~/anaconda3/envs/air-quality/lib/python3.7/site-packages/sqlalchemy/dialects/postgresql/psycopg2.py\u001b[0m in \u001b[0;36mdo_executemany\u001b[0;34m(self, cursor, statement, parameters, context)\u001b[0m\n\u001b[1;32m    772\u001b[0m         \u001b[0;32melse\u001b[0m\u001b[0;34m:\u001b[0m\u001b[0;34m\u001b[0m\u001b[0;34m\u001b[0m\u001b[0m\n\u001b[0;32m--> 773\u001b[0;31m             \u001b[0mcursor\u001b[0m\u001b[0;34m.\u001b[0m\u001b[0mexecutemany\u001b[0m\u001b[0;34m(\u001b[0m\u001b[0mstatement\u001b[0m\u001b[0;34m,\u001b[0m \u001b[0mparameters\u001b[0m\u001b[0;34m)\u001b[0m\u001b[0;34m\u001b[0m\u001b[0;34m\u001b[0m\u001b[0m\n\u001b[0m\u001b[1;32m    774\u001b[0m \u001b[0;34m\u001b[0m\u001b[0m\n",
      "\u001b[0;31mProgrammingError\u001b[0m: can't adapt type 'numpy.ndarray'",
      "\nThe above exception was the direct cause of the following exception:\n",
      "\u001b[0;31mProgrammingError\u001b[0m                          Traceback (most recent call last)",
      "\u001b[0;32m<ipython-input-9-3174d5d55669>\u001b[0m in \u001b[0;36m<module>\u001b[0;34m\u001b[0m\n\u001b[0;32m----> 1\u001b[0;31m \u001b[0mdf\u001b[0m\u001b[0;34m.\u001b[0m\u001b[0mto_sql\u001b[0m\u001b[0;34m(\u001b[0m\u001b[0mname\u001b[0m\u001b[0;34m=\u001b[0m\u001b[0;34m'frame_level'\u001b[0m\u001b[0;34m,\u001b[0m\u001b[0mcon\u001b[0m\u001b[0;34m=\u001b[0m\u001b[0mconn\u001b[0m\u001b[0;34m)\u001b[0m\u001b[0;34m\u001b[0m\u001b[0;34m\u001b[0m\u001b[0m\n\u001b[0m",
      "\u001b[0;32m~/anaconda3/envs/air-quality/lib/python3.7/site-packages/pandas/core/generic.py\u001b[0m in \u001b[0;36mto_sql\u001b[0;34m(self, name, con, schema, if_exists, index, index_label, chunksize, dtype, method)\u001b[0m\n\u001b[1;32m   2529\u001b[0m         sql.to_sql(self, name, con, schema=schema, if_exists=if_exists,\n\u001b[1;32m   2530\u001b[0m                    \u001b[0mindex\u001b[0m\u001b[0;34m=\u001b[0m\u001b[0mindex\u001b[0m\u001b[0;34m,\u001b[0m \u001b[0mindex_label\u001b[0m\u001b[0;34m=\u001b[0m\u001b[0mindex_label\u001b[0m\u001b[0;34m,\u001b[0m \u001b[0mchunksize\u001b[0m\u001b[0;34m=\u001b[0m\u001b[0mchunksize\u001b[0m\u001b[0;34m,\u001b[0m\u001b[0;34m\u001b[0m\u001b[0;34m\u001b[0m\u001b[0m\n\u001b[0;32m-> 2531\u001b[0;31m                    dtype=dtype, method=method)\n\u001b[0m\u001b[1;32m   2532\u001b[0m \u001b[0;34m\u001b[0m\u001b[0m\n\u001b[1;32m   2533\u001b[0m     def to_pickle(self, path, compression='infer',\n",
      "\u001b[0;32m~/anaconda3/envs/air-quality/lib/python3.7/site-packages/pandas/io/sql.py\u001b[0m in \u001b[0;36mto_sql\u001b[0;34m(frame, name, con, schema, if_exists, index, index_label, chunksize, dtype, method)\u001b[0m\n\u001b[1;32m    458\u001b[0m     pandas_sql.to_sql(frame, name, if_exists=if_exists, index=index,\n\u001b[1;32m    459\u001b[0m                       \u001b[0mindex_label\u001b[0m\u001b[0;34m=\u001b[0m\u001b[0mindex_label\u001b[0m\u001b[0;34m,\u001b[0m \u001b[0mschema\u001b[0m\u001b[0;34m=\u001b[0m\u001b[0mschema\u001b[0m\u001b[0;34m,\u001b[0m\u001b[0;34m\u001b[0m\u001b[0;34m\u001b[0m\u001b[0m\n\u001b[0;32m--> 460\u001b[0;31m                       chunksize=chunksize, dtype=dtype, method=method)\n\u001b[0m\u001b[1;32m    461\u001b[0m \u001b[0;34m\u001b[0m\u001b[0m\n\u001b[1;32m    462\u001b[0m \u001b[0;34m\u001b[0m\u001b[0m\n",
      "\u001b[0;32m~/anaconda3/envs/air-quality/lib/python3.7/site-packages/pandas/io/sql.py\u001b[0m in \u001b[0;36mto_sql\u001b[0;34m(self, frame, name, if_exists, index, index_label, schema, chunksize, dtype, method)\u001b[0m\n\u001b[1;32m   1172\u001b[0m                          schema=schema, dtype=dtype)\n\u001b[1;32m   1173\u001b[0m         \u001b[0mtable\u001b[0m\u001b[0;34m.\u001b[0m\u001b[0mcreate\u001b[0m\u001b[0;34m(\u001b[0m\u001b[0;34m)\u001b[0m\u001b[0;34m\u001b[0m\u001b[0;34m\u001b[0m\u001b[0m\n\u001b[0;32m-> 1174\u001b[0;31m         \u001b[0mtable\u001b[0m\u001b[0;34m.\u001b[0m\u001b[0minsert\u001b[0m\u001b[0;34m(\u001b[0m\u001b[0mchunksize\u001b[0m\u001b[0;34m,\u001b[0m \u001b[0mmethod\u001b[0m\u001b[0;34m=\u001b[0m\u001b[0mmethod\u001b[0m\u001b[0;34m)\u001b[0m\u001b[0;34m\u001b[0m\u001b[0;34m\u001b[0m\u001b[0m\n\u001b[0m\u001b[1;32m   1175\u001b[0m         \u001b[0;32mif\u001b[0m \u001b[0;34m(\u001b[0m\u001b[0;32mnot\u001b[0m \u001b[0mname\u001b[0m\u001b[0;34m.\u001b[0m\u001b[0misdigit\u001b[0m\u001b[0;34m(\u001b[0m\u001b[0;34m)\u001b[0m \u001b[0;32mand\u001b[0m \u001b[0;32mnot\u001b[0m \u001b[0mname\u001b[0m\u001b[0;34m.\u001b[0m\u001b[0mislower\u001b[0m\u001b[0;34m(\u001b[0m\u001b[0;34m)\u001b[0m\u001b[0;34m)\u001b[0m\u001b[0;34m:\u001b[0m\u001b[0;34m\u001b[0m\u001b[0;34m\u001b[0m\u001b[0m\n\u001b[1;32m   1176\u001b[0m             \u001b[0;31m# check for potentially case sensitivity issues (GH7815)\u001b[0m\u001b[0;34m\u001b[0m\u001b[0;34m\u001b[0m\u001b[0;34m\u001b[0m\u001b[0m\n",
      "\u001b[0;32m~/anaconda3/envs/air-quality/lib/python3.7/site-packages/pandas/io/sql.py\u001b[0m in \u001b[0;36minsert\u001b[0;34m(self, chunksize, method)\u001b[0m\n\u001b[1;32m    684\u001b[0m \u001b[0;34m\u001b[0m\u001b[0m\n\u001b[1;32m    685\u001b[0m                 \u001b[0mchunk_iter\u001b[0m \u001b[0;34m=\u001b[0m \u001b[0mzip\u001b[0m\u001b[0;34m(\u001b[0m\u001b[0;34m*\u001b[0m\u001b[0;34m[\u001b[0m\u001b[0marr\u001b[0m\u001b[0;34m[\u001b[0m\u001b[0mstart_i\u001b[0m\u001b[0;34m:\u001b[0m\u001b[0mend_i\u001b[0m\u001b[0;34m]\u001b[0m \u001b[0;32mfor\u001b[0m \u001b[0marr\u001b[0m \u001b[0;32min\u001b[0m \u001b[0mdata_list\u001b[0m\u001b[0;34m]\u001b[0m\u001b[0;34m)\u001b[0m\u001b[0;34m\u001b[0m\u001b[0;34m\u001b[0m\u001b[0m\n\u001b[0;32m--> 686\u001b[0;31m                 \u001b[0mexec_insert\u001b[0m\u001b[0;34m(\u001b[0m\u001b[0mconn\u001b[0m\u001b[0;34m,\u001b[0m \u001b[0mkeys\u001b[0m\u001b[0;34m,\u001b[0m \u001b[0mchunk_iter\u001b[0m\u001b[0;34m)\u001b[0m\u001b[0;34m\u001b[0m\u001b[0;34m\u001b[0m\u001b[0m\n\u001b[0m\u001b[1;32m    687\u001b[0m \u001b[0;34m\u001b[0m\u001b[0m\n\u001b[1;32m    688\u001b[0m     def _query_iterator(self, result, chunksize, columns, coerce_float=True,\n",
      "\u001b[0;32m~/anaconda3/envs/air-quality/lib/python3.7/site-packages/pandas/io/sql.py\u001b[0m in \u001b[0;36m_execute_insert\u001b[0;34m(self, conn, keys, data_iter)\u001b[0m\n\u001b[1;32m    597\u001b[0m         \"\"\"\n\u001b[1;32m    598\u001b[0m         \u001b[0mdata\u001b[0m \u001b[0;34m=\u001b[0m \u001b[0;34m[\u001b[0m\u001b[0mdict\u001b[0m\u001b[0;34m(\u001b[0m\u001b[0mzip\u001b[0m\u001b[0;34m(\u001b[0m\u001b[0mkeys\u001b[0m\u001b[0;34m,\u001b[0m \u001b[0mrow\u001b[0m\u001b[0;34m)\u001b[0m\u001b[0;34m)\u001b[0m \u001b[0;32mfor\u001b[0m \u001b[0mrow\u001b[0m \u001b[0;32min\u001b[0m \u001b[0mdata_iter\u001b[0m\u001b[0;34m]\u001b[0m\u001b[0;34m\u001b[0m\u001b[0;34m\u001b[0m\u001b[0m\n\u001b[0;32m--> 599\u001b[0;31m         \u001b[0mconn\u001b[0m\u001b[0;34m.\u001b[0m\u001b[0mexecute\u001b[0m\u001b[0;34m(\u001b[0m\u001b[0mself\u001b[0m\u001b[0;34m.\u001b[0m\u001b[0mtable\u001b[0m\u001b[0;34m.\u001b[0m\u001b[0minsert\u001b[0m\u001b[0;34m(\u001b[0m\u001b[0;34m)\u001b[0m\u001b[0;34m,\u001b[0m \u001b[0mdata\u001b[0m\u001b[0;34m)\u001b[0m\u001b[0;34m\u001b[0m\u001b[0;34m\u001b[0m\u001b[0m\n\u001b[0m\u001b[1;32m    600\u001b[0m \u001b[0;34m\u001b[0m\u001b[0m\n\u001b[1;32m    601\u001b[0m     \u001b[0;32mdef\u001b[0m \u001b[0m_execute_insert_multi\u001b[0m\u001b[0;34m(\u001b[0m\u001b[0mself\u001b[0m\u001b[0;34m,\u001b[0m \u001b[0mconn\u001b[0m\u001b[0;34m,\u001b[0m \u001b[0mkeys\u001b[0m\u001b[0;34m,\u001b[0m \u001b[0mdata_iter\u001b[0m\u001b[0;34m)\u001b[0m\u001b[0;34m:\u001b[0m\u001b[0;34m\u001b[0m\u001b[0;34m\u001b[0m\u001b[0m\n",
      "\u001b[0;32m~/anaconda3/envs/air-quality/lib/python3.7/site-packages/sqlalchemy/engine/base.py\u001b[0m in \u001b[0;36mexecute\u001b[0;34m(self, object_, *multiparams, **params)\u001b[0m\n\u001b[1;32m    986\u001b[0m             \u001b[0;32mraise\u001b[0m \u001b[0mexc\u001b[0m\u001b[0;34m.\u001b[0m\u001b[0mObjectNotExecutableError\u001b[0m\u001b[0;34m(\u001b[0m\u001b[0mobject_\u001b[0m\u001b[0;34m)\u001b[0m\u001b[0;34m\u001b[0m\u001b[0;34m\u001b[0m\u001b[0m\n\u001b[1;32m    987\u001b[0m         \u001b[0;32melse\u001b[0m\u001b[0;34m:\u001b[0m\u001b[0;34m\u001b[0m\u001b[0;34m\u001b[0m\u001b[0m\n\u001b[0;32m--> 988\u001b[0;31m             \u001b[0;32mreturn\u001b[0m \u001b[0mmeth\u001b[0m\u001b[0;34m(\u001b[0m\u001b[0mself\u001b[0m\u001b[0;34m,\u001b[0m \u001b[0mmultiparams\u001b[0m\u001b[0;34m,\u001b[0m \u001b[0mparams\u001b[0m\u001b[0;34m)\u001b[0m\u001b[0;34m\u001b[0m\u001b[0;34m\u001b[0m\u001b[0m\n\u001b[0m\u001b[1;32m    989\u001b[0m \u001b[0;34m\u001b[0m\u001b[0m\n\u001b[1;32m    990\u001b[0m     \u001b[0;32mdef\u001b[0m \u001b[0m_execute_function\u001b[0m\u001b[0;34m(\u001b[0m\u001b[0mself\u001b[0m\u001b[0;34m,\u001b[0m \u001b[0mfunc\u001b[0m\u001b[0;34m,\u001b[0m \u001b[0mmultiparams\u001b[0m\u001b[0;34m,\u001b[0m \u001b[0mparams\u001b[0m\u001b[0;34m)\u001b[0m\u001b[0;34m:\u001b[0m\u001b[0;34m\u001b[0m\u001b[0;34m\u001b[0m\u001b[0m\n",
      "\u001b[0;32m~/anaconda3/envs/air-quality/lib/python3.7/site-packages/sqlalchemy/sql/elements.py\u001b[0m in \u001b[0;36m_execute_on_connection\u001b[0;34m(self, connection, multiparams, params)\u001b[0m\n\u001b[1;32m    285\u001b[0m     \u001b[0;32mdef\u001b[0m \u001b[0m_execute_on_connection\u001b[0m\u001b[0;34m(\u001b[0m\u001b[0mself\u001b[0m\u001b[0;34m,\u001b[0m \u001b[0mconnection\u001b[0m\u001b[0;34m,\u001b[0m \u001b[0mmultiparams\u001b[0m\u001b[0;34m,\u001b[0m \u001b[0mparams\u001b[0m\u001b[0;34m)\u001b[0m\u001b[0;34m:\u001b[0m\u001b[0;34m\u001b[0m\u001b[0;34m\u001b[0m\u001b[0m\n\u001b[1;32m    286\u001b[0m         \u001b[0;32mif\u001b[0m \u001b[0mself\u001b[0m\u001b[0;34m.\u001b[0m\u001b[0msupports_execution\u001b[0m\u001b[0;34m:\u001b[0m\u001b[0;34m\u001b[0m\u001b[0;34m\u001b[0m\u001b[0m\n\u001b[0;32m--> 287\u001b[0;31m             \u001b[0;32mreturn\u001b[0m \u001b[0mconnection\u001b[0m\u001b[0;34m.\u001b[0m\u001b[0m_execute_clauseelement\u001b[0m\u001b[0;34m(\u001b[0m\u001b[0mself\u001b[0m\u001b[0;34m,\u001b[0m \u001b[0mmultiparams\u001b[0m\u001b[0;34m,\u001b[0m \u001b[0mparams\u001b[0m\u001b[0;34m)\u001b[0m\u001b[0;34m\u001b[0m\u001b[0;34m\u001b[0m\u001b[0m\n\u001b[0m\u001b[1;32m    288\u001b[0m         \u001b[0;32melse\u001b[0m\u001b[0;34m:\u001b[0m\u001b[0;34m\u001b[0m\u001b[0;34m\u001b[0m\u001b[0m\n\u001b[1;32m    289\u001b[0m             \u001b[0;32mraise\u001b[0m \u001b[0mexc\u001b[0m\u001b[0;34m.\u001b[0m\u001b[0mObjectNotExecutableError\u001b[0m\u001b[0;34m(\u001b[0m\u001b[0mself\u001b[0m\u001b[0;34m)\u001b[0m\u001b[0;34m\u001b[0m\u001b[0;34m\u001b[0m\u001b[0m\n",
      "\u001b[0;32m~/anaconda3/envs/air-quality/lib/python3.7/site-packages/sqlalchemy/engine/base.py\u001b[0m in \u001b[0;36m_execute_clauseelement\u001b[0;34m(self, elem, multiparams, params)\u001b[0m\n\u001b[1;32m   1105\u001b[0m             \u001b[0mdistilled_params\u001b[0m\u001b[0;34m,\u001b[0m\u001b[0;34m\u001b[0m\u001b[0;34m\u001b[0m\u001b[0m\n\u001b[1;32m   1106\u001b[0m             \u001b[0mcompiled_sql\u001b[0m\u001b[0;34m,\u001b[0m\u001b[0;34m\u001b[0m\u001b[0;34m\u001b[0m\u001b[0m\n\u001b[0;32m-> 1107\u001b[0;31m             \u001b[0mdistilled_params\u001b[0m\u001b[0;34m,\u001b[0m\u001b[0;34m\u001b[0m\u001b[0;34m\u001b[0m\u001b[0m\n\u001b[0m\u001b[1;32m   1108\u001b[0m         )\n\u001b[1;32m   1109\u001b[0m         \u001b[0;32mif\u001b[0m \u001b[0mself\u001b[0m\u001b[0;34m.\u001b[0m\u001b[0m_has_events\u001b[0m \u001b[0;32mor\u001b[0m \u001b[0mself\u001b[0m\u001b[0;34m.\u001b[0m\u001b[0mengine\u001b[0m\u001b[0;34m.\u001b[0m\u001b[0m_has_events\u001b[0m\u001b[0;34m:\u001b[0m\u001b[0;34m\u001b[0m\u001b[0;34m\u001b[0m\u001b[0m\n",
      "\u001b[0;32m~/anaconda3/envs/air-quality/lib/python3.7/site-packages/sqlalchemy/engine/base.py\u001b[0m in \u001b[0;36m_execute_context\u001b[0;34m(self, dialect, constructor, statement, parameters, *args)\u001b[0m\n\u001b[1;32m   1246\u001b[0m         \u001b[0;32mexcept\u001b[0m \u001b[0mBaseException\u001b[0m \u001b[0;32mas\u001b[0m \u001b[0me\u001b[0m\u001b[0;34m:\u001b[0m\u001b[0;34m\u001b[0m\u001b[0;34m\u001b[0m\u001b[0m\n\u001b[1;32m   1247\u001b[0m             self._handle_dbapi_exception(\n\u001b[0;32m-> 1248\u001b[0;31m                 \u001b[0me\u001b[0m\u001b[0;34m,\u001b[0m \u001b[0mstatement\u001b[0m\u001b[0;34m,\u001b[0m \u001b[0mparameters\u001b[0m\u001b[0;34m,\u001b[0m \u001b[0mcursor\u001b[0m\u001b[0;34m,\u001b[0m \u001b[0mcontext\u001b[0m\u001b[0;34m\u001b[0m\u001b[0;34m\u001b[0m\u001b[0m\n\u001b[0m\u001b[1;32m   1249\u001b[0m             )\n\u001b[1;32m   1250\u001b[0m \u001b[0;34m\u001b[0m\u001b[0m\n",
      "\u001b[0;32m~/anaconda3/envs/air-quality/lib/python3.7/site-packages/sqlalchemy/engine/base.py\u001b[0m in \u001b[0;36m_handle_dbapi_exception\u001b[0;34m(self, e, statement, parameters, cursor, context)\u001b[0m\n\u001b[1;32m   1464\u001b[0m                 \u001b[0mutil\u001b[0m\u001b[0;34m.\u001b[0m\u001b[0mraise_from_cause\u001b[0m\u001b[0;34m(\u001b[0m\u001b[0mnewraise\u001b[0m\u001b[0;34m,\u001b[0m \u001b[0mexc_info\u001b[0m\u001b[0;34m)\u001b[0m\u001b[0;34m\u001b[0m\u001b[0;34m\u001b[0m\u001b[0m\n\u001b[1;32m   1465\u001b[0m             \u001b[0;32melif\u001b[0m \u001b[0mshould_wrap\u001b[0m\u001b[0;34m:\u001b[0m\u001b[0;34m\u001b[0m\u001b[0;34m\u001b[0m\u001b[0m\n\u001b[0;32m-> 1466\u001b[0;31m                 \u001b[0mutil\u001b[0m\u001b[0;34m.\u001b[0m\u001b[0mraise_from_cause\u001b[0m\u001b[0;34m(\u001b[0m\u001b[0msqlalchemy_exception\u001b[0m\u001b[0;34m,\u001b[0m \u001b[0mexc_info\u001b[0m\u001b[0;34m)\u001b[0m\u001b[0;34m\u001b[0m\u001b[0;34m\u001b[0m\u001b[0m\n\u001b[0m\u001b[1;32m   1467\u001b[0m             \u001b[0;32melse\u001b[0m\u001b[0;34m:\u001b[0m\u001b[0;34m\u001b[0m\u001b[0;34m\u001b[0m\u001b[0m\n\u001b[1;32m   1468\u001b[0m                 \u001b[0mutil\u001b[0m\u001b[0;34m.\u001b[0m\u001b[0mreraise\u001b[0m\u001b[0;34m(\u001b[0m\u001b[0;34m*\u001b[0m\u001b[0mexc_info\u001b[0m\u001b[0;34m)\u001b[0m\u001b[0;34m\u001b[0m\u001b[0;34m\u001b[0m\u001b[0m\n",
      "\u001b[0;32m~/anaconda3/envs/air-quality/lib/python3.7/site-packages/sqlalchemy/util/compat.py\u001b[0m in \u001b[0;36mraise_from_cause\u001b[0;34m(exception, exc_info)\u001b[0m\n\u001b[1;32m    397\u001b[0m     \u001b[0mexc_type\u001b[0m\u001b[0;34m,\u001b[0m \u001b[0mexc_value\u001b[0m\u001b[0;34m,\u001b[0m \u001b[0mexc_tb\u001b[0m \u001b[0;34m=\u001b[0m \u001b[0mexc_info\u001b[0m\u001b[0;34m\u001b[0m\u001b[0;34m\u001b[0m\u001b[0m\n\u001b[1;32m    398\u001b[0m     \u001b[0mcause\u001b[0m \u001b[0;34m=\u001b[0m \u001b[0mexc_value\u001b[0m \u001b[0;32mif\u001b[0m \u001b[0mexc_value\u001b[0m \u001b[0;32mis\u001b[0m \u001b[0;32mnot\u001b[0m \u001b[0mexception\u001b[0m \u001b[0;32melse\u001b[0m \u001b[0;32mNone\u001b[0m\u001b[0;34m\u001b[0m\u001b[0;34m\u001b[0m\u001b[0m\n\u001b[0;32m--> 399\u001b[0;31m     \u001b[0mreraise\u001b[0m\u001b[0;34m(\u001b[0m\u001b[0mtype\u001b[0m\u001b[0;34m(\u001b[0m\u001b[0mexception\u001b[0m\u001b[0;34m)\u001b[0m\u001b[0;34m,\u001b[0m \u001b[0mexception\u001b[0m\u001b[0;34m,\u001b[0m \u001b[0mtb\u001b[0m\u001b[0;34m=\u001b[0m\u001b[0mexc_tb\u001b[0m\u001b[0;34m,\u001b[0m \u001b[0mcause\u001b[0m\u001b[0;34m=\u001b[0m\u001b[0mcause\u001b[0m\u001b[0;34m)\u001b[0m\u001b[0;34m\u001b[0m\u001b[0;34m\u001b[0m\u001b[0m\n\u001b[0m\u001b[1;32m    400\u001b[0m \u001b[0;34m\u001b[0m\u001b[0m\n\u001b[1;32m    401\u001b[0m \u001b[0;34m\u001b[0m\u001b[0m\n",
      "\u001b[0;32m~/anaconda3/envs/air-quality/lib/python3.7/site-packages/sqlalchemy/util/compat.py\u001b[0m in \u001b[0;36mreraise\u001b[0;34m(tp, value, tb, cause)\u001b[0m\n\u001b[1;32m    151\u001b[0m             \u001b[0mvalue\u001b[0m\u001b[0;34m.\u001b[0m\u001b[0m__cause__\u001b[0m \u001b[0;34m=\u001b[0m \u001b[0mcause\u001b[0m\u001b[0;34m\u001b[0m\u001b[0;34m\u001b[0m\u001b[0m\n\u001b[1;32m    152\u001b[0m         \u001b[0;32mif\u001b[0m \u001b[0mvalue\u001b[0m\u001b[0;34m.\u001b[0m\u001b[0m__traceback__\u001b[0m \u001b[0;32mis\u001b[0m \u001b[0;32mnot\u001b[0m \u001b[0mtb\u001b[0m\u001b[0;34m:\u001b[0m\u001b[0;34m\u001b[0m\u001b[0;34m\u001b[0m\u001b[0m\n\u001b[0;32m--> 153\u001b[0;31m             \u001b[0;32mraise\u001b[0m \u001b[0mvalue\u001b[0m\u001b[0;34m.\u001b[0m\u001b[0mwith_traceback\u001b[0m\u001b[0;34m(\u001b[0m\u001b[0mtb\u001b[0m\u001b[0;34m)\u001b[0m\u001b[0;34m\u001b[0m\u001b[0;34m\u001b[0m\u001b[0m\n\u001b[0m\u001b[1;32m    154\u001b[0m         \u001b[0;32mraise\u001b[0m \u001b[0mvalue\u001b[0m\u001b[0;34m\u001b[0m\u001b[0;34m\u001b[0m\u001b[0m\n\u001b[1;32m    155\u001b[0m \u001b[0;34m\u001b[0m\u001b[0m\n",
      "\u001b[0;32m~/anaconda3/envs/air-quality/lib/python3.7/site-packages/sqlalchemy/engine/base.py\u001b[0m in \u001b[0;36m_execute_context\u001b[0;34m(self, dialect, constructor, statement, parameters, *args)\u001b[0m\n\u001b[1;32m   1222\u001b[0m                 \u001b[0;32mif\u001b[0m \u001b[0;32mnot\u001b[0m \u001b[0mevt_handled\u001b[0m\u001b[0;34m:\u001b[0m\u001b[0;34m\u001b[0m\u001b[0;34m\u001b[0m\u001b[0m\n\u001b[1;32m   1223\u001b[0m                     self.dialect.do_executemany(\n\u001b[0;32m-> 1224\u001b[0;31m                         \u001b[0mcursor\u001b[0m\u001b[0;34m,\u001b[0m \u001b[0mstatement\u001b[0m\u001b[0;34m,\u001b[0m \u001b[0mparameters\u001b[0m\u001b[0;34m,\u001b[0m \u001b[0mcontext\u001b[0m\u001b[0;34m\u001b[0m\u001b[0;34m\u001b[0m\u001b[0m\n\u001b[0m\u001b[1;32m   1225\u001b[0m                     )\n\u001b[1;32m   1226\u001b[0m             \u001b[0;32melif\u001b[0m \u001b[0;32mnot\u001b[0m \u001b[0mparameters\u001b[0m \u001b[0;32mand\u001b[0m \u001b[0mcontext\u001b[0m\u001b[0;34m.\u001b[0m\u001b[0mno_parameters\u001b[0m\u001b[0;34m:\u001b[0m\u001b[0;34m\u001b[0m\u001b[0;34m\u001b[0m\u001b[0m\n",
      "\u001b[0;32m~/anaconda3/envs/air-quality/lib/python3.7/site-packages/sqlalchemy/dialects/postgresql/psycopg2.py\u001b[0m in \u001b[0;36mdo_executemany\u001b[0;34m(self, cursor, statement, parameters, context)\u001b[0m\n\u001b[1;32m    771\u001b[0m             \u001b[0mextras\u001b[0m\u001b[0;34m.\u001b[0m\u001b[0mexecute_batch\u001b[0m\u001b[0;34m(\u001b[0m\u001b[0mcursor\u001b[0m\u001b[0;34m,\u001b[0m \u001b[0mstatement\u001b[0m\u001b[0;34m,\u001b[0m \u001b[0mparameters\u001b[0m\u001b[0;34m)\u001b[0m\u001b[0;34m\u001b[0m\u001b[0;34m\u001b[0m\u001b[0m\n\u001b[1;32m    772\u001b[0m         \u001b[0;32melse\u001b[0m\u001b[0;34m:\u001b[0m\u001b[0;34m\u001b[0m\u001b[0;34m\u001b[0m\u001b[0m\n\u001b[0;32m--> 773\u001b[0;31m             \u001b[0mcursor\u001b[0m\u001b[0;34m.\u001b[0m\u001b[0mexecutemany\u001b[0m\u001b[0;34m(\u001b[0m\u001b[0mstatement\u001b[0m\u001b[0;34m,\u001b[0m \u001b[0mparameters\u001b[0m\u001b[0;34m)\u001b[0m\u001b[0;34m\u001b[0m\u001b[0;34m\u001b[0m\u001b[0m\n\u001b[0m\u001b[1;32m    774\u001b[0m \u001b[0;34m\u001b[0m\u001b[0m\n\u001b[1;32m    775\u001b[0m     \u001b[0;34m@\u001b[0m\u001b[0mutil\u001b[0m\u001b[0;34m.\u001b[0m\u001b[0mmemoized_instancemethod\u001b[0m\u001b[0;34m\u001b[0m\u001b[0;34m\u001b[0m\u001b[0m\n",
      "\u001b[0;31mProgrammingError\u001b[0m: (psycopg2.ProgrammingError) can't adapt type 'numpy.ndarray'\n[SQL: INSERT INTO frame_level (obj_ind, camera_id, frame_id, date, time, obj_bounds, obj_classification, confidence, video_id) VALUES (%(obj_ind)s, %(camera_id)s, %(frame_id)s, %(date)s, %(time)s, %(obj_bounds)s, %(obj_classification)s, %(confidence)s, %(video_id)s)]\n[parameters: ({'obj_ind': 0, 'camera_id': '00001.06590', 'frame_id': 0, 'date': datetime.date(2019, 6, 29), 'time': datetime.time(13, 0, 40, 71379), 'obj_bounds': array([178, 204, 196, 224]), 'obj_classification': 'car', 'confidence': 0.41550174355506897, 'video_id': 0}, {'obj_ind': 0, 'camera_id': '00001.06590', 'frame_id': 1, 'date': datetime.date(2019, 6, 29), 'time': datetime.time(13, 0, 40, 71379), 'obj_bounds': array([176, 204, 196, 224]), 'obj_classification': 'car', 'confidence': 0.4379068613052368, 'video_id': 0}, {'obj_ind': 0, 'camera_id': '00001.06590', 'frame_id': 2, 'date': datetime.date(2019, 6, 29), 'time': datetime.time(13, 0, 40, 71379), 'obj_bounds': array([181, 204, 199, 224]), 'obj_classification': 'car', 'confidence': 0.42200514674186707, 'video_id': 0}, {'obj_ind': 0, 'camera_id': '00001.06590', 'frame_id': 3, 'date': datetime.date(2019, 6, 29), 'time': datetime.time(13, 0, 40, 71379), 'obj_bounds': array([182, 206, 200, 224]), 'obj_classification': 'car', 'confidence': 0.4847429692745209, 'video_id': 0}, {'obj_ind': 0, 'camera_id': '00001.06590', 'frame_id': 4, 'date': datetime.date(2019, 6, 29), 'time': datetime.time(13, 0, 40, 71379), 'obj_bounds': array([182, 205, 200, 223]), 'obj_classification': 'car', 'confidence': 0.557348906993866, 'video_id': 0}, {'obj_ind': 0, 'camera_id': '00001.06590', 'frame_id': 5, 'date': datetime.date(2019, 6, 29), 'time': datetime.time(13, 0, 40, 71379), 'obj_bounds': array([182, 205, 200, 223]), 'obj_classification': 'car', 'confidence': 0.4748775362968445, 'video_id': 0}, {'obj_ind': 0, 'camera_id': '00001.06590', 'frame_id': 6, 'date': datetime.date(2019, 6, 29), 'time': datetime.time(13, 0, 40, 71379), 'obj_bounds': array([182, 204, 200, 224]), 'obj_classification': 'car', 'confidence': 0.5295014381408691, 'video_id': 0}, {'obj_ind': 0, 'camera_id': '00001.06590', 'frame_id': 7, 'date': datetime.date(2019, 6, 29), 'time': datetime.time(13, 0, 40, 71379), 'obj_bounds': array([182, 206, 200, 224]), 'obj_classification': 'car', 'confidence': 0.4543188214302063, 'video_id': 0}  ... displaying 10 of 2886 total bound parameter sets ...  {'obj_ind': 0, 'camera_id': '00001.08926', 'frame_id': 236, 'date': datetime.date(2019, 6, 27), 'time': datetime.time(13, 2, 14, 669859), 'obj_bounds': array([121,  68, 131,  74]), 'obj_classification': 'car', 'confidence': 0.589018702507019, 'video_id': 3}, {'obj_ind': 1, 'camera_id': '00001.08926', 'frame_id': 236, 'date': datetime.date(2019, 6, 27), 'time': datetime.time(13, 2, 14, 669859), 'obj_bounds': array([286,  76, 296,  82]), 'obj_classification': 'car', 'confidence': 0.42993438243865967, 'video_id': 3})]\n(Background on this error at: http://sqlalche.me/e/f405)"
     ]
    }
   ],
   "source": [
    "df.to_sql(name='frame_level',con=conn)"
   ]
  },
  {
   "cell_type": "code",
   "execution_count": null,
   "metadata": {},
   "outputs": [],
   "source": [
    "query = \"\"\"\n",
    "select *\n",
    "from cases\n",
    "limit 10;\n",
    "\"\"\"\n",
    "\n",
    "df = pd.read_sql(query, conn)\n",
    "df.head()"
   ]
  },
  {
   "cell_type": "code",
   "execution_count": null,
   "metadata": {},
   "outputs": [],
   "source": []
  },
  {
   "cell_type": "code",
   "execution_count": 9,
   "metadata": {},
   "outputs": [],
   "source": [
    "import os\n",
    "import yaml\n",
    "\n",
    "with open(src_dir + '/../conf/local/credentials.yml') as f:\n",
    "    credentials = yaml.safe_load(f)\n"
   ]
  },
  {
   "cell_type": "code",
   "execution_count": 10,
   "metadata": {},
   "outputs": [
    {
     "ename": "NameError",
     "evalue": "name '_bucket_name' is not defined",
     "output_type": "error",
     "traceback": [
      "\u001b[0;31m---------------------------------------------------------------------------\u001b[0m",
      "\u001b[0;31mNameError\u001b[0m                                 Traceback (most recent call last)",
      "\u001b[0;32m<ipython-input-10-766af0c0b0da>\u001b[0m in \u001b[0;36m<module>\u001b[0;34m\u001b[0m\n\u001b[0;32m----> 1\u001b[0;31m \u001b[0mprint\u001b[0m\u001b[0;34m(\u001b[0m\u001b[0;34m\"{}/{}\"\u001b[0m\u001b[0;34m.\u001b[0m\u001b[0mformat\u001b[0m\u001b[0;34m(\u001b[0m\u001b[0m_bucket_name\u001b[0m\u001b[0;34m,\u001b[0m \u001b[0mload_key\u001b[0m\u001b[0;34m)\u001b[0m\u001b[0;34m)\u001b[0m\u001b[0;34m\u001b[0m\u001b[0;34m\u001b[0m\u001b[0m\n\u001b[0m",
      "\u001b[0;31mNameError\u001b[0m: name '_bucket_name' is not defined"
     ]
    }
   ],
   "source": [
    "print(\"{}/{}\".format(_bucket_name, load_key))"
   ]
  },
  {
   "cell_type": "code",
   "execution_count": 11,
   "metadata": {},
   "outputs": [
    {
     "ename": "FileNotFoundError",
     "evalue": "air-pollution-uk/frame_level/frame_table",
     "output_type": "error",
     "traceback": [
      "\u001b[0;31m---------------------------------------------------------------------------\u001b[0m",
      "\u001b[0;31mClientError\u001b[0m                               Traceback (most recent call last)",
      "\u001b[0;32m~/anaconda3/envs/air-quality/lib/python3.7/site-packages/s3fs/core.py\u001b[0m in \u001b[0;36minfo\u001b[0;34m(self, path, version_id, refresh, **kwargs)\u001b[0m\n\u001b[1;32m    525\u001b[0m             out = self._call_s3(self.s3.head_object, kwargs, Bucket=bucket,\n\u001b[0;32m--> 526\u001b[0;31m                                 Key=key, **self.req_kw)\n\u001b[0m\u001b[1;32m    527\u001b[0m             return {\n",
      "\u001b[0;32m~/anaconda3/envs/air-quality/lib/python3.7/site-packages/s3fs/core.py\u001b[0m in \u001b[0;36m_call_s3\u001b[0;34m(self, method, *akwarglist, **kwargs)\u001b[0m\n\u001b[1;32m    194\u001b[0m                                                        **kwargs)\n\u001b[0;32m--> 195\u001b[0;31m         \u001b[0;32mreturn\u001b[0m \u001b[0mmethod\u001b[0m\u001b[0;34m(\u001b[0m\u001b[0;34m**\u001b[0m\u001b[0madditional_kwargs\u001b[0m\u001b[0;34m)\u001b[0m\u001b[0;34m\u001b[0m\u001b[0;34m\u001b[0m\u001b[0m\n\u001b[0m\u001b[1;32m    196\u001b[0m \u001b[0;34m\u001b[0m\u001b[0m\n",
      "\u001b[0;32m~/anaconda3/envs/air-quality/lib/python3.7/site-packages/botocore/client.py\u001b[0m in \u001b[0;36m_api_call\u001b[0;34m(self, *args, **kwargs)\u001b[0m\n\u001b[1;32m    356\u001b[0m             \u001b[0;31m# The \"self\" in this scope is referring to the BaseClient.\u001b[0m\u001b[0;34m\u001b[0m\u001b[0;34m\u001b[0m\u001b[0;34m\u001b[0m\u001b[0m\n\u001b[0;32m--> 357\u001b[0;31m             \u001b[0;32mreturn\u001b[0m \u001b[0mself\u001b[0m\u001b[0;34m.\u001b[0m\u001b[0m_make_api_call\u001b[0m\u001b[0;34m(\u001b[0m\u001b[0moperation_name\u001b[0m\u001b[0;34m,\u001b[0m \u001b[0mkwargs\u001b[0m\u001b[0;34m)\u001b[0m\u001b[0;34m\u001b[0m\u001b[0;34m\u001b[0m\u001b[0m\n\u001b[0m\u001b[1;32m    358\u001b[0m \u001b[0;34m\u001b[0m\u001b[0m\n",
      "\u001b[0;32m~/anaconda3/envs/air-quality/lib/python3.7/site-packages/botocore/client.py\u001b[0m in \u001b[0;36m_make_api_call\u001b[0;34m(self, operation_name, api_params)\u001b[0m\n\u001b[1;32m    660\u001b[0m             \u001b[0merror_class\u001b[0m \u001b[0;34m=\u001b[0m \u001b[0mself\u001b[0m\u001b[0;34m.\u001b[0m\u001b[0mexceptions\u001b[0m\u001b[0;34m.\u001b[0m\u001b[0mfrom_code\u001b[0m\u001b[0;34m(\u001b[0m\u001b[0merror_code\u001b[0m\u001b[0;34m)\u001b[0m\u001b[0;34m\u001b[0m\u001b[0;34m\u001b[0m\u001b[0m\n\u001b[0;32m--> 661\u001b[0;31m             \u001b[0;32mraise\u001b[0m \u001b[0merror_class\u001b[0m\u001b[0;34m(\u001b[0m\u001b[0mparsed_response\u001b[0m\u001b[0;34m,\u001b[0m \u001b[0moperation_name\u001b[0m\u001b[0;34m)\u001b[0m\u001b[0;34m\u001b[0m\u001b[0;34m\u001b[0m\u001b[0m\n\u001b[0m\u001b[1;32m    662\u001b[0m         \u001b[0;32melse\u001b[0m\u001b[0;34m:\u001b[0m\u001b[0;34m\u001b[0m\u001b[0;34m\u001b[0m\u001b[0m\n",
      "\u001b[0;31mClientError\u001b[0m: An error occurred (404) when calling the HeadObject operation: Not Found",
      "\nThe above exception was the direct cause of the following exception:\n",
      "\u001b[0;31mFileNotFoundError\u001b[0m                         Traceback (most recent call last)",
      "\u001b[0;32m<ipython-input-11-c2aefcdeb663>\u001b[0m in \u001b[0;36m<module>\u001b[0;34m\u001b[0m\n\u001b[1;32m      5\u001b[0m \u001b[0mload_key\u001b[0m \u001b[0;34m=\u001b[0m \u001b[0;34m'frame_level/frame_table/'\u001b[0m\u001b[0;34m\u001b[0m\u001b[0;34m\u001b[0m\u001b[0m\n\u001b[1;32m      6\u001b[0m \u001b[0;34m\u001b[0m\u001b[0m\n\u001b[0;32m----> 7\u001b[0;31m \u001b[0;32mwith\u001b[0m \u001b[0m_s3\u001b[0m\u001b[0;34m.\u001b[0m\u001b[0mopen\u001b[0m\u001b[0;34m(\u001b[0m\u001b[0;34m\"{}/{}\"\u001b[0m\u001b[0;34m.\u001b[0m\u001b[0mformat\u001b[0m\u001b[0;34m(\u001b[0m\u001b[0m_bucket_name\u001b[0m\u001b[0;34m,\u001b[0m \u001b[0mload_key\u001b[0m\u001b[0;34m)\u001b[0m\u001b[0;34m,\u001b[0m \u001b[0mmode\u001b[0m\u001b[0;34m=\u001b[0m\u001b[0;34m\"rb\"\u001b[0m\u001b[0;34m)\u001b[0m \u001b[0;32mas\u001b[0m \u001b[0ms3_file\u001b[0m\u001b[0;34m:\u001b[0m\u001b[0;34m\u001b[0m\u001b[0;34m\u001b[0m\u001b[0m\n\u001b[0m\u001b[1;32m      8\u001b[0m     \u001b[0mdf\u001b[0m \u001b[0;34m=\u001b[0m \u001b[0mpd\u001b[0m\u001b[0;34m.\u001b[0m\u001b[0mread_parquet\u001b[0m\u001b[0;34m(\u001b[0m\u001b[0ms3_file\u001b[0m\u001b[0;34m)\u001b[0m\u001b[0;34m\u001b[0m\u001b[0;34m\u001b[0m\u001b[0m\n",
      "\u001b[0;32m~/anaconda3/envs/air-quality/lib/python3.7/site-packages/s3fs/core.py\u001b[0m in \u001b[0;36mopen\u001b[0;34m(self, path, mode, block_size, acl, version_id, fill_cache, encoding, **kwargs)\u001b[0m\n\u001b[1;32m    350\u001b[0m         fdesc = S3File(self, path, mode2, block_size=block_size, acl=acl,\n\u001b[1;32m    351\u001b[0m                        \u001b[0mversion_id\u001b[0m\u001b[0;34m=\u001b[0m\u001b[0mversion_id\u001b[0m\u001b[0;34m,\u001b[0m \u001b[0mfill_cache\u001b[0m\u001b[0;34m=\u001b[0m\u001b[0mfill_cache\u001b[0m\u001b[0;34m,\u001b[0m\u001b[0;34m\u001b[0m\u001b[0;34m\u001b[0m\u001b[0m\n\u001b[0;32m--> 352\u001b[0;31m                        s3_additional_kwargs=kw)\n\u001b[0m\u001b[1;32m    353\u001b[0m         \u001b[0;32mif\u001b[0m \u001b[0;34m'b'\u001b[0m \u001b[0;32min\u001b[0m \u001b[0mmode\u001b[0m\u001b[0;34m:\u001b[0m\u001b[0;34m\u001b[0m\u001b[0;34m\u001b[0m\u001b[0m\n\u001b[1;32m    354\u001b[0m             \u001b[0;32mreturn\u001b[0m \u001b[0mfdesc\u001b[0m\u001b[0;34m\u001b[0m\u001b[0;34m\u001b[0m\u001b[0m\n",
      "\u001b[0;32m~/anaconda3/envs/air-quality/lib/python3.7/site-packages/s3fs/core.py\u001b[0m in \u001b[0;36m__init__\u001b[0;34m(self, s3, path, mode, block_size, acl, version_id, fill_cache, s3_additional_kwargs)\u001b[0m\n\u001b[1;32m   1208\u001b[0m         \u001b[0;32melse\u001b[0m\u001b[0;34m:\u001b[0m\u001b[0;34m\u001b[0m\u001b[0;34m\u001b[0m\u001b[0m\n\u001b[1;32m   1209\u001b[0m             \u001b[0;32mtry\u001b[0m\u001b[0;34m:\u001b[0m\u001b[0;34m\u001b[0m\u001b[0;34m\u001b[0m\u001b[0m\n\u001b[0;32m-> 1210\u001b[0;31m                 \u001b[0minfo\u001b[0m \u001b[0;34m=\u001b[0m \u001b[0mself\u001b[0m\u001b[0;34m.\u001b[0m\u001b[0minfo\u001b[0m\u001b[0;34m(\u001b[0m\u001b[0;34m)\u001b[0m\u001b[0;34m\u001b[0m\u001b[0;34m\u001b[0m\u001b[0m\n\u001b[0m\u001b[1;32m   1211\u001b[0m                 \u001b[0mself\u001b[0m\u001b[0;34m.\u001b[0m\u001b[0msize\u001b[0m \u001b[0;34m=\u001b[0m \u001b[0minfo\u001b[0m\u001b[0;34m[\u001b[0m\u001b[0;34m'Size'\u001b[0m\u001b[0;34m]\u001b[0m\u001b[0;34m\u001b[0m\u001b[0;34m\u001b[0m\u001b[0m\n\u001b[1;32m   1212\u001b[0m                 \u001b[0;32mif\u001b[0m \u001b[0mself\u001b[0m\u001b[0;34m.\u001b[0m\u001b[0ms3\u001b[0m\u001b[0;34m.\u001b[0m\u001b[0mversion_aware\u001b[0m\u001b[0;34m:\u001b[0m\u001b[0;34m\u001b[0m\u001b[0;34m\u001b[0m\u001b[0m\n",
      "\u001b[0;32m~/anaconda3/envs/air-quality/lib/python3.7/site-packages/s3fs/core.py\u001b[0m in \u001b[0;36minfo\u001b[0;34m(self, **kwargs)\u001b[0m\n\u001b[1;32m   1226\u001b[0m         \u001b[0mrefresh\u001b[0m \u001b[0;34m=\u001b[0m \u001b[0mself\u001b[0m\u001b[0;34m.\u001b[0m\u001b[0ms3\u001b[0m\u001b[0;34m.\u001b[0m\u001b[0mversion_aware\u001b[0m\u001b[0;34m\u001b[0m\u001b[0;34m\u001b[0m\u001b[0m\n\u001b[1;32m   1227\u001b[0m         return self.s3.info(self.path, version_id=self.version_id,\n\u001b[0;32m-> 1228\u001b[0;31m                             refresh=refresh, **kwargs)\n\u001b[0m\u001b[1;32m   1229\u001b[0m \u001b[0;34m\u001b[0m\u001b[0m\n\u001b[1;32m   1230\u001b[0m     \u001b[0;32mdef\u001b[0m \u001b[0mmetadata\u001b[0m\u001b[0;34m(\u001b[0m\u001b[0mself\u001b[0m\u001b[0;34m,\u001b[0m \u001b[0mrefresh\u001b[0m\u001b[0;34m=\u001b[0m\u001b[0;32mFalse\u001b[0m\u001b[0;34m,\u001b[0m \u001b[0;34m**\u001b[0m\u001b[0mkwargs\u001b[0m\u001b[0;34m)\u001b[0m\u001b[0;34m:\u001b[0m\u001b[0;34m\u001b[0m\u001b[0;34m\u001b[0m\u001b[0m\n",
      "\u001b[0;32m~/anaconda3/envs/air-quality/lib/python3.7/site-packages/s3fs/core.py\u001b[0m in \u001b[0;36minfo\u001b[0;34m(self, path, version_id, refresh, **kwargs)\u001b[0m\n\u001b[1;32m    535\u001b[0m         \u001b[0;32mexcept\u001b[0m \u001b[0;34m(\u001b[0m\u001b[0mClientError\u001b[0m\u001b[0;34m,\u001b[0m \u001b[0mParamValidationError\u001b[0m\u001b[0;34m)\u001b[0m \u001b[0;32mas\u001b[0m \u001b[0me\u001b[0m\u001b[0;34m:\u001b[0m\u001b[0;34m\u001b[0m\u001b[0;34m\u001b[0m\u001b[0m\n\u001b[1;32m    536\u001b[0m             \u001b[0mlogger\u001b[0m\u001b[0;34m.\u001b[0m\u001b[0mdebug\u001b[0m\u001b[0;34m(\u001b[0m\u001b[0;34m\"Failed to head path %s\"\u001b[0m\u001b[0;34m,\u001b[0m \u001b[0mpath\u001b[0m\u001b[0;34m,\u001b[0m \u001b[0mexc_info\u001b[0m\u001b[0;34m=\u001b[0m\u001b[0;32mTrue\u001b[0m\u001b[0;34m)\u001b[0m\u001b[0;34m\u001b[0m\u001b[0;34m\u001b[0m\u001b[0m\n\u001b[0;32m--> 537\u001b[0;31m             \u001b[0mraise_from\u001b[0m\u001b[0;34m(\u001b[0m\u001b[0mFileNotFoundError\u001b[0m\u001b[0;34m(\u001b[0m\u001b[0mpath\u001b[0m\u001b[0;34m)\u001b[0m\u001b[0;34m,\u001b[0m \u001b[0me\u001b[0m\u001b[0;34m)\u001b[0m\u001b[0;34m\u001b[0m\u001b[0;34m\u001b[0m\u001b[0m\n\u001b[0m\u001b[1;32m    538\u001b[0m \u001b[0;34m\u001b[0m\u001b[0m\n\u001b[1;32m    539\u001b[0m     \u001b[0;32mdef\u001b[0m \u001b[0mobject_version_info\u001b[0m\u001b[0;34m(\u001b[0m\u001b[0mself\u001b[0m\u001b[0;34m,\u001b[0m \u001b[0mpath\u001b[0m\u001b[0;34m,\u001b[0m \u001b[0;34m**\u001b[0m\u001b[0mkwargs\u001b[0m\u001b[0;34m)\u001b[0m\u001b[0;34m:\u001b[0m\u001b[0;34m\u001b[0m\u001b[0;34m\u001b[0m\u001b[0m\n",
      "\u001b[0;32m~/anaconda3/envs/air-quality/lib/python3.7/site-packages/six.py\u001b[0m in \u001b[0;36mraise_from\u001b[0;34m(value, from_value)\u001b[0m\n",
      "\u001b[0;31mFileNotFoundError\u001b[0m: air-pollution-uk/frame_level/frame_table"
     ]
    }
   ],
   "source": [
    "from s3fs.core import S3FileSystem\n",
    "_credentials = credentials\n",
    "_s3 = S3FileSystem(client_kwargs=_credentials['dev_s3'])\n",
    "_bucket_name = 's3://' + paths['bucket_name']\n",
    "load_key = 'frame_level/frame_table/'\n",
    "\n",
    "with _s3.open(\"{}/{}\".format(_bucket_name, load_key), mode=\"rb\") as s3_file:\n",
    "    df = pd.read_parquet(s3_file)"
   ]
  },
  {
   "cell_type": "code",
   "execution_count": null,
   "metadata": {},
   "outputs": [],
   "source": []
  }
 ],
 "metadata": {
  "kernelspec": {
   "display_name": "air-quality",
   "language": "python",
   "name": "air-quality"
  },
  "language_info": {
   "codemirror_mode": {
    "name": "ipython",
    "version": 3
   },
   "file_extension": ".py",
   "mimetype": "text/x-python",
   "name": "python",
   "nbconvert_exporter": "python",
   "pygments_lexer": "ipython3",
   "version": "3.7.3"
  }
 },
 "nbformat": 4,
 "nbformat_minor": 2
}
