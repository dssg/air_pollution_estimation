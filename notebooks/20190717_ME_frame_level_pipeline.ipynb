{
 "cells": [
  {
   "cell_type": "markdown",
   "metadata": {},
   "source": [
    "# Imports"
   ]
  },
  {
   "cell_type": "code",
   "execution_count": null,
   "metadata": {},
   "outputs": [],
   "source": [
    "import os\n",
    "import sys\n",
    "import pandas as pd\n",
    "import datetime\n",
    "import subprocess\n",
    "import os\n",
    "import json\n"
   ]
  },
  {
   "cell_type": "code",
   "execution_count": null,
   "metadata": {},
   "outputs": [],
   "source": [
    "src_dir = os.path.join(os.getcwd(), '..', 'src')\n",
    "sys.path.append(src_dir)"
   ]
  },
  {
   "cell_type": "code",
   "execution_count": null,
   "metadata": {},
   "outputs": [],
   "source": [
    "from traffic_analysis.d00_utils.data_retrieval import delete_and_recreate_dir\n",
    "from traffic_analysis.d00_utils.load_confs import load_parameters, load_paths\n",
    "from traffic_analysis.d02_ref.load_video_names_from_s3 import load_video_names_from_s3\n",
    "from traffic_analysis.d02_ref.retrieve_and_upload_video_names_to_s3 import retrieve_and_upload_video_names_to_s3\n",
    "from traffic_analysis.d02_ref.upload_annotation_names_to_s3 import upload_annotation_names_to_s3\n",
    "from traffic_analysis.d03_processing.update_s3_processed import update_frame_level_table\n",
    "\n",
    "params = load_parameters()\n",
    "paths = load_paths()"
   ]
  },
  {
   "cell_type": "markdown",
   "metadata": {},
   "source": [
    "# Analysis"
   ]
  },
  {
   "cell_type": "code",
   "execution_count": null,
   "metadata": {},
   "outputs": [],
   "source": [
    "#retrieve_and_upload_video_names_to_s3(ouput_file_name='test_search',\n",
    "#                                      paths=paths,\n",
    "#                                      from_date='2019-06-30',\n",
    "#                                      to_date='2019-06-30',\n",
    "#                                      from_time='13-00-00',\n",
    "#                                      to_time='13-05-00',\n",
    "#                                      camera_list=params['tims_camera_list'][:2])"
   ]
  },
  {
   "cell_type": "code",
   "execution_count": null,
   "metadata": {},
   "outputs": [],
   "source": [
    "#upload_annotation_names_to_s3(paths)"
   ]
  },
  {
   "cell_type": "code",
   "execution_count": null,
   "metadata": {},
   "outputs": [],
   "source": [
    "selected_videos = load_video_names_from_s3(ref_file='test_search',\n",
    "                                           paths=paths)"
   ]
  },
  {
   "cell_type": "code",
   "execution_count": null,
   "metadata": {},
   "outputs": [],
   "source": [
    "chunk_size = params['chunk_size']"
   ]
  },
  {
   "cell_type": "code",
   "execution_count": null,
   "metadata": {},
   "outputs": [],
   "source": [
    "chunk_size"
   ]
  },
  {
   "cell_type": "code",
   "execution_count": null,
   "metadata": {},
   "outputs": [],
   "source": [
    "selected_videos"
   ]
  },
  {
   "cell_type": "code",
   "execution_count": null,
   "metadata": {},
   "outputs": [],
   "source": [
    "update_frame_level_table(file_names=selected_videos[6:10],\n",
    "                         paths=paths,\n",
    "                         params=params)"
   ]
  },
  {
   "cell_type": "code",
   "execution_count": null,
   "metadata": {},
   "outputs": [],
   "source": [
    "from traffic_analysis.d03_processing.update_s3_processed import load_s3_parquet"
   ]
  },
  {
   "cell_type": "code",
   "execution_count": null,
   "metadata": {},
   "outputs": [],
   "source": [
    "df = load_s3_parquet(file='frame_table', paths=paths)\n",
    "df.head()"
   ]
  },
  {
   "cell_type": "code",
   "execution_count": null,
   "metadata": {},
   "outputs": [],
   "source": [
    "df.loc[(df.camera_id == '00001.04336') & (df.frame_id == 0)]"
   ]
  },
  {
   "cell_type": "code",
   "execution_count": null,
   "metadata": {},
   "outputs": [],
   "source": [
    "len(df.camera_id.unique())"
   ]
  },
  {
   "cell_type": "code",
   "execution_count": null,
   "metadata": {},
   "outputs": [],
   "source": [
    "from sqlalchemy import create_engine\n",
    "db_host = parameters['DATABASE_PARAMS']['db_host']\n",
    "db_name = parameters['DATABASE_PARAMS']['db_name']\n",
    "db_user = credentials['dev_sql']['username']\n",
    "db_pass = credentials['dev_sql']['password']\n",
    "\n",
    "conn = create_engine('postgresql://%s:%s@%s/%s' % \n",
    "                       (db_user, db_pass, db_host, db_name),\n",
    "                       encoding = 'latin1', \n",
    "                       echo = True)"
   ]
  },
  {
   "cell_type": "code",
   "execution_count": null,
   "metadata": {},
   "outputs": [],
   "source": [
    "df.to_sql(name='frame_level',con=conn)"
   ]
  },
  {
   "cell_type": "code",
   "execution_count": null,
   "metadata": {},
   "outputs": [],
   "source": [
    "query = \"\"\"\n",
    "select *\n",
    "from cases\n",
    "limit 10;\n",
    "\"\"\"\n",
    "\n",
    "df = pd.read_sql(query, conn)\n",
    "df.head()"
   ]
  },
  {
   "cell_type": "code",
   "execution_count": null,
   "metadata": {},
   "outputs": [],
   "source": []
  },
  {
   "cell_type": "code",
   "execution_count": null,
   "metadata": {},
   "outputs": [],
   "source": [
    "import os\n",
    "import yaml\n",
    "\n",
    "with open(src_dir + '/../conf/local/credentials.yml') as f:\n",
    "    credentials = yaml.safe_load(f)\n"
   ]
  },
  {
   "cell_type": "code",
   "execution_count": null,
   "metadata": {},
   "outputs": [],
   "source": [
    "print(\"{}/{}\".format(_bucket_name, load_key))"
   ]
  },
  {
   "cell_type": "code",
   "execution_count": null,
   "metadata": {},
   "outputs": [],
   "source": [
    "from s3fs.core import S3FileSystem\n",
    "_credentials = credentials\n",
    "_s3 = S3FileSystem(client_kwargs=_credentials['dev_s3'])\n",
    "_bucket_name = 's3://' + paths['bucket_name']\n",
    "load_key = 'frame_level/frame_table/'\n",
    "\n",
    "with _s3.open(\"{}/{}\".format(_bucket_name, load_key), mode=\"rb\") as s3_file:\n",
    "    df = pd.read_parquet(s3_file)"
   ]
  },
  {
   "cell_type": "code",
   "execution_count": null,
   "metadata": {},
   "outputs": [],
   "source": []
  }
 ],
 "metadata": {
  "kernelspec": {
   "display_name": "dssg",
   "language": "python",
   "name": "dssg"
  },
  "language_info": {
   "codemirror_mode": {
    "name": "ipython",
    "version": 3
   },
   "file_extension": ".py",
   "mimetype": "text/x-python",
   "name": "python",
   "nbconvert_exporter": "python",
   "pygments_lexer": "ipython3",
   "version": "3.7.3"
  }
 },
 "nbformat": 4,
 "nbformat_minor": 2
}
